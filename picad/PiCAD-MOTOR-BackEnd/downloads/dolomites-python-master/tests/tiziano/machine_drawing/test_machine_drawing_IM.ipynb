{
  "cells": [
    {
      "cell_type": "markdown",
      "source": [
        "# Test machine_drawing module capabilities\n",
        "\n",
        "## Induction Machine drawing - Example\n",
        "### Induction motor IEC 100.4-150x90 standard lamination geometry.\n"
      ],
      "metadata": {
        "nteract": {
          "transient": {
            "deleting": false
          }
        }
      }
    },
    {
      "cell_type": "code",
      "source": [
        "# Import useful modules\n",
        "from dolomites import tiziano\n",
        "import machine_drawing as draw_em\n"
      ],
      "outputs": [],
      "execution_count": null,
      "metadata": {
        "collapsed": true,
        "jupyter": {
          "source_hidden": false,
          "outputs_hidden": false
        },
        "nteract": {
          "transient": {
            "deleting": false
          }
        }
      }
    },
    {
      "cell_type": "code",
      "source": [
        "# Define unit length\n",
        "mm = 1e-3  # millimeters\n"
      ],
      "outputs": [],
      "execution_count": null,
      "metadata": {
        "collapsed": true,
        "jupyter": {
          "source_hidden": false,
          "outputs_hidden": false
        },
        "nteract": {
          "transient": {
            "deleting": false
          }
        }
      }
    },
    {
      "cell_type": "code",
      "source": [
        "# Induction Motor geometry data ================================================\n",
        "# -- From IEC 100.4-150x90 datasheet --\n",
        "\n",
        "r = 1         # inner rotor, outer stator\n",
        "g = 0.2*mm    # airgap thickness\n",
        "\n",
        "# Stator ***********************************************************************\n",
        "Ds = 90*mm     # stator inner diameter\n",
        "Dse = 150*mm   # stator outer diameter\n",
        "Qs = 36        # stator number of slots\n",
        "# Stator slot (trapezoidal slots - rectangular teeth) ---------------------------\n",
        "wt_s = 4.15*mm   # stator teeth width\n",
        "wso = 2.3*mm     # slot opening width\n",
        "hso = 0.65*mm    # slot opening height\n",
        "hs1 = 0*mm       # slot first height after opening (not needed in this case)\n",
        "R1_s = 2.05*mm   # rounding radius of corner near slot opening\n",
        "hwed_s = 1*mm    # wedge height\n",
        "hs = 16.31*mm    # slot total height\n",
        "R2_s = 1.2*mm    # roudning radius of corner far from slot opening\n",
        "# ******************************************************************************\n",
        "\n",
        "# Rotor (squirrel cage) ********************************************************\n",
        "Dre = 30*mm      # rotor inner diameter (shaft diameter)\n",
        "Qr = 28          # squirrel cage number of slots\n",
        "# Rotor slot (trapezoidal slots- rectangular teeth) ----------------------------\n",
        "wt_r = 5.1*mm    # rotor teeth width\n",
        "wro = 1.1*mm     # slot opening width\n",
        "hro = 0*mm       # slot opening height\n",
        "hr1 = 0*mm       # slot first height after opening (not needed in this case)\n",
        "R1_r = 2.18*mm   # rounding radius of corner near airgap\n",
        "hwed_r = 0*mm    # wedge height (no wedge for casted bar conductors)\n",
        "hr = 17.38*mm    # slot total height\n",
        "R2_r = 0.56*mm   # rounding radius of corner far from airgap\n",
        "# ******************************************************************************\n"
      ],
      "outputs": [],
      "execution_count": null,
      "metadata": {
        "collapsed": true,
        "jupyter": {
          "source_hidden": false,
          "outputs_hidden": false
        },
        "nteract": {
          "transient": {
            "deleting": false
          }
        }
      }
    },
    {
      "cell_type": "code",
      "source": [
        "# Compute needed geometrical data not in datasheet\n",
        "Dr = Ds - 2*g\n",
        "alpha_s = 360/Qs\n",
        "alpha_r = 360/Qr\n",
        "wsi = draw_em.calc_w(Ds + 2*r*(hso+hs1), Qs, wt_s)\n",
        "wse = draw_em.calc_w(Ds + 2*r*hs, Qs, wt_s)\n",
        "wri = draw_em.calc_w(Dr - 2*r*(hro+hr1), Qr, wt_r)\n",
        "wre = draw_em.calc_w(Dr - 2*r*hr, Qr, wt_r)\n",
        "print('Rotor diamter toward airgap: Dr = ', Dr*1e3, ' mm')\n",
        "print('Stator slot width after opening: wsi = ', wsi*1e3, ' mm')\n",
        "print('Stator slot width far from opening: wse = ', wse*1e3, ' mm')\n",
        "print('Rotor slot width after opening: wri = ', wri*1e3, ' mm')\n",
        "print('Rotor slot width far from opening: wre = ', wre*1e3, ' mm')\n",
        "print('Stator slot mechanical angle: alpha_s = ', alpha_s, ' deg')\n",
        "print('Rotor slot mechanical angle: alpha_r = ', alpha_r, ' deg')\n"
      ],
      "outputs": [],
      "execution_count": null,
      "metadata": {
        "collapsed": true,
        "jupyter": {
          "source_hidden": false,
          "outputs_hidden": false
        },
        "nteract": {
          "transient": {
            "deleting": false
          }
        }
      }
    },
    {
      "cell_type": "code",
      "source": [
        "# Init a tiziano drawing instance for IM\n",
        "draw1 = tiziano.drawing()\n"
      ],
      "outputs": [],
      "execution_count": null,
      "metadata": {
        "collapsed": true,
        "jupyter": {
          "source_hidden": false,
          "outputs_hidden": false
        },
        "nteract": {
          "transient": {
            "deleting": false
          }
        }
      }
    },
    {
      "cell_type": "code",
      "source": [
        "# Draw stator slot\n",
        "slot_pts_s, slot_lns_s = draw_em.slot(draw1, r, Ds, alpha_s, wso, hso, wsi, hs1, hwed_s, wse, hs, R1=R1_s, sol1=2, R2=R2_s, sol2=1, ang_pos=alpha_s/2, coherence=False)\n",
        "print(len(slot_pts_s))\n",
        "print(len(slot_lns_s))\n",
        "print(len(draw1.points))\n",
        "print(len(draw1.lines))\n",
        "draw1.select(slot_pts_s + slot_lns_s)\n",
        "draw1.plot()\n",
        "draw1.clear_selected()\n"
      ],
      "outputs": [],
      "execution_count": null,
      "metadata": {
        "collapsed": true,
        "jupyter": {
          "source_hidden": false,
          "outputs_hidden": false
        },
        "nteract": {
          "transient": {
            "deleting": false
          }
        }
      }
    },
    {
      "cell_type": "code",
      "source": [
        "# Draw rotor slot\n",
        "slot_pts_r, slot_lns_r = draw_em.slot(draw1, -r, Dr, alpha_r, wro, hro, wri, hr1, hwed_r, wre, hr, R1=R1_r, sol1=2, R2=R2_r, sol2=1, ang_pos=0, coherence=False)\n",
        "print(len(slot_pts_r))\n",
        "print(len(slot_lns_r))\n",
        "print(len(draw1.points))\n",
        "print(len(draw1.lines))\n",
        "draw1.select(slot_pts_r + slot_lns_r)\n",
        "draw1.plot()\n",
        "draw1.clear_selected()\n"
      ],
      "outputs": [],
      "execution_count": null,
      "metadata": {
        "collapsed": true,
        "jupyter": {
          "source_hidden": false,
          "outputs_hidden": false
        },
        "nteract": {
          "transient": {
            "deleting": false
          }
        }
      }
    },
    {
      "cell_type": "code",
      "source": [
        "# Draw stator using 'stator' machine_drawing function\n",
        "stat_pts, stat_lns, stat_Az0lns = draw_em.stator(draw1, slot_pts_s, slot_lns_s, Dse, Qs, alpha_s, coherence=False)\n",
        "print(len(stat_pts))\n",
        "print(len(stat_lns))\n",
        "print(len(draw1.points))\n",
        "print(len(draw1.lines))\n",
        "draw1.select(stat_pts + stat_lns)\n",
        "draw1.plot()\n",
        "draw1.clear_selected()\n"
      ],
      "outputs": [],
      "execution_count": null,
      "metadata": {
        "collapsed": true,
        "jupyter": {
          "source_hidden": false,
          "outputs_hidden": false
        },
        "nteract": {
          "transient": {
            "deleting": false
          }
        }
      }
    },
    {
      "cell_type": "code",
      "source": [
        "# Draw squirrel cage rotor using 'stator' machine_drawing function again\n",
        "rot_pts, rot_lns, rot_Az0lns = draw_em.stator(draw1, slot_pts_r, slot_lns_r, Dre, Qr, alpha_r, coherence=False)\n",
        "print(len(rot_pts))\n",
        "print(len(rot_lns))\n",
        "print(len(draw1.points))\n",
        "print(len(draw1.lines))\n",
        "draw1.select(rot_pts + rot_lns)\n",
        "draw1.plot()\n",
        "draw1.clear_selected()\n"
      ],
      "outputs": [],
      "execution_count": null,
      "metadata": {
        "collapsed": true,
        "jupyter": {
          "source_hidden": false,
          "outputs_hidden": false
        },
        "nteract": {
          "transient": {
            "deleting": false
          }
        }
      }
    },
    {
      "cell_type": "code",
      "source": [
        "# Divide airgap into 5 equal layers according to GetDP formulation\n",
        "gap_pts, gap_lns, lns_int, lns_out = draw_em.airgap(draw1, g, Dr)\n",
        "print(len(gap_pts))\n",
        "print(len(gap_lns))\n",
        "print(len(lns_int))\n",
        "print(len(lns_out))\n",
        "# draw1.select(lns_int)\n",
        "# draw1.plot()\n",
        "# draw1.clear_selected()\n",
        "# draw1.select(lns_out)\n",
        "# draw1.plot()\n",
        "# draw1.clear_selected()\n"
      ],
      "outputs": [],
      "execution_count": null,
      "metadata": {
        "collapsed": true,
        "jupyter": {
          "source_hidden": false,
          "outputs_hidden": false
        },
        "nteract": {
          "transient": {
            "deleting": false
          }
        }
      }
    },
    {
      "cell_type": "code",
      "source": [
        "# Assign labels and physical tags to stator according to GetDP formulation\n",
        "msh_areas_stat = [wt_s**2/4, min(wsi, wse)*(hs-hso-hwed_s)/16, wso*hso/6]\n",
        "lab_stat = draw_em.ph_stator(draw1, r, stat_Az0lns, Ds, Dse, Qs, alpha_s, wso, hso, hwed_s, hs, msh_areas_stat, ang_pos=alpha_s/2)\n",
        "# draw1.plot()\n"
      ],
      "outputs": [],
      "execution_count": null,
      "metadata": {
        "collapsed": true,
        "jupyter": {
          "source_hidden": false,
          "outputs_hidden": false
        },
        "nteract": {
          "transient": {
            "deleting": false
          }
        }
      }
    },
    {
      "cell_type": "code",
      "source": [
        "# Assign labels and physical tags to rotor according to GetDP formulation\n",
        "msh_areas_rot = [wt_r**2/4, min(wri, wre)*(hr-hro-hwed_r)/16, wro*hro/6]\n",
        "lab_rot = draw_em.ph_IMrotor(draw1, r, rot_Az0lns, Dr, Dre, Qr, alpha_r, wro, hro, hwed_r, hr, msh_areas_rot, ang_pos=0)\n",
        "# draw1.plot()\n"
      ],
      "outputs": [],
      "execution_count": null,
      "metadata": {
        "collapsed": true,
        "jupyter": {
          "source_hidden": false,
          "outputs_hidden": false
        },
        "nteract": {
          "transient": {
            "deleting": false
          }
        }
      }
    },
    {
      "cell_type": "code",
      "source": [
        "# Assign labels and physical tags to airgap layers according to GetDP formulation\n",
        "gap_msh_area = (g/5)**2/2\n",
        "lab_gap = draw_em.ph_airgap(draw1, lns_int, lns_out, r, g, Dr, gap_msh_area)\n"
      ],
      "outputs": [],
      "execution_count": null,
      "metadata": {
        "collapsed": true,
        "jupyter": {
          "source_hidden": false,
          "outputs_hidden": false
        },
        "nteract": {
          "transient": {
            "deleting": false
          }
        }
      }
    },
    {
      "cell_type": "code",
      "source": [
        "# Plot final tiziano IM drawing\n",
        "draw1.plot()\n"
      ],
      "outputs": [],
      "execution_count": null,
      "metadata": {
        "collapsed": true,
        "jupyter": {
          "source_hidden": false,
          "outputs_hidden": false
        },
        "nteract": {
          "transient": {
            "deleting": false
          }
        }
      }
    },
    {
      "cell_type": "code",
      "source": [
        "# Mesh IM drawing\n",
        "mesh1 = draw1.mesh_triangle()\n"
      ],
      "outputs": [],
      "execution_count": null,
      "metadata": {
        "collapsed": true,
        "jupyter": {
          "source_hidden": false,
          "outputs_hidden": false
        },
        "nteract": {
          "transient": {
            "deleting": false
          }
        }
      }
    },
    {
      "cell_type": "code",
      "source": [
        "# Save mesh as gmsh file for GetDP solver\n",
        "draw1.save_mesh('test_IM.msh')\n"
      ],
      "outputs": [],
      "execution_count": null,
      "metadata": {
        "collapsed": true,
        "jupyter": {
          "source_hidden": false,
          "outputs_hidden": false
        },
        "nteract": {
          "transient": {
            "deleting": false
          }
        }
      }
    },
    {
      "cell_type": "markdown",
      "source": [
        "This image shows the mesh model just created.  \n",
        "It was taken from [Onelab](http://onelab.info/) Gmsh interface.\n",
        "![test machine drawing IM - mesh model](test_IM.png)"
      ],
      "metadata": {
        "nteract": {
          "transient": {
            "deleting": false
          }
        }
      }
    }
  ],
  "metadata": {
    "kernelspec": {
      "argv": [
        "C:/Users/elias/anaconda3\\python.exe",
        "-m",
        "ipykernel_launcher",
        "-f",
        "{connection_file}"
      ],
      "display_name": "Python 3",
      "language": "python",
      "name": "python3"
    }
  },
  "nbformat": 4,
  "nbformat_minor": 0
}