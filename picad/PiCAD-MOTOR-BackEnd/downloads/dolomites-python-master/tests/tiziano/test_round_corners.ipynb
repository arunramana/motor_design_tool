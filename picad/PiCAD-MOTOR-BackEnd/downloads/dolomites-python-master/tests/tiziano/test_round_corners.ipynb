{
 "cells": [
  {
   "cell_type": "markdown",
   "metadata": {
    "nteract": {
     "transient": {
      "deleting": false
     }
    }
   },
   "source": [
    "# Test tiziano round_corner methods capability\n"
   ]
  },
  {
   "cell_type": "code",
   "execution_count": 1,
   "metadata": {
    "jupyter": {
     "outputs_hidden": false,
     "source_hidden": false
    },
    "nteract": {
     "transient": {
      "deleting": false
     }
    }
   },
   "outputs": [],
   "source": [
    "import math as mt\n",
    "from dolomites import tiziano\n"
   ]
  },
  {
   "cell_type": "markdown",
   "metadata": {
    "nteract": {
     "transient": {
      "deleting": false
     }
    }
   },
   "source": [
    "## Test round_corner method with corner_arc_solver1 (**solver N.1**)  \n",
    "\n",
    " Find corner arc parameters given two tiziano lines that make a corner.\n"
   ]
  },
  {
   "cell_type": "code",
   "execution_count": 2,
   "metadata": {
    "jupyter": {
     "outputs_hidden": false,
     "source_hidden": false
    },
    "nteract": {
     "transient": {
      "deleting": false
     }
    }
   },
   "outputs": [],
   "source": [
    "draw1 = tiziano.drawing()\n"
   ]
  },
  {
   "cell_type": "code",
   "execution_count": 3,
   "metadata": {
    "jupyter": {
     "outputs_hidden": false,
     "source_hidden": false
    },
    "nteract": {
     "transient": {
      "deleting": false
     }
    }
   },
   "outputs": [
    {
     "name": "stdout",
     "output_type": "stream",
     "text": [
      "5\n",
      "4\n"
     ]
    },
    {
     "data": {
      "image/png": "[encoded data removed]",
      "text/plain": [
       "<Figure size 432x288 with 1 Axes>"
      ]
     },
     "metadata": {
      "needs_background": "light"
     },
     "output_type": "display_data"
    }
   ],
   "source": [
    "x = [5, 2, 2, 1, 0]\n",
    "y = [0, 2, 3, 3, 6]\n",
    "\n",
    "pts = []\n",
    "\n",
    "for ii, xx in enumerate(x):\n",
    "    pts.append(draw1.add_point(xx, y[ii]))\n",
    "\n",
    "lns = []\n",
    "for ii, pp in enumerate(pts[:-1], 1):\n",
    "    lns.extend(draw1.add_line(pp, pts[ii], 10))\n",
    "\n",
    "print(len(pts))\n",
    "print(len(lns))\n",
    "draw1.plot()\n"
   ]
  },
  {
   "cell_type": "code",
   "execution_count": 4,
   "metadata": {
    "jupyter": {
     "outputs_hidden": false,
     "source_hidden": false
    },
    "nteract": {
     "transient": {
      "deleting": false
     }
    }
   },
   "outputs": [
    {
     "name": "stdout",
     "output_type": "stream",
     "text": [
      "drawing.add_point() --> point at ( -2 , 2 ) already in the drawing.\n",
      "drawing.add_point() --> point at ( -2 , 3 ) already in the drawing.\n",
      "drawing.add_point() --> point at ( -1 , 3 ) already in the drawing.\n",
      "drawing.add_point() --> point at ( 0 , 6 ) already in the drawing.\n",
      "drawing.add_point() --> point at ( 5.0 , 0.0 ) already in the drawing.\n",
      "drawing.add_point() --> point at ( 2.0 , -2.0 ) already in the drawing.\n",
      "drawing.add_point() --> point at ( 2.0 , -3.0 ) already in the drawing.\n",
      "drawing.add_point() --> point at ( 1.0 , -3.0 ) already in the drawing.\n",
      "drawing.add_point() --> point at ( -5.0 , 0.0 ) already in the drawing.\n",
      "drawing.add_point() --> point at ( -2.0 , -2.0 ) already in the drawing.\n",
      "drawing.add_point() --> point at ( -2.0 , -3.0 ) already in the drawing.\n",
      "drawing.add_point() --> point at ( -1.0 , -3.0 ) already in the drawing.\n",
      "drawing.add_point() --> point at ( 0.0 , -6.0 ) already in the drawing.\n",
      "16\n",
      "16\n",
      "16\n",
      "16\n"
     ]
    },
    {
     "data": {
      "image/png": "[encoded data removed]",
      "text/plain": [
       "<Figure size 432x288 with 1 Axes>"
      ]
     },
     "metadata": {
      "needs_background": "light"
     },
     "output_type": "display_data"
    }
   ],
   "source": [
    "# coherence False to speed up drawing\n",
    "pts1, lns1, _, _ = draw1.mirror(lns, 0, 0, 0, 1, entity=1, coherence=False)\n",
    "pts.extend(pts1)\n",
    "lns.extend(lns1)\n",
    "pts2, lns2, _, _ = draw1.mirror(lns, 0, 0, 1, 0, entity=1, coherence=False)\n",
    "pts.extend(pts2)\n",
    "lns.extend(lns2)\n",
    "\n",
    "print(len(pts))\n",
    "print(len(draw1.points))\n",
    "print(len(lns))\n",
    "print(len(draw1.lines))\n",
    "draw1.plot()\n"
   ]
  },
  {
   "cell_type": "code",
   "execution_count": 5,
   "metadata": {
    "jupyter": {
     "outputs_hidden": false,
     "source_hidden": false
    },
    "nteract": {
     "transient": {
      "deleting": false
     }
    }
   },
   "outputs": [
    {
     "name": "stdout",
     "output_type": "stream",
     "text": [
      "drawing.add_point() -->  point at: (0.0, 0.0, -1)  is on a line. Splitting  line from (point at: (5, 0, -1)) to (point at: (-5, 0, -1)). ...\n",
      "drawing.add_point() -->  point at: (0.0, 0.0, -1)  is on a line. Splitting  line from (point at: (0, 6, -1)) to (point at: (0.0, -6.0, -1)). ...\n",
      "drawing.add_line() -->  point at: (0.0, 0.0, -1)  already in the drawing is on  line from (point at: (2, 2, -1)) to (point at: (-2.0, -2.0, -1)). . Splitting the line...\n",
      "drawing.add_line() -->  point at: (0.0, 0.0, -1)  already in the drawing is on  line from (point at: (-2, 2, -1)) to (point at: (2.0, -2.0, -1)). . Splitting the line...\n"
     ]
    },
    {
     "data": {
      "image/png": "[encoded data removed]",
      "text/plain": [
       "<Figure size 432x288 with 1 Axes>"
      ]
     },
     "metadata": {
      "needs_background": "light"
     },
     "output_type": "display_data"
    }
   ],
   "source": [
    "l1 = draw1.add_line(pts[0], pts[5])\n",
    "l2 = draw1.add_line(pts[4], pts[12])\n",
    "l3 = draw1.add_line(pts[1], pts[13])\n",
    "l4 = draw1.add_line(pts[6], pts[9])\n",
    "draw1.plot()\n"
   ]
  },
  {
   "cell_type": "code",
   "execution_count": 6,
   "metadata": {
    "jupyter": {
     "outputs_hidden": false,
     "source_hidden": false
    },
    "nteract": {
     "transient": {
      "deleting": false
     }
    }
   },
   "outputs": [
    {
     "name": "stdout",
     "output_type": "stream",
     "text": [
      "drawing.add_point() -->  point at: (2.0, 2.107036751697599, -1)  is on a line. Splitting  line from (point at: (2, 2, -1)) to (point at: (2, 3, -1)). Physical tag: 10 ...\n",
      "drawing.add_point() -->  point at: (2.089059960754954, 1.9406266928300306, -1)  is on a line. Splitting  line from (point at: (5, 0, -1)) to (point at: (2, 2, -1)). Physical tag: 10 ...\n",
      "drawing.add_point() -->  point at: (2.0, 2.5, -1)  is on a line. Splitting  line from (point at: (2.0, 2.107036751697599, -1)) to (point at: (2, 3, -1)). Physical tag: 10 ...\n",
      "drawing.add_point() -->  point at: (1.5, 3.0, -1)  is on a line. Splitting  line from (point at: (2, 3, -1)) to (point at: (1, 3, -1)). Physical tag: 10 ...\n",
      "drawing.add_point() -->  point at: (0.9316227766016838, 3.2051316701949486, -1)  is on a line. Splitting  line from (point at: (1, 3, -1)) to (point at: (0, 6, -1)). Physical tag: 10 ...\n",
      "drawing.add_point() -->  point at: (1.216227766016838, 3.0, -1)  is on a line. Splitting  line from (point at: (1.5, 3.0, -1)) to (point at: (1, 3, -1)). Physical tag: 10 ...\n",
      "drawing.add_point() -->  point at: (0.37947331922020533, 4.861580042339384, -1)  is on a line. Splitting  line from (point at: (0.9316227766016838, 3.2051316701949486, -1)) to (point at: (0, 6, -1)). Physical tag: 10 ...\n",
      "drawing.add_point() -->  point at: (-0.37947331922020533, 4.861580042339384, -1)  is on a line. Splitting  line from (point at: (-1, 3, -1)) to (point at: (0, 6, -1)). Physical tag: 10 ...\n",
      "drawing.add_point() -->  point at: (0.0, 5.128737995750427, -1)  is on a line. Splitting  line from (point at: (0, 6, -1)) to (point at: (0.0, 0.0, -1)). ...\n",
      "drawing.add_point() -->  point at: (0.0, 5.128737995750427, -1)  is on a line. Splitting  line from (point at: (0.07099589920959198, 5.128737995750427, -1)) to (point at: (-0.07099589920959255, 5.128737995750427, -1)). Physical tag: 10 ...\n",
      "drawing.add_point() -->  point at: (-1.216227766016838, 3.0, -1)  is on a line. Splitting  line from (point at: (-2, 3, -1)) to (point at: (-1, 3, -1)). Physical tag: 10 ...\n",
      "drawing.add_point() -->  point at: (-0.9316227766016838, 3.2051316701949486, -1)  is on a line. Splitting  line from (point at: (-1, 3, -1)) to (point at: (-0.37947331922020533, 4.861580042339384, -1)). Physical tag: 10 ...\n",
      "drawing.add_point() -->  point at: (-1.5, 3.0, -1)  is on a line. Splitting  line from (point at: (-2, 3, -1)) to (point at: (-1.216227766016838, 3.0, -1)). Physical tag: 10 ...\n",
      "drawing.add_point() -->  point at: (-2.0, 2.5, -1)  is on a line. Splitting  line from (point at: (-2, 2, -1)) to (point at: (-2, 3, -1)). Physical tag: 10 ...\n",
      "drawing.add_point() -->  point at: (-2.089059960754954, 1.9406266928300306, -1)  is on a line. Splitting  line from (point at: (-5, 0, -1)) to (point at: (-2, 2, -1)). Physical tag: 10 ...\n",
      "drawing.add_point() -->  point at: (-2.0, 2.107036751697599, -1)  is on a line. Splitting  line from (point at: (-2, 2, -1)) to (point at: (-2.0, 2.5, -1)). Physical tag: 10 ...\n",
      "drawing.add_point() -->  point at: (-4.5007698233972935, 0.33282011773513753, -1)  is on a line. Splitting  line from (point at: (-5, 0, -1)) to (point at: (-2.089059960754954, 1.9406266928300306, -1)). Physical tag: 10 ...\n",
      "drawing.add_point() -->  point at: (-4.5007698233972935, -0.33282011773513753, -1)  is on a line. Splitting  line from (point at: (-5, 0, -1)) to (point at: (-2.0, -2.0, -1)). Physical tag: 10 ...\n",
      "drawing.add_point() -->  point at: (-4.671187523028867, 0.0, -1)  is on a line. Splitting  line from (point at: (0.0, 0.0, -1)) to (point at: (-5, 0, -1)). ...\n",
      "drawing.add_point() -->  point at: (-4.671187523028867, 0.0, -1)  is on a line. Splitting  line from (point at: (-4.671187523028867, 0.07811820070127772, -1)) to (point at: (-4.671187523028867, -0.07811820070127744, -1)). Physical tag: 10 ...\n",
      "drawing.add_point() -->  point at: (-2.0, -2.107036751697599, -1)  is on a line. Splitting  line from (point at: (-2.0, -2.0, -1)) to (point at: (-2.0, -3.0, -1)). Physical tag: 10 ...\n",
      "drawing.add_point() -->  point at: (-2.089059960754954, -1.9406266928300306, -1)  is on a line. Splitting  line from (point at: (-4.5007698233972935, -0.33282011773513753, -1)) to (point at: (-2.0, -2.0, -1)). Physical tag: 10 ...\n",
      "drawing.add_point() -->  point at: (-2.0, -2.5, -1)  is on a line. Splitting  line from (point at: (-2.0, -2.107036751697599, -1)) to (point at: (-2.0, -3.0, -1)). Physical tag: 10 ...\n",
      "drawing.add_point() -->  point at: (-1.5, -3.0, -1)  is on a line. Splitting  line from (point at: (-2.0, -3.0, -1)) to (point at: (-1.0, -3.0, -1)). Physical tag: 10 ...\n",
      "drawing.add_point() -->  point at: (-0.9316227766016838, -3.2051316701949486, -1)  is on a line. Splitting  line from (point at: (-1.0, -3.0, -1)) to (point at: (0.0, -6.0, -1)). Physical tag: 10 ...\n",
      "drawing.add_point() -->  point at: (-1.216227766016838, -3.0, -1)  is on a line. Splitting  line from (point at: (-1.5, -3.0, -1)) to (point at: (-1.0, -3.0, -1)). Physical tag: 10 ...\n",
      "drawing.add_point() -->  point at: (-0.37947331922020533, -4.861580042339384, -1)  is on a line. Splitting  line from (point at: (-0.9316227766016838, -3.2051316701949486, -1)) to (point at: (0.0, -6.0, -1)). Physical tag: 10 ...\n",
      "drawing.add_point() -->  point at: (0.37947331922020533, -4.861580042339384, -1)  is on a line. Splitting  line from (point at: (1.0, -3.0, -1)) to (point at: (0.0, -6.0, -1)). Physical tag: 10 ...\n",
      "drawing.add_point() -->  point at: (0.0, -5.128737995750427, -1)  is on a line. Splitting  line from (point at: (0.0, 0.0, -1)) to (point at: (0.0, -6.0, -1)). ...\n",
      "drawing.add_point() -->  point at: (0.0, -5.128737995750427, -1)  is on a line. Splitting  line from (point at: (-0.07099589920959185, -5.128737995750427, -1)) to (point at: (0.07099589920959268, -5.128737995750427, -1)). Physical tag: 10 ...\n",
      "drawing.add_point() -->  point at: (1.216227766016838, -3.0, -1)  is on a line. Splitting  line from (point at: (2.0, -3.0, -1)) to (point at: (1.0, -3.0, -1)). Physical tag: 10 ...\n",
      "drawing.add_point() -->  point at: (0.9316227766016838, -3.2051316701949486, -1)  is on a line. Splitting  line from (point at: (1.0, -3.0, -1)) to (point at: (0.37947331922020533, -4.861580042339384, -1)). Physical tag: 10 ...\n",
      "drawing.add_point() -->  point at: (1.5, -3.0, -1)  is on a line. Splitting  line from (point at: (2.0, -3.0, -1)) to (point at: (1.216227766016838, -3.0, -1)). Physical tag: 10 ...\n",
      "drawing.add_point() -->  point at: (2.0, -2.5, -1)  is on a line. Splitting  line from (point at: (2.0, -2.0, -1)) to (point at: (2.0, -3.0, -1)). Physical tag: 10 ...\n",
      "drawing.add_point() -->  point at: (2.089059960754954, -1.9406266928300306, -1)  is on a line. Splitting  line from (point at: (5, 0, -1)) to (point at: (2.0, -2.0, -1)). Physical tag: 10 ...\n",
      "drawing.add_point() -->  point at: (2.0, -2.107036751697599, -1)  is on a line. Splitting  line from (point at: (2.0, -2.0, -1)) to (point at: (2.0, -2.5, -1)). Physical tag: 10 ...\n",
      "drawing.add_point() -->  point at: (4.5007698233972935, -0.33282011773513753, -1)  is on a line. Splitting  line from (point at: (5, 0, -1)) to (point at: (2.089059960754954, -1.9406266928300306, -1)). Physical tag: 10 ...\n",
      "drawing.add_point() -->  point at: (4.5007698233972935, 0.33282011773513753, -1)  is on a line. Splitting  line from (point at: (5, 0, -1)) to (point at: (2.089059960754954, 1.9406266928300306, -1)). Physical tag: 10 ...\n",
      "drawing.add_point() -->  point at: (4.671187523028867, 0.0, -1)  is on a line. Splitting  line from (point at: (5, 0, -1)) to (point at: (0.0, 0.0, -1)). ...\n",
      "drawing.add_point() -->  point at: (4.671187523028867, 0.0, -1)  is on a line. Splitting  line from (point at: (4.671187523028867, -0.07811820070127778, -1)) to (point at: (4.671187523028867, 0.07811820070127731, -1)). Physical tag: 10 ...\n"
     ]
    }
   ],
   "source": [
    "# Corner arc solver N.1 --------------------------------------------------------\n",
    "# Find rounding arc parameters (starting and ending points, arc_angle) given\n",
    "# two tiziano lines that make a corner\n",
    "ptsr1, lnsr1 = draw1.round_corner1(lns[0], lns[1], 0.2, 20*mt.pi/180, ph=10, coherence=False)\n",
    "ptsr2, lnsr2 = draw1.round_corner1(lns[2], lns[1], 0.5, 20*mt.pi/180, ph=10, coherence=False)\n",
    "ptsr3, lnsr3 = draw1.round_corner1(lns[2], lns[3], 0.3, 20*mt.pi/180, ph=10, coherence=False)\n",
    "ptsr4, lnsr4 = draw1.round_corner1(lns[7], lns[3], 0.4, 20*mt.pi/180, ph=10)\n",
    "ptsr5, lnsr5 = draw1.round_corner1(lns[7], lns[6], 0.3, 20*mt.pi/180, ph=10, coherence=False)\n",
    "ptsr6, lnsr6 = draw1.round_corner1(lns[5], lns[6], 0.5, 20*mt.pi/180, ph=10, coherence=False)\n",
    "ptsr7, lnsr7 = draw1.round_corner1(lns[4], lns[5], 0.2, 20*mt.pi/180, ph=10, coherence=False)\n",
    "ptsr8, lnsr8 = draw1.round_corner1(lns[4], lns[12], 0.4, 20*mt.pi/180, ph=10)\n",
    "ptsr9, lnsr9 = draw1.round_corner1(lns[12], lns[13], 0.2, 20*mt.pi/180, ph=10, coherence=False)\n",
    "ptsr10, lnsr10 = draw1.round_corner1(lns[14], lns[13], 0.5, 20*mt.pi/180, ph=10, coherence=False)\n",
    "ptsr11, lnsr11 = draw1.round_corner1(lns[14], lns[15], 0.3, 20*mt.pi/180, ph=10, coherence=False)\n",
    "ptsr12, lnsr12 = draw1.round_corner1(lns[11], lns[15], 0.4, 20*mt.pi/180, ph=10)\n",
    "ptsr13, lnsr13 = draw1.round_corner1(lns[11], lns[10], 0.3, 20*mt.pi/180, ph=10, coherence=False)\n",
    "ptsr14, lnsr14 = draw1.round_corner1(lns[9], lns[10], 0.5, 20*mt.pi/180, ph=10, coherence=False)\n",
    "ptsr15, lnsr15 = draw1.round_corner1(lns[9], lns[8], 0.2, 20*mt.pi/180, ph=10, coherence=False)\n",
    "ptsr16, lnsr16 = draw1.round_corner1(lns[8], lns[0], 0.4, 20*mt.pi/180, ph=10)"
   ]
  },
  {
   "cell_type": "code",
   "execution_count": 7,
   "metadata": {
    "jupyter": {
     "outputs_hidden": false,
     "source_hidden": false
    },
    "nteract": {
     "transient": {
      "deleting": false
     }
    }
   },
   "outputs": [
    {
     "data": {
      "image/png": "[encoded data removed]",
      "text/plain": [
       "<Figure size 432x288 with 1 Axes>"
      ]
     },
     "metadata": {
      "needs_background": "light"
     },
     "output_type": "display_data"
    }
   ],
   "source": [
    "# draw1.clear_selected()\n",
    "draw1.plot()\n"
   ]
  },
  {
   "cell_type": "code",
   "execution_count": 8,
   "metadata": {
    "jupyter": {
     "outputs_hidden": false,
     "source_hidden": false
    },
    "nteract": {
     "transient": {
      "deleting": false
     }
    }
   },
   "outputs": [
    {
     "name": "stdout",
     "output_type": "stream",
     "text": [
      "81\n",
      "84\n"
     ]
    }
   ],
   "source": [
    "print(len(draw1.points))\n",
    "print(len(draw1.lines))\n"
   ]
  },
  {
   "cell_type": "code",
   "execution_count": 9,
   "metadata": {
    "jupyter": {
     "outputs_hidden": false,
     "source_hidden": false
    },
    "nteract": {
     "transient": {
      "deleting": false
     }
    }
   },
   "outputs": [],
   "source": [
    "# Add label to call triangle\n",
    "lab1 = draw1.add_label(0.5, 0.5, 1, 0.2)\n",
    "lab2 = draw1.add_label(-0.5, 0.5, 2, 0.2)\n",
    "lab3 = draw1.add_label(-0.5, -0.5, 3, 0.2)\n",
    "lab4 = draw1.add_label(0.5, -0.5, 4, 0.2)\n"
   ]
  },
  {
   "cell_type": "code",
   "execution_count": 10,
   "metadata": {
    "jupyter": {
     "outputs_hidden": false,
     "source_hidden": false
    },
    "nteract": {
     "transient": {
      "deleting": false
     }
    }
   },
   "outputs": [
    {
     "data": {
      "image/png": "[encoded data removed]",
      "text/plain": [
       "<Figure size 432x288 with 1 Axes>"
      ]
     },
     "metadata": {
      "needs_background": "light"
     },
     "output_type": "display_data"
    }
   ],
   "source": [
    "draw1.plot()\n"
   ]
  },
  {
   "cell_type": "code",
   "execution_count": 11,
   "metadata": {
    "jupyter": {
     "outputs_hidden": false,
     "source_hidden": false
    },
    "nteract": {
     "transient": {
      "deleting": false
     }
    }
   },
   "outputs": [],
   "source": [
    "mesh = draw1.mesh_triangle()\n"
   ]
  },
  {
   "cell_type": "code",
   "execution_count": 12,
   "metadata": {
    "jupyter": {
     "outputs_hidden": false,
     "source_hidden": false
    },
    "nteract": {
     "transient": {
      "deleting": false
     }
    }
   },
   "outputs": [],
   "source": [
    "draw1.save_mesh('test_round_corners_1.msh')\n"
   ]
  },
  {
   "cell_type": "markdown",
   "metadata": {
    "nteract": {
     "transient": {
      "deleting": false
     }
    }
   },
   "source": [
    "This image shows the mesh model just created.  \n",
    "It was taken from [Onelab](http://onelab.info/) Gmsh interface.\n",
    "![test round corners - mesh model 1](test_round_corners_1.png)\n"
   ]
  },
  {
   "cell_type": "markdown",
   "metadata": {
    "nteract": {
     "transient": {
      "deleting": false
     }
    }
   },
   "source": [
    "## Test corner_arc_solver2 (**solver N.2**)  \n",
    "\n",
    " Find corner arc parameters given a tiziano line, a tiziano point and the arc radius.\n"
   ]
  },
  {
   "cell_type": "code",
   "execution_count": 13,
   "metadata": {
    "jupyter": {
     "outputs_hidden": false,
     "source_hidden": false
    },
    "nteract": {
     "transient": {
      "deleting": false
     }
    }
   },
   "outputs": [],
   "source": [
    "draw2 = tiziano.drawing()\n"
   ]
  },
  {
   "cell_type": "code",
   "execution_count": 14,
   "metadata": {
    "jupyter": {
     "outputs_hidden": false,
     "source_hidden": false
    },
    "nteract": {
     "transient": {
      "deleting": false
     }
    }
   },
   "outputs": [
    {
     "name": "stdout",
     "output_type": "stream",
     "text": [
      "drawing.add_point() -->  point at: (-1.5, 1.5, -1)  is on a line. Splitting  line from (point at: (0, 1, -1)) to (point at: (-3, 2, -1)). Physical tag: 10 ...\n"
     ]
    },
    {
     "data": {
      "image/png": "[encoded data removed]",
      "text/plain": [
       "<Figure size 432x288 with 1 Axes>"
      ]
     },
     "metadata": {
      "needs_background": "light"
     },
     "output_type": "display_data"
    }
   ],
   "source": [
    "x = [0, 0, 3, -3, 4, -1.5]\n",
    "y = [0, 1, 3,  2, 1,  1.5]\n",
    "\n",
    "pts = []\n",
    "lns = []\n",
    "\n",
    "for ii, xx in enumerate(x[:-1]):\n",
    "    pts.append(draw2.add_point(xx, y[ii]))\n",
    "\n",
    "lns.extend(draw2.add_line(pts[1], pts[2], 10))\n",
    "l = draw2.add_line(pts[1], pts[3], 10)\n",
    "\n",
    "pt, lns1 = draw2.add_point(x[-1], y[-1], get_lns=True)\n",
    "\n",
    "pts.append(pt)\n",
    "lns.extend(lns1)\n",
    "\n",
    "draw2.plot()\n"
   ]
  },
  {
   "cell_type": "code",
   "execution_count": 15,
   "metadata": {
    "jupyter": {
     "outputs_hidden": false,
     "source_hidden": false
    },
    "nteract": {
     "transient": {
      "deleting": false
     }
    }
   },
   "outputs": [
    {
     "name": "stdout",
     "output_type": "stream",
     "text": [
      "drawing.add_point() --> point at ( 0.0 , -1.0 ) already in the drawing.\n",
      "drawing.add_point() --> point at ( -1.5 , -1.5 ) already in the drawing.\n"
     ]
    },
    {
     "data": {
      "image/png": "[encoded data removed]",
      "text/plain": [
       "<Figure size 432x288 with 1 Axes>"
      ]
     },
     "metadata": {
      "needs_background": "light"
     },
     "output_type": "display_data"
    }
   ],
   "source": [
    "# coherence disabled to speed up the operation\n",
    "pts1, lns1, _, _ = draw2.mirror(lns + [pts[-2]], 0, 0, 1, 0, coherence=False)\n",
    "pts.extend(pts1)\n",
    "lns.extend(lns1)\n",
    "\n",
    "draw2.plot()\n"
   ]
  },
  {
   "cell_type": "code",
   "execution_count": 16,
   "metadata": {
    "jupyter": {
     "outputs_hidden": false,
     "source_hidden": false
    },
    "nteract": {
     "transient": {
      "deleting": false
     }
    }
   },
   "outputs": [
    {
     "data": {
      "image/png": "[encoded data removed]",
      "text/plain": [
       "<Figure size 432x288 with 1 Axes>"
      ]
     },
     "metadata": {
      "needs_background": "light"
     },
     "output_type": "display_data"
    }
   ],
   "source": [
    "lns.extend(draw2.add_line(pts[3], pts[9], 10, coherence=False))\n",
    "lns.extend(draw2.add_line(pts[4], pts[10], 10, coherence=False))\n",
    "\n",
    "draw2.plot()\n"
   ]
  },
  {
   "cell_type": "code",
   "execution_count": 17,
   "metadata": {
    "jupyter": {
     "outputs_hidden": false,
     "source_hidden": false
    },
    "nteract": {
     "transient": {
      "deleting": false
     }
    }
   },
   "outputs": [
    {
     "name": "stdout",
     "output_type": "stream",
     "text": [
      "drawing.corner_arc_solver2() ==>  The solution converged.\n",
      "drawing.corner_arc_solver2() ==> Arc center  point at: (-1.399970601898516, -0.009072707415197244, -1)\n",
      "drawing.add_point() -->  point at: (0, 0, -1)  already in the drawing.\n",
      "drawing.add_point() -->  point at: (-0.9572517294841052, 1.3190839098280351, -1)  is on a line. Splitting  line from (point at: (0, 1, -1)) to (point at: (-1.5, 1.5, -1)). Physical tag: 10 ...\n",
      "drawing.corner_arc_solver2() ==>  The solution converged.\n",
      "drawing.corner_arc_solver2() ==> Arc center  point at: (1.7996314418562462, 0.03642352929138964, -1)\n",
      "drawing.add_point() -->  point at: (0.8011710886503502, 1.5341140591002334, -1)  is on a line. Splitting  line from (point at: (0, 1, -1)) to (point at: (3, 3, -1)). Physical tag: 10 ...\n",
      "drawing.add_point() -->  point at: (0, 0, -1)  already in the drawing.\n",
      "drawing.corner_arc_solver2() ==>  The solution converged.\n",
      "drawing.corner_arc_solver2() ==> Arc center  point at: (-1.399970601898516, 0.009072707415197244, -1)\n",
      "drawing.add_point() -->  point at: (-0.9572517294841052, -1.3190839098280351, -1)  is on a line. Splitting  line from (point at: (0.0, -1.0, -1)) to (point at: (-1.5, -1.5, -1)). Physical tag: 10 ...\n",
      "drawing.add_point() -->  point at: (0, 0, -1)  already in the drawing.\n",
      "drawing.corner_arc_solver2() ==>  The solution converged.\n",
      "drawing.corner_arc_solver2() ==> Arc center  point at: (1.7996314418562462, -0.03642352929138964, -1)\n",
      "drawing.add_point() -->  point at: (0, 0, -1)  already in the drawing.\n",
      "drawing.add_point() -->  point at: (0.8011710886503502, -1.5341140591002334, -1)  is on a line. Splitting  line from (point at: (0.0, -1.0, -1)) to (point at: (3.0, -3.0, -1)). Physical tag: 10 ...\n",
      "drawing.corner_arc_solver2() ==>  The solution converged.\n",
      "drawing.corner_arc_solver2() ==> Arc center  point at: (-1.9000000040581828, 0.47530493113754646, -1)\n",
      "drawing.add_point() -->  point at: (-1.5, 1.5, -1)  already in the drawing.\n",
      "drawing.add_point() -->  point at: (-3.0, 0.47530493113754657, -1)  is on a line. Splitting  line from (point at: (-3, 2, -1)) to (point at: (-3.0, -2.0, -1)). Physical tag: 10 ...\n",
      "drawing.corner_arc_solver2() ==>  The solution converged.\n",
      "drawing.corner_arc_solver2() ==> Arc center  point at: (2.4290650077569356, 0.6964159915867958, -1)\n",
      "drawing.add_point() -->  point at: (4, 1, -1)  already in the drawing.\n",
      "drawing.add_point() -->  point at: (1.5415446937948611, 2.0276964625299074, -1)  is on a line. Splitting  line from (point at: (0.8011710886503502, 1.5341140591002334, -1)) to (point at: (3, 3, -1)). Physical tag: 10 ...\n",
      "drawing.corner_arc_solver2() ==>  The solution converged.\n",
      "drawing.corner_arc_solver2() ==> Arc center  point at: (-1.9000000040581828, -0.47530493113754646, -1)\n",
      "drawing.add_point() -->  point at: (-3.0, -0.47530493113754657, -1)  is on a line. Splitting  line from (point at: (-3.0, 0.47530493113754657, -1)) to (point at: (-3.0, -2.0, -1)). Physical tag: 10 ...\n",
      "drawing.add_point() -->  point at: (-1.5, -1.5, -1)  already in the drawing.\n",
      "drawing.corner_arc_solver2() ==>  The solution converged.\n",
      "drawing.corner_arc_solver2() ==> Arc center  point at: (2.4290650077569356, -0.6964159915867958, -1)\n",
      "drawing.add_point() -->  point at: (1.5415446937948611, -2.0276964625299074, -1)  is on a line. Splitting  line from (point at: (0.8011710886503502, -1.5341140591002334, -1)) to (point at: (3.0, -3.0, -1)). Physical tag: 10 ...\n",
      "drawing.add_point() -->  point at: (4.0, -1.0, -1)  already in the drawing.\n"
     ]
    },
    {
     "data": {
      "image/png": "[encoded data removed]",
      "text/plain": [
       "<Figure size 432x288 with 1 Axes>"
      ]
     },
     "metadata": {
      "needs_background": "light"
     },
     "output_type": "display_data"
    }
   ],
   "source": [
    "# Corner arc solver N.2 --------------------------------------------------------\n",
    "# Find rounding arc parameters (starting and ending points, arc_angle) given\n",
    "# a tiziano line, a tiziano point and the arc radius\n",
    "_, _ = draw2.round_corner2(lns[1], pts[0], 1.4, 20*mt.pi/180, ph=10, coherence=False)\n",
    "_, _ = draw2.round_corner2(lns[0], pts[0], 1.8, 20*mt.pi/180, rp=pts[1], ph=10, coherence=False)\n",
    "_, _ = draw2.round_corner2(lns[4], pts[0], 1.4, 20*mt.pi/180, ph=10, coherence=False)\n",
    "_, _ = draw2.round_corner2(lns[3], pts[0], 1.8, 20*mt.pi/180, rp=pts[6], ph=10, coherence=False)\n",
    "\n",
    "_, _ = draw2.round_corner2(lns[6], pts[5], 1.1, 20*mt.pi/180, rp=pts[3], ph=10, coherence=False)\n",
    "_, _ = draw2.round_corner2(lns[0], pts[4], 1.6, 20*mt.pi/180, rp=pts[2], ph=10, coherence=False)\n",
    "\n",
    "_, _ = draw2.round_corner2(lns[6], pts[8], 1.1, 20*mt.pi/180, rp=pts[9], ph=10, coherence=False)\n",
    "_, _ = draw2.round_corner2(lns[3], pts[10], 1.6, 20*mt.pi/180, rp=pts[7], ph=10, coherence=False)\n",
    "\n",
    "draw2.plot()\n"
   ]
  },
  {
   "cell_type": "code",
   "execution_count": 18,
   "metadata": {
    "jupyter": {
     "outputs_hidden": false,
     "source_hidden": false
    },
    "nteract": {
     "transient": {
      "deleting": false
     }
    }
   },
   "outputs": [
    {
     "data": {
      "image/png": "[encoded data removed]",
      "text/plain": [
       "<Figure size 432x288 with 1 Axes>"
      ]
     },
     "metadata": {
      "needs_background": "light"
     },
     "output_type": "display_data"
    }
   ],
   "source": [
    "# Add label to call triangle\n",
    "lab1 = draw2.add_label(-2, 0, 1, 0.2)\n",
    "lab2 = draw2.add_label(2, 0, 2, 0.2)\n",
    "\n",
    "draw2.plot()\n"
   ]
  },
  {
   "cell_type": "code",
   "execution_count": 19,
   "metadata": {
    "jupyter": {
     "outputs_hidden": false,
     "source_hidden": false
    },
    "nteract": {
     "transient": {
      "deleting": false
     }
    }
   },
   "outputs": [],
   "source": [
    "mesh = draw2.mesh_triangle()\n"
   ]
  },
  {
   "cell_type": "code",
   "execution_count": 20,
   "metadata": {
    "jupyter": {
     "outputs_hidden": false,
     "source_hidden": false
    },
    "nteract": {
     "transient": {
      "deleting": false
     }
    }
   },
   "outputs": [],
   "source": [
    "draw2.save_mesh('test_round_corners_2.msh')\n"
   ]
  },
  {
   "cell_type": "markdown",
   "metadata": {
    "nteract": {
     "transient": {
      "deleting": false
     }
    }
   },
   "source": [
    "This image shows the mesh model just created.  \n",
    "It was taken from [Onelab](http://onelab.info/) Gmsh interface.\n",
    "![test round corners - mesh model 2](test_round_corners_2.png)"
   ]
  },
  {
   "cell_type": "code",
   "execution_count": null,
   "metadata": {},
   "outputs": [],
   "source": []
  }
 ],
 "metadata": {
  "kernelspec": {
   "display_name": "Python 3",
   "language": "python",
   "name": "python3"
  },
  "language_info": {
   "codemirror_mode": {
    "name": "ipython",
    "version": 3
   },
   "file_extension": ".py",
   "mimetype": "text/x-python",
   "name": "python",
   "nbconvert_exporter": "python",
   "pygments_lexer": "ipython3",
   "version": "3.8.5"
  }
 },
 "nbformat": 4,
 "nbformat_minor": 1
}
