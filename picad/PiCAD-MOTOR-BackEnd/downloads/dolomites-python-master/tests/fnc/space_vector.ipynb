{
 "cells": [
  {
   "cell_type": "code",
   "execution_count": 1,
   "id": "1b5a6218",
   "metadata": {},
   "outputs": [
    {
     "name": "stderr",
     "output_type": "stream",
     "text": [
      "qt.pointer.dispatch: skipping QEventPoint(id=1 ts=0 pos=0,0 scn=506.778,404.367 gbl=506.778,404.367 Released ellipse=(1x1 ∡ 0) vel=0,0 press=-506.778,-404.367 last=-506.778,-404.367 Δ 506.778,404.367) : no target window\n",
      "qt.pointer.dispatch: skipping QEventPoint(id=1 ts=0 pos=0,0 scn=743.626,707.721 gbl=743.626,707.721 Released ellipse=(1x1 ∡ 0) vel=0,0 press=-743.626,-707.721 last=-743.626,-707.721 Δ 743.626,707.721) : no target window\n"
     ]
    },
    {
     "data": {
      "text/plain": [
       "0"
      ]
     },
     "execution_count": 1,
     "metadata": {},
     "output_type": "execute_result"
    }
   ],
   "source": [
    "from dolomites import fnc\n",
    "from PySide6.QtWidgets import QApplication\n",
    "import sys,os, numpy as np\n",
    "\n",
    "app = QApplication([])\n",
    "win = fnc.fnc_widget()\n",
    "\n",
    "\n",
    "f    = 50  # the frequncy of the current\n",
    "Im   = 100 # the peak value\n",
    "t    = np.linspace(0,2/f,201) # we take 2 periods\n",
    "\n",
    "a = Im*np.cos(2*np.pi*f*t)\n",
    "b = Im*np.cos(2*np.pi*f*t - 2/3*np.pi)\n",
    "c = Im*np.cos(2*np.pi*f*t - 4/3*np.pi)\n",
    "\n",
    "win.add_series(t,a,b,c)\n",
    "\n",
    "win.show()\n",
    "app.exec()"
   ]
  },
  {
   "cell_type": "code",
   "execution_count": 44,
   "id": "47aa6cdd",
   "metadata": {},
   "outputs": [],
   "source": []
  }
 ],
 "metadata": {
  "kernelspec": {
   "display_name": "Python 3 (ipykernel)",
   "language": "python",
   "name": "python3"
  },
  "language_info": {
   "codemirror_mode": {
    "name": "ipython",
    "version": 3
   },
   "file_extension": ".py",
   "mimetype": "text/x-python",
   "name": "python",
   "nbconvert_exporter": "python",
   "pygments_lexer": "ipython3",
   "version": "3.10.7"
  }
 },
 "nbformat": 4,
 "nbformat_minor": 5
}
