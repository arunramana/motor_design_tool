{
 "cells": [
  {
   "cell_type": "markdown",
   "metadata": {},
   "source": [
    "<html>\n",
    "<body>\n",
    "\n",
    "<h1>tutorial #4:</h1>\n",
    "<p>creating a winding with sinusoidally distributed conductors</p>\n",
    "<p><img src=\"figure/koil_04.jpeg\" width=\"300\" align=\"left\"/>\n",
    "</p>\n",
    "In some circumstances a winding with sinusoidally distributed conductors is needed. This is useful, for example, in the FE simulation of induction machines (IM) for variable speed drives. The IM can be simulated using a field oriented (FO) simulation strategy in which the rotor cage is substituted with two sinusoidally distrubuted winding, one along each axis (d and q). A sketch of the situation is reported in figure. <br> \n",
    "The main advantages of the FO simulation strategy are that the FE analysis is carried out in the rotor flux reference frame so that only magnetostatic FE simulations are used, reducing the computational time. Thanks to magnetostatic simulations, the saturation effects in all the machine parts is careful considered during all computations. The procedure is suitable for both the analysis and design of IMs, allowing a careful prediction of the drive performance from the design stage.\n",
    "\n",
    "<p> Selected reference:<br>\n",
    "    Luigi Alberti, Nicola Bianchi and Silverio Bolognani\n",
    "    <em>\"Variable-Speed Induction Machine Performance Computed Using Finite-Element\",</em>\n",
    "<em>IEEE Transactions on Industry Applications, </em>\n",
    "2011<i>, Vol 47</i>, pp. 789-797,  <a href=\"https://ieeexplore.ieee.org/abstract/document/5688450\">DOI:10.1109/TIA.2010.2103914</a>  </p> \n",
    "</body>\n",
    "</html>\n",
    "\n"
   ]
  },
  {
   "cell_type": "code",
   "execution_count": 1,
   "metadata": {},
   "outputs": [],
   "source": [
    "from dolomites import koil\n",
    "import math\n",
    "import matplotlib"
   ]
  },
  {
   "cell_type": "code",
   "execution_count": 6,
   "metadata": {},
   "outputs": [
    {
     "data": {
      "image/png": "[encoded data removed]",
      "text/plain": [
       "<Figure size 640x480 with 1 Axes>"
      ]
     },
     "metadata": {},
     "output_type": "display_data"
    }
   ],
   "source": [
    "# Example of sinusoidal winding\n",
    "\n",
    "Q = 24\n",
    "p = 2\n",
    "wa = koil.winding(Q,p)\n",
    "wb = koil.winding(Q,p)\n",
    "wc = koil.winding(Q,p)\n",
    "    \n",
    "for x in range(0, int(Q/2)):\n",
    "    angle = math.pi/Q + 2.0*math.pi/Q*x\n",
    "    na = 1*math.sin(angle*p)\n",
    "    nb = 1*math.sin(angle-2./3*math.pi)\n",
    "    nc = 1*math.sin(angle-4./3*math.pi)\n",
    "    wa.add_coil(koil.coil(x+1,Q-x,na))\n",
    "    wb.add_coil(koil.coil(x+1,Q-x,nb))\n",
    "    wc.add_coil(koil.coil(x+1,Q-x,nc))\n",
    "    \n",
    "nu = []\n",
    "kw = []\n",
    "for _nu in range(1,15):\n",
    "    nu.append(_nu)\n",
    "    kw.append(wa.get_kw(_nu))\n",
    "\n",
    "import matplotlib.pyplot as plt\n",
    "fig, ax = plt.subplots()\n",
    "ax.stem(nu,kw)\n",
    "plt.xlabel('harmonic order')\n",
    "plt.ylabel('winding factor');"
   ]
  },
  {
   "cell_type": "markdown",
   "metadata": {},
   "source": [
    "\n",
    "\n",
    "It is worth notice that there is only a single harmonic for the considered winding. The computed winding factor is:"
   ]
  },
  {
   "cell_type": "code",
   "execution_count": 7,
   "metadata": {},
   "outputs": [
    {
     "data": {
      "text/plain": [
       "[0, 0.7764571353075621, 0, 0, 0, 0, 0, 0, 0, 0, 0, 0, 0, 0]"
      ]
     },
     "execution_count": 7,
     "metadata": {},
     "output_type": "execute_result"
    }
   ],
   "source": [
    "kw"
   ]
  },
  {
   "cell_type": "markdown",
   "metadata": {},
   "source": [
    "The considered winding is sinusoidally distributed within a discrete number of slots. The computed $k_w$ can be compared with the theoretical value computed for a continuosly distributed winding:\n",
    "\n",
    "$$\n",
    "\\dfrac{\\int_0^\\pi \\sin^2 \\vartheta d\\vartheta}{\\int_0^\\pi \\sin \\vartheta d\\vartheta} = \\dfrac{\\pi}{4} = 0.7854\n",
    "$$\n"
   ]
  },
  {
   "cell_type": "code",
   "execution_count": 8,
   "metadata": {},
   "outputs": [
    {
     "data": {
      "text/plain": [
       "0.7853981633974483"
      ]
     },
     "execution_count": 8,
     "metadata": {},
     "output_type": "execute_result"
    }
   ],
   "source": [
    "math.pi/4"
   ]
  },
  {
   "cell_type": "code",
   "execution_count": 10,
   "metadata": {},
   "outputs": [
    {
     "name": "stdout",
     "output_type": "stream",
     "text": [
      "[coil (1, 24, 0.25881904510252074), coil (2, 23, 0.7071067811865475), coil (3, 22, 0.9659258262890682), coil (4, 21, 0.9659258262890683), coil (5, 20, 0.7071067811865476), coil (6, 19, 0.258819045102521), coil (7, 18, -0.2588190451025208), coil (8, 17, -0.7071067811865475), coil (9, 16, -0.9659258262890681), coil (10, 15, -0.9659258262890684), coil (11, 14, -0.7071067811865483), coil (12, 13, -0.25881904510252157)]\n"
     ]
    }
   ],
   "source": [
    "print((wa.coils))"
   ]
  },
  {
   "cell_type": "code",
   "execution_count": null,
   "metadata": {},
   "outputs": [],
   "source": []
  }
 ],
 "metadata": {
  "kernelspec": {
   "display_name": "Python 3 (ipykernel)",
   "language": "python",
   "name": "python3"
  },
  "language_info": {
   "codemirror_mode": {
    "name": "ipython",
    "version": 3
   },
   "file_extension": ".py",
   "mimetype": "text/x-python",
   "name": "python",
   "nbconvert_exporter": "python",
   "pygments_lexer": "ipython3",
   "version": "3.10.7"
  }
 },
 "nbformat": 4,
 "nbformat_minor": 4
}
