{
 "cells": [
  {
   "cell_type": "markdown",
   "metadata": {},
   "source": [
    "<html>\n",
    "<body>\n",
    "\n",
    "<h1>tutorial #3:</h1>\n",
    "<p>creating a winding with unequal distributed slots</p>\n",
    "<p><img src=\"figure/koil_03.jpeg\" width=\"200\" align=\"left\"/>\n",
    "</p>\n",
    "In concentrated winding machines, it is possible to consider an unequal distribution of the slots in order to increase the winding factor of the main harmonic. This corresponds to increase the width of the teeth around which the coils are wound, and to decrease the width of the remaining teeth. A sketch of the resulting stator geometry is reported in the figure on the left.\n",
    "\n",
    "The aim of this modification is twofold: at first, increasing the tooth width, the coils link a higher magnetic flux. This corresponds to use coils with a higher coil throw. The effect is to increase the pitch factor of the winding. Secondly, with unequal tooth width, a better magnetic exploitation of the stator iron paths can be obtained (in fact, using a single-layer winding with non-overlapped coils, the magnetic loading of the teeth is different, depending on the teeth are wound or not).\n",
    "    \n",
    "<p> Selected reference:<br>\n",
    "    Emanuele Fornasiero, Luigi Alberti, Nicola Bianchi and Silverio Bolognani\n",
    "    <em>\"Considerations on Selecting Fractional-Slot Nonoverlapped Coil Windings\",</em>\n",
    "<em>IEEE Transactions on Industry Applications, </em>\n",
    "2013<i>, Vol 49</i>, pp. 1316-1324,  <a href=\"https://ieeexplore.ieee.org/document/6476672\">DOI:10.1109/TIA.2013.2251853</a>  </p>    \n",
    "</body>\n",
    "</html>\n",
    "\n"
   ]
  },
  {
   "cell_type": "code",
   "execution_count": 1,
   "metadata": {},
   "outputs": [],
   "source": [
    "from dolomites import koil\n",
    "import math\n",
    "import matplotlib\n",
    "import numpy as np"
   ]
  },
  {
   "cell_type": "code",
   "execution_count": 2,
   "metadata": {},
   "outputs": [
    {
     "name": "stdout",
     "output_type": "stream",
     "text": [
      "0.9659258262890683\n",
      "0.9659258262890683\n",
      "0.9659258262890683\n",
      "----\n",
      "1.0\n",
      "1.0\n",
      "0.9999999999999999\n"
     ]
    }
   ],
   "source": [
    "w = koil.m_phase_winding()\n",
    "m = 3   # number of phases\n",
    "Q = 12  # number of slots\n",
    "p = 5   # number of pole pairs\n",
    "\n",
    "# create specific angles for the slots\n",
    "# mechanical radians have to be defined\n",
    "angles = []\n",
    "for x in range(0, 6):\n",
    "    angles.append(math.pi/3*x-math.pi/10)\n",
    "    angles.append(math.pi/3*x+math.pi/10)\n",
    "\n",
    "\n",
    "# let ask koil to compute the symmetrical and balanced winding\n",
    "w.compute_winding(m,Q,p,single_layer=True)\n",
    "\n",
    "# compute the winding factors for equally distributed coils\n",
    "for _w in w.windings:\n",
    "    print(_w.get_kw(nu=5))\n",
    "print('----')\n",
    "# compute the winding factors for unequal distributed slots\n",
    "for _w in w.windings:\n",
    "    print(_w.get_kw(nu=5,angles=angles))\n",
    "        "
   ]
  },
  {
   "cell_type": "code",
   "execution_count": null,
   "metadata": {},
   "outputs": [],
   "source": []
  },
  {
   "cell_type": "code",
   "execution_count": null,
   "metadata": {},
   "outputs": [],
   "source": []
  }
 ],
 "metadata": {
  "kernelspec": {
   "display_name": "Python 3 (ipykernel)",
   "language": "python",
   "name": "python3"
  },
  "language_info": {
   "codemirror_mode": {
    "name": "ipython",
    "version": 3
   },
   "file_extension": ".py",
   "mimetype": "text/x-python",
   "name": "python",
   "nbconvert_exporter": "python",
   "pygments_lexer": "ipython3",
   "version": "3.10.7"
  }
 },
 "nbformat": 4,
 "nbformat_minor": 4
}
