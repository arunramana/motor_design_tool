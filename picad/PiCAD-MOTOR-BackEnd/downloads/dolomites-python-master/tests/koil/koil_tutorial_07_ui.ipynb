{
 "cells": [
  {
   "cell_type": "markdown",
   "metadata": {},
   "source": [
    "# tutorial #7:\n",
    "using koil_ui to visualize a scheme of the winding"
   ]
  },
  {
   "cell_type": "code",
   "execution_count": 1,
   "metadata": {},
   "outputs": [],
   "source": [
    "from PySide6.QtWidgets import QApplication\n",
    "from dolomites import koil\n",
    "from dolomites.koil_ui import *\n",
    "import sys"
   ]
  },
  {
   "cell_type": "code",
   "execution_count": 2,
   "metadata": {},
   "outputs": [
    {
     "name": "stdout",
     "output_type": "stream",
     "text": [
      "[ 0.  0.  0.  1.  1.  1.  0.  0.  0.  0.  0.  0. -1. -1. -1.  0.  0.  0.\n",
      "  0.  0.  0.  1.  1.  1.  0.  0.  0.  0.  0.  0. -1. -1. -1.  0.  0.  0.]\n",
      "[coil (5, 14, 1), coil (23, 32, 1), coil (13, 22, -1), coil (15, 24, -1), coil (31, 4, -1), coil (33, 6, -1)]\n"
     ]
    }
   ],
   "source": [
    "winding = koil.m_phase_winding()\n",
    "winding.compute_winding(3,36,2,single_layer=True)\n",
    "\n",
    "print(winding.windings[0].get_slot_matrix())\n",
    "print(winding.windings[0].coils)"
   ]
  },
  {
   "cell_type": "code",
   "execution_count": 6,
   "metadata": {},
   "outputs": [
    {
     "name": "stderr",
     "output_type": "stream",
     "text": [
      "qt.pointer.dispatch: skipping QEventPoint(id=0 ts=0 pos=0,0 scn=720.447,438.998 gbl=720.447,438.998 Released ellipse=(1x1 ∡ 0) vel=0,0 press=-720.447,-438.998 last=-720.447,-438.998 Δ 720.447,438.998) : no target window\n",
      "qt.pointer.dispatch: skipping QEventPoint(id=1 ts=0 pos=0,0 scn=773.904,395.797 gbl=773.904,395.797 Released ellipse=(1x1 ∡ 0) vel=0,0 press=-773.904,-395.797 last=-773.904,-395.797 Δ 773.904,395.797) : no target window\n",
      "qt.pointer.dispatch: skipping QEventPoint(id=1 ts=0 pos=0,0 scn=616.911,548.366 gbl=616.911,548.366 Released ellipse=(1x1 ∡ 0) vel=0,0 press=-616.911,-548.366 last=-616.911,-548.366 Δ 616.911,548.366) : no target window\n"
     ]
    },
    {
     "data": {
      "text/plain": [
       "0"
      ]
     },
     "execution_count": 6,
     "metadata": {},
     "output_type": "execute_result"
    }
   ],
   "source": [
    "#app = QApplication([])\n",
    "window = koil_widget()\n",
    "window.draw_winding(winding)\n",
    "window.show()\n",
    "app.exec()\n"
   ]
  },
  {
   "cell_type": "code",
   "execution_count": 4,
   "metadata": {},
   "outputs": [
    {
     "data": {
      "text/plain": [
       "5.464101615137754"
      ]
     },
     "execution_count": 4,
     "metadata": {},
     "output_type": "execute_result"
    }
   ],
   "source": [
    "sum(abs(wa.get_slot_matrix()))"
   ]
  }
 ],
 "metadata": {
  "kernelspec": {
   "display_name": "Python 3 (ipykernel)",
   "language": "python",
   "name": "python3"
  },
  "language_info": {
   "codemirror_mode": {
    "name": "ipython",
    "version": 3
   },
   "file_extension": ".py",
   "mimetype": "text/x-python",
   "name": "python",
   "nbconvert_exporter": "python",
   "pygments_lexer": "ipython3",
   "version": "3.10.7"
  }
 },
 "nbformat": 4,
 "nbformat_minor": 4
}
