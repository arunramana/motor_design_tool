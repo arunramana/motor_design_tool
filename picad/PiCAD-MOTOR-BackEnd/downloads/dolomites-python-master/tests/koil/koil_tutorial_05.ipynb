{
 "cells": [
  {
   "cell_type": "markdown",
   "metadata": {},
   "source": [
    "# tutorial #5:\n",
    "creating a 4-layer winding\n",
    "\n",
    "<p><img src=\"figure/koil_05.jpeg\" width=\"250\" align=\"left\"/></p>\n",
    "The harmonic content of the mmf winding is related to the number of layers.\n",
    "Single-layer windings are characterized by a single coil in each slots.\n",
    "In a two-layer winding each slots contain two coil sides.\n",
    "A four-layer winding is characterized by four coil sides per slots. An example of 4-layer winding applied to an axial-flux machine is shown in the following pictures:\n",
    "<p><img src=\"figure/AxF-01.png\" width=\"200\" align=\"left\"/>\n",
    "<p><img src=\"figure/AxF-02.png\" width=\"220\" align=\"left\"/></p>\n",
    "\n",
    "<p>\n",
    "The increase of the number of layers can be used to reduce the amplitude of specific mmf harmonic. As an example, the following Figure shows the winding factor for a 12-slot 10-pole winding. On the left a 2-layer winding is considered, on the right a 4-layer winding.\n",
    "It can be noted the reduced amplitude for the harmonics of the 4-layer winding (there is a slight decrease aso for the main harmonic). </p>"
   ]
  },
  {
   "cell_type": "code",
   "execution_count": 1,
   "metadata": {},
   "outputs": [],
   "source": [
    "from dolomites import koil\n",
    "import math\n",
    "import matplotlib"
   ]
  },
  {
   "cell_type": "code",
   "execution_count": 2,
   "metadata": {},
   "outputs": [
    {
     "data": {
      "image/png": "[encoded data removed]",
      "text/plain": [
       "<Figure size 640x480 with 1 Axes>"
      ]
     },
     "metadata": {},
     "output_type": "display_data"
    }
   ],
   "source": [
    "# Example of 4-layer winding\n",
    "\n",
    "m = 3\n",
    "Q = 12\n",
    "p = 5\n",
    "\n",
    "# we start from a 2-layer winding\n",
    "w = koil.m_phase_winding()\n",
    "w.compute_winding(m,Q,p)\n",
    "\n",
    "wa = w.windings[0]\n",
    "wb = w.windings[1]\n",
    "wc = w.windings[2]\n",
    "\n",
    "# and add some more coils to phase a...\n",
    "wa.add_coil(koil.coil(11,12,1))\n",
    "wa.add_coil(koil.coil(6,7,1))\n",
    "wa.add_coil(koil.coil(12,1,-1))\n",
    "wa.add_coil(koil.coil(5,6,-1))\n",
    "\n",
    "# ...to phase b...\n",
    "wb.add_coil(koil.coil(2,3,1))\n",
    "wb.add_coil(koil.coil(7,8,1))\n",
    "wb.add_coil(koil.coil(1,2,-1))\n",
    "wb.add_coil(koil.coil(8,9,-1))\n",
    "\n",
    "# ...and to phase c\n",
    "wb.add_coil(koil.coil(10,11,1))\n",
    "wb.add_coil(koil.coil(3,4,1))\n",
    "wb.add_coil(koil.coil(9,10,-1))\n",
    "wb.add_coil(koil.coil(4,5,-1))\n",
    "    \n",
    "# we compute the winding factor...\n",
    "nu = []\n",
    "kw = []\n",
    "for _nu in range(1,25):\n",
    "    nu.append(_nu)\n",
    "    kw.append(wa.get_kw(_nu))\n",
    "\n",
    "# ...and plot it\n",
    "import matplotlib.pyplot as plt\n",
    "fig, ax = plt.subplots()\n",
    "ax.stem(nu,kw)\n",
    "plt.xlabel('harmonic order')\n",
    "plt.ylabel('winding factor');"
   ]
  },
  {
   "cell_type": "code",
   "execution_count": 3,
   "metadata": {},
   "outputs": [
    {
     "data": {
      "text/plain": [
       "[0.01733758853025394,\n",
       " 0,\n",
       " 0.35355339059327356,\n",
       " 0,\n",
       " 0.901221065013438,\n",
       " 0,\n",
       " 0.9012210650134382,\n",
       " 0,\n",
       " 0.3535533905932738,\n",
       " 0,\n",
       " 0.017337588530255077,\n",
       " 0,\n",
       " 0.017337588530253478,\n",
       " 0,\n",
       " 0.35355339059327473,\n",
       " 0,\n",
       " 0.9012210650134374,\n",
       " 0,\n",
       " 0.9012210650134379,\n",
       " 0,\n",
       " 0.35355339059327245,\n",
       " 0,\n",
       " 0.017337588530254255,\n",
       " 0]"
      ]
     },
     "execution_count": 3,
     "metadata": {},
     "output_type": "execute_result"
    }
   ],
   "source": [
    "kw"
   ]
  },
  {
   "cell_type": "code",
   "execution_count": 4,
   "metadata": {},
   "outputs": [
    {
     "data": {
      "text/plain": [
       "5.333333333333334"
      ]
     },
     "execution_count": 4,
     "metadata": {},
     "output_type": "execute_result"
    }
   ],
   "source": [
    "sum(abs(wa.get_slot_matrix()))"
   ]
  },
  {
   "cell_type": "code",
   "execution_count": null,
   "metadata": {},
   "outputs": [],
   "source": []
  }
 ],
 "metadata": {
  "kernelspec": {
   "display_name": "Python 3 (ipykernel)",
   "language": "python",
   "name": "python3"
  },
  "language_info": {
   "codemirror_mode": {
    "name": "ipython",
    "version": 3
   },
   "file_extension": ".py",
   "mimetype": "text/x-python",
   "name": "python",
   "nbconvert_exporter": "python",
   "pygments_lexer": "ipython3",
   "version": "3.10.7"
  }
 },
 "nbformat": 4,
 "nbformat_minor": 4
}
