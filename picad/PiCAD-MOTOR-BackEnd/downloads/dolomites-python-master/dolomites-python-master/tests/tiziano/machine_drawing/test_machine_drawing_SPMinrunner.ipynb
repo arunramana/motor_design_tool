{
  "cells": [
    {
      "cell_type": "markdown",
      "source": [
        "# Test machine_drawing module capabilities\n",
        "\n",
        "## Inrunner SPM Machine drawing - Example\n"
      ],
      "metadata": {
        "nteract": {
          "transient": {
            "deleting": false
          }
        }
      }
    },
    {
      "cell_type": "code",
      "source": [
        "# Import useful modules\n",
        "from dolomites import tiziano\n",
        "import machine_drawing as draw_em\n"
      ],
      "outputs": [],
      "execution_count": null,
      "metadata": {
        "collapsed": true,
        "jupyter": {
          "source_hidden": false,
          "outputs_hidden": false
        },
        "nteract": {
          "transient": {
            "deleting": false
          }
        }
      }
    },
    {
      "cell_type": "code",
      "source": [
        "# Define unit length\n",
        "mm = 1e-3  # millimeters\n"
      ],
      "outputs": [],
      "execution_count": null,
      "metadata": {
        "collapsed": true,
        "jupyter": {
          "source_hidden": false,
          "outputs_hidden": false
        },
        "nteract": {
          "transient": {
            "deleting": false
          }
        }
      }
    },
    {
      "cell_type": "code",
      "source": [
        "# SPM Motor geometry data ======================================================\n",
        "\n",
        "r = 1         # inner rotor, outer stator\n",
        "g = 0.4*mm    # airgap thickness\n",
        "\n",
        "# Stator ***********************************************************************\n",
        "Ds = 103*mm     # stator inner diameter\n",
        "Dse = 170*mm    # stator outer diameter\n",
        "Qs = 36         # stator number of slots\n",
        "# Stator slot (trapezoidal slots - rectangular teeth) ---------------------------\n",
        "wt_s = 4.9*mm    # stator teeth width\n",
        "wso = 2.5*mm     # slot opening width\n",
        "hso = 0.64*mm    # slot opening height\n",
        "hs1 = 0*mm       # slot first height after opening (not needed in this case)\n",
        "R1_s = 2.25*mm   # rounding radius of corner near slot opening\n",
        "hwed_s = 0*mm    # wedge height\n",
        "hs = 17.3*mm     # slot total height\n",
        "R2_s = 1.2*mm    # roudning radius of corner far from slot opening\n",
        "# ******************************************************************************\n",
        "\n",
        "# Rotor SPM ********************************************************************\n",
        "p = 3                # number of pole pairs\n",
        "Dre = 30*mm          # rotor inner diameter (shaft diameter)\n",
        "typ_rot = 'norm'     # SPM type (normal or consequent-pole)\n",
        "# Surface mounted Permanent Magnets --------------------------------------------\n",
        "tm = 5*mm            # magnets thickness\n",
        "tin = 0*mm           # magnets thicness buried inside rotor iron\n",
        "alpha_tilt = 0       # magnets mechanical tilting angle in deg\n",
        "typ_pm = 'radial'    # magnets shape (radial or square)\n",
        "# ******************************************************************************\n"
      ],
      "outputs": [],
      "execution_count": null,
      "metadata": {
        "collapsed": true,
        "jupyter": {
          "source_hidden": false,
          "outputs_hidden": false
        },
        "nteract": {
          "transient": {
            "deleting": false
          }
        }
      }
    },
    {
      "cell_type": "code",
      "source": [
        "# Compute needed geometrical data not in datasheet\n",
        "Dr = Ds - 2*g\n",
        "alpha_s = 360/Qs\n",
        "alpha_p = 360/(2*p)\n",
        "alpha_m = alpha_p*2/3\n",
        "wsi = draw_em.calc_w(Ds + 2*r*(hso+hs1), Qs, wt_s)\n",
        "wse = draw_em.calc_w(Ds + 2*r*hs, Qs, wt_s)\n",
        "print('Rotor diamter toward airgap (magnets thickness included): Dr = ', Dr*1e3, ' mm')\n",
        "print('Stator slot width after opening: wsi = ', wsi*1e3, ' mm')\n",
        "print('Stator slot width far from opening: wse = ', wse*1e3, ' mm')\n",
        "print('Stator slot mechanical angle: alpha_s = ', alpha_s, ' deg')\n",
        "print('Pole mechanical angle: alpha_p = ', alpha_p, ' deg')\n",
        "print('Mechanical angle covered by magnet: alpha_m = ', alpha_m, ' deg')\n"
      ],
      "outputs": [],
      "execution_count": null,
      "metadata": {
        "collapsed": true,
        "jupyter": {
          "source_hidden": false,
          "outputs_hidden": false
        },
        "nteract": {
          "transient": {
            "deleting": false
          }
        }
      }
    },
    {
      "cell_type": "code",
      "source": [
        "# Init a tiziano drawing instance for SPM\n",
        "draw1 = tiziano.drawing()\n"
      ],
      "outputs": [],
      "execution_count": null,
      "metadata": {
        "collapsed": true,
        "jupyter": {
          "source_hidden": false,
          "outputs_hidden": false
        },
        "nteract": {
          "transient": {
            "deleting": false
          }
        }
      }
    },
    {
      "cell_type": "code",
      "source": [
        "# Draw stator slot\n",
        "slot_pts_s, slot_lns_s = draw_em.slot(draw1, r, Ds, alpha_s, wso, hso, wsi, hs1, hwed_s, wse, hs, R1=R1_s, sol1=2, R2=R2_s, sol2=1, ang_pos=alpha_s/2, coherence=False)\n",
        "print(len(slot_pts_s))\n",
        "print(len(slot_lns_s))\n",
        "print(len(draw1.points))\n",
        "print(len(draw1.lines))\n",
        "draw1.select(slot_pts_s + slot_lns_s)\n",
        "draw1.plot()\n",
        "draw1.clear_selected()\n"
      ],
      "outputs": [],
      "execution_count": null,
      "metadata": {
        "collapsed": true,
        "jupyter": {
          "source_hidden": false,
          "outputs_hidden": false
        },
        "nteract": {
          "transient": {
            "deleting": false
          }
        }
      }
    },
    {
      "cell_type": "code",
      "source": [
        "# Draw stator using 'stator' machine_drawing function\n",
        "stat_pts, stat_lns, stat_Az0lns = draw_em.stator(draw1, slot_pts_s, slot_lns_s, Dse, Qs, alpha_s, coherence=False)\n",
        "print(len(stat_pts))\n",
        "print(len(stat_lns))\n",
        "print(len(draw1.points))\n",
        "print(len(draw1.lines))\n",
        "draw1.select(stat_pts + stat_lns)\n",
        "draw1.plot()\n",
        "draw1.clear_selected()\n"
      ],
      "outputs": [],
      "execution_count": null,
      "metadata": {
        "collapsed": true,
        "jupyter": {
          "source_hidden": false,
          "outputs_hidden": false
        },
        "nteract": {
          "transient": {
            "deleting": false
          }
        }
      }
    },
    {
      "cell_type": "code",
      "source": [
        "# Assign labels and physical tags to stator according to GetDP formulation\n",
        "msh_areas_stat = [wt_s**2/4, min(wsi, wse)*(hs-hso-hwed_s)/16, wso*hso/6]\n",
        "lab_stat = draw_em.ph_stator(draw1, r, stat_Az0lns, Ds, Dse, Qs, alpha_s, wso, hso, hwed_s, hs, msh_areas_stat, ang_pos=alpha_s/2)\n",
        "# draw1.plot()\n"
      ],
      "outputs": [],
      "execution_count": null,
      "metadata": {
        "collapsed": true,
        "jupyter": {
          "source_hidden": false,
          "outputs_hidden": false
        },
        "nteract": {
          "transient": {
            "deleting": false
          }
        }
      }
    },
    {
      "cell_type": "code",
      "source": [
        "# Save stator drawing as tiziano file\n",
        "draw1.save('test_stator_36_170x103.tiz')\n"
      ],
      "outputs": [],
      "execution_count": null,
      "metadata": {
        "collapsed": true,
        "jupyter": {
          "source_hidden": false,
          "outputs_hidden": false
        },
        "nteract": {
          "transient": {
            "deleting": false
          }
        }
      }
    },
    {
      "cell_type": "code",
      "source": [
        "# Draw rotor SPM pole\n",
        "pole_pts_r, pole_lns_r = draw_em.SPM_pole(draw1, r, Dr, alpha_p, alpha_m, tm, alpha_tilt=alpha_tilt, tin=tin, ang_pos=0, typ_pm=typ_pm, coherence=False)\n",
        "print(len(pole_pts_r))\n",
        "print(len(pole_lns_r))\n",
        "print(len(draw1.points))\n",
        "print(len(draw1.lines))\n",
        "draw1.select(pole_pts_r + pole_lns_r)\n",
        "draw1.plot()\n",
        "draw1.clear_selected()\n"
      ],
      "outputs": [],
      "execution_count": null,
      "metadata": {
        "collapsed": true,
        "jupyter": {
          "source_hidden": false,
          "outputs_hidden": false
        },
        "nteract": {
          "transient": {
            "deleting": false
          }
        }
      }
    },
    {
      "cell_type": "code",
      "source": [
        "# Draw SPM rotor using 'SPM_rotor' machine_drawing function\n",
        "rot_pts, rot_lns, rot_Az0lns = draw_em.SPM_rotor(draw1, pole_pts_r, pole_lns_r, Dre, p, alpha_p, ang_pos=0, typ_rot=typ_rot, coherence=False)\n",
        "print(len(rot_pts))\n",
        "print(len(rot_lns))\n",
        "print(len(draw1.points))\n",
        "print(len(draw1.lines))\n",
        "draw1.select(rot_pts + rot_lns)\n",
        "draw1.plot()\n",
        "draw1.clear_selected()\n"
      ],
      "outputs": [],
      "execution_count": null,
      "metadata": {
        "collapsed": true,
        "jupyter": {
          "source_hidden": false,
          "outputs_hidden": false
        },
        "nteract": {
          "transient": {
            "deleting": false
          }
        }
      }
    },
    {
      "cell_type": "code",
      "source": [
        "# Divide airgap into 5 equal layers according to GetDP formulation\n",
        "gap_pts, gap_lns, lns_int, lns_out = draw_em.airgap(draw1, g, Dr)\n",
        "print(len(gap_pts))\n",
        "print(len(gap_lns))\n",
        "print(len(lns_int))\n",
        "print(len(lns_out))\n",
        "# draw1.select(lns_int)\n",
        "# draw1.plot()\n",
        "# draw1.clear_selected()\n",
        "# draw1.select(lns_out)\n",
        "# draw1.plot()\n",
        "# draw1.clear_selected()\n"
      ],
      "outputs": [],
      "execution_count": null,
      "metadata": {
        "collapsed": true,
        "jupyter": {
          "source_hidden": false,
          "outputs_hidden": false
        },
        "nteract": {
          "transient": {
            "deleting": false
          }
        }
      }
    },
    {
      "cell_type": "code",
      "source": [
        "# Assign labels and physical tags to rotor according to GetDP formulation\n",
        "msh_areas_rot = [abs(Dr/2 - Dre/2)**2/20, tm**2/4,  (tm-tin)**2/4]\n",
        "lab_rot = draw_em.ph_SPMrotor(draw1, r, rot_Az0lns, Dr, Dre, p, alpha_p, alpha_m, tm, msh_areas_rot, alpha_tilt=alpha_tilt, tin=tin, ang_pos=0, typ_pm=typ_pm, typ_rot=typ_rot)\n",
        "# draw1.plot()\n"
      ],
      "outputs": [],
      "execution_count": null,
      "metadata": {
        "collapsed": true,
        "jupyter": {
          "source_hidden": false,
          "outputs_hidden": false
        },
        "nteract": {
          "transient": {
            "deleting": false
          }
        }
      }
    },
    {
      "cell_type": "code",
      "source": [
        "# Assign labels and physical tags to airgap layers according to GetDP formulation\n",
        "gap_msh_area = (g/5)**2/2\n",
        "lab_gap = draw_em.ph_airgap(draw1, lns_int, lns_out, r, g, Dr, gap_msh_area)\n"
      ],
      "outputs": [],
      "execution_count": null,
      "metadata": {
        "collapsed": true,
        "jupyter": {
          "source_hidden": false,
          "outputs_hidden": false
        },
        "nteract": {
          "transient": {
            "deleting": false
          }
        }
      }
    },
    {
      "cell_type": "code",
      "source": [
        "# Plot final tiziano SPM drawing\n",
        "draw1.plot()\n"
      ],
      "outputs": [],
      "execution_count": null,
      "metadata": {
        "collapsed": true,
        "jupyter": {
          "source_hidden": false,
          "outputs_hidden": false
        },
        "nteract": {
          "transient": {
            "deleting": false
          }
        }
      }
    },
    {
      "cell_type": "code",
      "source": [
        "# Mesh SPM drawing\n",
        "mesh1 = draw1.mesh_triangle()\n"
      ],
      "outputs": [],
      "execution_count": null,
      "metadata": {
        "collapsed": true,
        "jupyter": {
          "source_hidden": false,
          "outputs_hidden": false
        },
        "nteract": {
          "transient": {
            "deleting": false
          }
        }
      }
    },
    {
      "cell_type": "code",
      "source": [
        "# Save mesh as gmsh file for GetDP solver\n",
        "draw1.save_mesh('test_SPMinrunner_1.msh')\n"
      ],
      "outputs": [],
      "execution_count": null,
      "metadata": {
        "collapsed": true,
        "jupyter": {
          "source_hidden": false,
          "outputs_hidden": false
        },
        "nteract": {
          "transient": {
            "deleting": false
          }
        }
      }
    },
    {
      "cell_type": "markdown",
      "source": [
        "This image shows the mesh model just created.  \n",
        "It was taken from [Onelab](http://onelab.info/) Gmsh interface.\n",
        "![test machine drawing inrunner SPM - mesh model 1](test_SPMinrunner_1.png)\n"
      ],
      "metadata": {
        "nteract": {
          "transient": {
            "deleting": false
          }
        }
      }
    },
    {
      "cell_type": "markdown",
      "source": [
        "## Inrunner SPM with **titled** and partially **buried magnets** - Example\n"
      ],
      "metadata": {
        "nteract": {
          "transient": {
            "deleting": false
          }
        }
      }
    },
    {
      "cell_type": "code",
      "source": [
        "# Change magnets' geometrical parameters\n",
        "alpha_tilt = 5  # magnet tilting angle\n",
        "tin = 3*mm      # magnet thickness inside rotor iron\n"
      ],
      "outputs": [],
      "execution_count": null,
      "metadata": {
        "collapsed": true,
        "jupyter": {
          "source_hidden": false,
          "outputs_hidden": false
        },
        "nteract": {
          "transient": {
            "deleting": false
          }
        }
      }
    },
    {
      "cell_type": "code",
      "source": [
        "# Init a new tiziano drawing instance\n",
        "draw2 = tiziano.drawing()\n"
      ],
      "outputs": [],
      "execution_count": null,
      "metadata": {
        "collapsed": true,
        "jupyter": {
          "source_hidden": false,
          "outputs_hidden": false
        },
        "nteract": {
          "transient": {
            "deleting": false
          }
        }
      }
    },
    {
      "cell_type": "code",
      "source": [
        "# Load stator\n",
        "draw2.load('test_stator_36_170x103.tiz')\n",
        "draw2.plot()\n"
      ],
      "outputs": [],
      "execution_count": null,
      "metadata": {
        "collapsed": true,
        "jupyter": {
          "source_hidden": false,
          "outputs_hidden": false
        },
        "nteract": {
          "transient": {
            "deleting": false
          }
        }
      }
    },
    {
      "cell_type": "code",
      "source": [
        "# Draw new rotor SPM pole\n",
        "pole_pts_r, pole_lns_r = draw_em.SPM_pole(draw2, r, Dr, alpha_p, alpha_m, tm, alpha_tilt=alpha_tilt, tin=tin, ang_pos=0, typ_pm=typ_pm, coherence=False)\n"
      ],
      "outputs": [],
      "execution_count": null,
      "metadata": {
        "collapsed": true,
        "jupyter": {
          "source_hidden": false,
          "outputs_hidden": false
        },
        "nteract": {
          "transient": {
            "deleting": false
          }
        }
      }
    },
    {
      "cell_type": "code",
      "source": [
        "# Draw SPM rotor using 'SPM_rotor' machine_drawing function\n",
        "rot_pts, rot_lns, rot_Az0lns = draw_em.SPM_rotor(draw2, pole_pts_r, pole_lns_r, Dre, p, alpha_p, ang_pos=0, typ_rot=typ_rot, coherence=False)\n",
        "draw2.plot()\n"
      ],
      "outputs": [],
      "execution_count": null,
      "metadata": {
        "collapsed": true,
        "jupyter": {
          "source_hidden": false,
          "outputs_hidden": false
        },
        "nteract": {
          "transient": {
            "deleting": false
          }
        }
      }
    },
    {
      "cell_type": "code",
      "source": [
        "# Divide airgap into 5 equal layers according to GetDP formulation\n",
        "gap_pts, gap_lns, lns_int, lns_out = draw_em.airgap(draw2, g, Dr)\n"
      ],
      "outputs": [],
      "execution_count": null,
      "metadata": {
        "collapsed": true,
        "jupyter": {
          "source_hidden": false,
          "outputs_hidden": false
        },
        "nteract": {
          "transient": {
            "deleting": false
          }
        }
      }
    },
    {
      "cell_type": "code",
      "source": [
        "# Assign labels and physical tags to rotor according to GetDP formulation\n",
        "msh_areas_rot = [abs(Dr/2 - Dre/2)**2/20, tm**2/4,  (tm-tin)**2/4]\n",
        "lab_rot = draw_em.ph_SPMrotor(draw2, r, rot_Az0lns, Dr, Dre, p, alpha_p, alpha_m, tm, msh_areas_rot, alpha_tilt=alpha_tilt, tin=tin, ang_pos=0, typ_pm=typ_pm, typ_rot=typ_rot)\n"
      ],
      "outputs": [],
      "execution_count": null,
      "metadata": {
        "collapsed": true,
        "jupyter": {
          "source_hidden": false,
          "outputs_hidden": false
        },
        "nteract": {
          "transient": {
            "deleting": false
          }
        }
      }
    },
    {
      "cell_type": "code",
      "source": [
        "# Assign labels and physical tags to airgap layers according to GetDP formulation\n",
        "gap_msh_area = (g/5)**2/2\n",
        "lab_gap = draw_em.ph_airgap(draw2, lns_int, lns_out, r, g, Dr, gap_msh_area)\n"
      ],
      "outputs": [],
      "execution_count": null,
      "metadata": {
        "collapsed": true,
        "jupyter": {
          "source_hidden": false,
          "outputs_hidden": false
        },
        "nteract": {
          "transient": {
            "deleting": false
          }
        }
      }
    },
    {
      "cell_type": "code",
      "source": [
        "# Plot final tiziano SPM drawing\n",
        "draw2.plot()\n"
      ],
      "outputs": [],
      "execution_count": null,
      "metadata": {
        "collapsed": true,
        "jupyter": {
          "source_hidden": false,
          "outputs_hidden": false
        },
        "nteract": {
          "transient": {
            "deleting": false
          }
        }
      }
    },
    {
      "cell_type": "code",
      "source": [
        "# Mesh SPM drawing\n",
        "mesh2 = draw2.mesh_triangle()\n"
      ],
      "outputs": [],
      "execution_count": null,
      "metadata": {
        "collapsed": true,
        "jupyter": {
          "source_hidden": false,
          "outputs_hidden": false
        },
        "nteract": {
          "transient": {
            "deleting": false
          }
        }
      }
    },
    {
      "cell_type": "code",
      "source": [
        "# Save mesh as gmsh file for GetDP solver\n",
        "draw2.save_mesh('test_SPMinrunner_2.msh')\n"
      ],
      "outputs": [],
      "execution_count": null,
      "metadata": {
        "collapsed": true,
        "jupyter": {
          "source_hidden": false,
          "outputs_hidden": false
        },
        "nteract": {
          "transient": {
            "deleting": false
          }
        }
      }
    },
    {
      "cell_type": "markdown",
      "source": [
        "This image shows the mesh model just created.  \n",
        "It was taken from [Onelab](http://onelab.info/) Gmsh interface.\n",
        "![test machine drawing inrunner SPM - mesh model 2](test_SPMinrunner_2.png)\n"
      ],
      "metadata": {
        "nteract": {
          "transient": {
            "deleting": false
          }
        }
      }
    },
    {
      "cell_type": "markdown",
      "source": [
        "## Inrunner consequent-pole SPM with squared magnets - Example\n"
      ],
      "metadata": {
        "nteract": {
          "transient": {
            "deleting": false
          }
        }
      }
    },
    {
      "cell_type": "code",
      "source": [
        "# Change rotor and magnets' geometrical parameters\n",
        "typ_rot = 'cons'   # consequent-pole rotor\n",
        "typ_pm = 'square'  # squared magnets shape\n",
        "alpha_tilt = 0     # magnet tilting angle\n",
        "tin = 0*mm         # magnet thickness inside rotor iron\n"
      ],
      "outputs": [],
      "execution_count": null,
      "metadata": {
        "collapsed": true,
        "jupyter": {
          "source_hidden": false,
          "outputs_hidden": false
        },
        "nteract": {
          "transient": {
            "deleting": false
          }
        }
      }
    },
    {
      "cell_type": "code",
      "source": [
        "# Init a new tiziano drawing instance\n",
        "draw3 = tiziano.drawing()\n"
      ],
      "outputs": [],
      "execution_count": null,
      "metadata": {
        "collapsed": true,
        "jupyter": {
          "source_hidden": false,
          "outputs_hidden": false
        },
        "nteract": {
          "transient": {
            "deleting": false
          }
        }
      }
    },
    {
      "cell_type": "code",
      "source": [
        "# Load stator\n",
        "draw3.load('test_stator_36_170x103.tiz')\n",
        "# draw3.plot()\n"
      ],
      "outputs": [],
      "execution_count": null,
      "metadata": {
        "collapsed": true,
        "jupyter": {
          "source_hidden": false,
          "outputs_hidden": false
        },
        "nteract": {
          "transient": {
            "deleting": false
          }
        }
      }
    },
    {
      "cell_type": "code",
      "source": [
        "# Draw rotor SPM pole PAIR\n",
        "pole_pts_r, pole_lns_r = draw_em.SPM_pole(draw3, r, Dr, 2*alpha_p, alpha_m, tm, alpha_tilt=-alpha_p/2 + alpha_tilt, tin=tin, ang_pos=alpha_p/2, typ_pm=typ_pm, coherence=False)\n",
        "# draw3.plot()\n"
      ],
      "outputs": [],
      "execution_count": null,
      "metadata": {
        "collapsed": true,
        "jupyter": {
          "source_hidden": false,
          "outputs_hidden": false
        },
        "nteract": {
          "transient": {
            "deleting": false
          }
        }
      }
    },
    {
      "cell_type": "code",
      "source": [
        "# Draw SPM rotor using 'SPM_rotor' machine_drawing function\n",
        "rot_pts, rot_lns, rot_Az0lns = draw_em.SPM_rotor(draw3, pole_pts_r, pole_lns_r, Dre, p, alpha_p, ang_pos=0, typ_rot=typ_rot, coherence=False)\n",
        "# draw3.plot()\n"
      ],
      "outputs": [],
      "execution_count": null,
      "metadata": {
        "collapsed": true,
        "jupyter": {
          "source_hidden": false,
          "outputs_hidden": false
        },
        "nteract": {
          "transient": {
            "deleting": false
          }
        }
      }
    },
    {
      "cell_type": "code",
      "source": [
        "# Divide airgap into 5 equal layers according to GetDP formulation\n",
        "gap_pts, gap_lns, lns_int, lns_out = draw_em.airgap(draw3, g, Dr)\n"
      ],
      "outputs": [],
      "execution_count": null,
      "metadata": {
        "collapsed": true,
        "jupyter": {
          "source_hidden": false,
          "outputs_hidden": false
        },
        "nteract": {
          "transient": {
            "deleting": false
          }
        }
      }
    },
    {
      "cell_type": "code",
      "source": [
        "# Assign labels and physical tags to rotor according to GetDP formulation\n",
        "msh_areas_rot = [abs(Dr/2 - Dre/2)**2/20, tm**2/4,  (tm-tin)**2/4]\n",
        "lab_rot = draw_em.ph_SPMrotor(draw3, r, rot_Az0lns, Dr, Dre, p, alpha_p, alpha_m, tm, msh_areas_rot, alpha_tilt=alpha_tilt, tin=tin, ang_pos=0, typ_pm=typ_pm, typ_rot=typ_rot)\n"
      ],
      "outputs": [],
      "execution_count": null,
      "metadata": {
        "collapsed": true,
        "jupyter": {
          "source_hidden": false,
          "outputs_hidden": false
        },
        "nteract": {
          "transient": {
            "deleting": false
          }
        }
      }
    },
    {
      "cell_type": "code",
      "source": [
        "# draw3.plot()\n"
      ],
      "outputs": [],
      "execution_count": null,
      "metadata": {
        "collapsed": true,
        "jupyter": {
          "source_hidden": false,
          "outputs_hidden": false
        },
        "nteract": {
          "transient": {
            "deleting": false
          }
        }
      }
    },
    {
      "cell_type": "code",
      "source": [
        "# Assign labels and physical tags to airgap layers according to GetDP formulation\n",
        "gap_msh_area = (g/5)**2/2\n",
        "lab_gap = draw_em.ph_airgap(draw3, lns_int, lns_out, r, g, Dr, gap_msh_area)\n"
      ],
      "outputs": [],
      "execution_count": null,
      "metadata": {
        "collapsed": true,
        "jupyter": {
          "source_hidden": false,
          "outputs_hidden": false
        },
        "nteract": {
          "transient": {
            "deleting": false
          }
        }
      }
    },
    {
      "cell_type": "code",
      "source": [
        "# Plot final tiziano SPM drawing\n",
        "draw3.plot()\n"
      ],
      "outputs": [],
      "execution_count": null,
      "metadata": {
        "collapsed": true,
        "jupyter": {
          "source_hidden": false,
          "outputs_hidden": false
        },
        "nteract": {
          "transient": {
            "deleting": false
          }
        }
      }
    },
    {
      "cell_type": "code",
      "source": [
        "# Mesh SPM drawing\n",
        "mesh3 = draw3.mesh_triangle()\n"
      ],
      "outputs": [],
      "execution_count": null,
      "metadata": {
        "collapsed": true,
        "jupyter": {
          "source_hidden": false,
          "outputs_hidden": false
        },
        "nteract": {
          "transient": {
            "deleting": false
          }
        }
      }
    },
    {
      "cell_type": "code",
      "source": [
        "# Save mesh as gmsh file for GetDP solver\n",
        "draw3.save_mesh('test_SPMinrunner_3.msh')\n"
      ],
      "outputs": [],
      "execution_count": null,
      "metadata": {
        "collapsed": true,
        "jupyter": {
          "source_hidden": false,
          "outputs_hidden": false
        },
        "nteract": {
          "transient": {
            "deleting": false
          }
        }
      }
    },
    {
      "cell_type": "markdown",
      "source": [
        "This image shows the mesh model just created.  \n",
        "It was taken from [Onelab](http://onelab.info/) Gmsh interface.\n",
        "![test machine drawing inrunner SPM - mesh model 3](test_SPMinrunner_3.png)"
      ],
      "metadata": {
        "nteract": {
          "transient": {
            "deleting": false
          }
        }
      }
    }
  ],
  "metadata": {
    "kernelspec": {
      "argv": [
        "C:/Users/elias/anaconda3\\python.exe",
        "-m",
        "ipykernel_launcher",
        "-f",
        "{connection_file}"
      ],
      "display_name": "Python 3",
      "language": "python",
      "name": "python3"
    }
  },
  "nbformat": 4,
  "nbformat_minor": 0
}