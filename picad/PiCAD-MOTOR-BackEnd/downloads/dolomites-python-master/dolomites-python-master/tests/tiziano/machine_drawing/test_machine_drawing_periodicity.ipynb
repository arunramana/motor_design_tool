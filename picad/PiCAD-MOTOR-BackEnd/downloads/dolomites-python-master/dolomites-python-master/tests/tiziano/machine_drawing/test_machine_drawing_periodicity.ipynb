{
  "cells": [
    {
      "cell_type": "markdown",
      "source": [
        "# Test machine_drawing module capabilities\n",
        "\n",
        "## Inrunner SPM Machine drawing with periodicity - Example\n"
      ],
      "metadata": {
        "nteract": {
          "transient": {
            "deleting": false
          }
        }
      }
    },
    {
      "cell_type": "code",
      "source": [
        "# Import useful modules\n",
        "from dolomites import tiziano\n",
        "import machine_drawing as draw_em\n"
      ],
      "outputs": [],
      "execution_count": null,
      "metadata": {
        "collapsed": true,
        "jupyter": {
          "source_hidden": false,
          "outputs_hidden": false
        },
        "nteract": {
          "transient": {
            "deleting": false
          }
        }
      }
    },
    {
      "cell_type": "code",
      "source": [
        "# Define unit length\n",
        "mm = 1e-3  # millimeters\n"
      ],
      "outputs": [],
      "execution_count": null,
      "metadata": {
        "collapsed": true,
        "jupyter": {
          "source_hidden": false,
          "outputs_hidden": false
        },
        "nteract": {
          "transient": {
            "deleting": false
          }
        }
      }
    },
    {
      "cell_type": "code",
      "source": [
        "# SPM Motor geometry data ======================================================\n",
        "\n",
        "r = 1         # inner rotor, outer stator\n",
        "g = 0.4*mm    # airgap thickness\n",
        "\n",
        "# Stator ***********************************************************************\n",
        "Ds = 103*mm     # stator inner diameter\n",
        "Dse = 170*mm    # stator outer diameter\n",
        "Qs = 36         # stator number of slots\n",
        "# Stator slot (trapezoidal slots - rectangular teeth) ---------------------------\n",
        "wt_s = 4.9*mm    # stator teeth width\n",
        "wso = 2.5*mm     # slot opening width\n",
        "hso = 0.64*mm    # slot opening height\n",
        "hs1 = 0*mm       # slot first height after opening (not needed in this case)\n",
        "R1_s = 2.25*mm   # rounding radius of corner near slot opening\n",
        "hwed_s = 0*mm    # wedge height\n",
        "hs = 17.3*mm     # slot total height\n",
        "R2_s = 1.2*mm    # roudning radius of corner far from slot opening\n",
        "# ******************************************************************************\n",
        "\n",
        "# Rotor SPM ********************************************************************\n",
        "p = 3                # number of pole pairs\n",
        "Dre = 30*mm          # rotor inner diameter (shaft diameter)\n",
        "typ_rot = 'norm'     # SPM type (normal or consequent-pole)\n",
        "# Surface mounted Permanent Magnets --------------------------------------------\n",
        "tm = 5*mm            # magnets thickness\n",
        "tin = 0*mm           # magnets thicness buried inside rotor iron\n",
        "alpha_tilt = 0       # magnets mechanical tilting angle in deg\n",
        "typ_pm = 'radial'    # magnets shape (radial or square)\n",
        "# ******************************************************************************\n"
      ],
      "outputs": [],
      "execution_count": null,
      "metadata": {
        "collapsed": true,
        "jupyter": {
          "source_hidden": false,
          "outputs_hidden": false
        },
        "nteract": {
          "transient": {
            "deleting": false
          }
        }
      }
    },
    {
      "cell_type": "code",
      "source": [
        "# Compute needed geometrical data not in datasheet\n",
        "Dr = Ds - 2*g\n",
        "alpha_s = 360/Qs\n",
        "alpha_p = 360/(2*p)\n",
        "alpha_m = alpha_p*2/3\n",
        "wsi = draw_em.calc_w(Ds + 2*r*(hso+hs1), Qs, wt_s)\n",
        "wse = draw_em.calc_w(Ds + 2*r*hs, Qs, wt_s)\n",
        "print('Rotor diamter toward airgap (magnets thickness included): Dr = ', Dr*1e3, ' mm')\n",
        "print('Stator slot width after opening: wsi = ', wsi*1e3, ' mm')\n",
        "print('Stator slot width far from opening: wse = ', wse*1e3, ' mm')\n",
        "print('Stator slot mechanical angle: alpha_s = ', alpha_s, ' deg')\n",
        "print('Pole mechanical angle: alpha_p = ', alpha_p, ' deg')\n",
        "print('Mechanical angle covered by magnet: alpha_m = ', alpha_m, ' deg')\n"
      ],
      "outputs": [],
      "execution_count": null,
      "metadata": {
        "collapsed": true,
        "jupyter": {
          "source_hidden": false,
          "outputs_hidden": false
        },
        "nteract": {
          "transient": {
            "deleting": false
          }
        }
      }
    },
    {
      "cell_type": "code",
      "source": [
        "# Periodicity\n",
        "per = 6\n",
        "Q_sim = int(Qs/per)\n"
      ],
      "outputs": [],
      "execution_count": null,
      "metadata": {
        "collapsed": true,
        "jupyter": {
          "source_hidden": false,
          "outputs_hidden": false
        },
        "nteract": {
          "transient": {
            "deleting": false
          }
        }
      }
    },
    {
      "cell_type": "code",
      "source": [
        "# Init a tiziano drawing instance for SPM\n",
        "draw1 = tiziano.drawing()\n"
      ],
      "outputs": [],
      "execution_count": null,
      "metadata": {
        "collapsed": true,
        "jupyter": {
          "source_hidden": false,
          "outputs_hidden": false
        },
        "nteract": {
          "transient": {
            "deleting": false
          }
        }
      }
    },
    {
      "cell_type": "code",
      "source": [
        "# Draw stator slot\n",
        "slot_pts_s, slot_lns_s = draw_em.slot(draw1, r, Ds, alpha_s, wso, hso, wsi, hs1, hwed_s, wse, hs, R1=R1_s, sol1=2, R2=R2_s, sol2=1, ang_pos=alpha_s/2, coherence=False)\n",
        "print(len(slot_pts_s))\n",
        "print(len(slot_lns_s))\n",
        "print(len(draw1.points))\n",
        "print(len(draw1.lines))\n",
        "# draw1.select(slot_pts_s + slot_lns_s)\n",
        "# draw1.plot()\n",
        "# draw1.clear_selected()\n"
      ],
      "outputs": [],
      "execution_count": null,
      "metadata": {
        "collapsed": true,
        "jupyter": {
          "source_hidden": false,
          "outputs_hidden": false
        },
        "nteract": {
          "transient": {
            "deleting": false
          }
        }
      }
    },
    {
      "cell_type": "code",
      "source": [
        "# Draw stator using 'stator' machine_drawing function\n",
        "stat_pts, stat_lns, stat_Az0lns = draw_em.stator(draw1, slot_pts_s, slot_lns_s, Dse, Q_sim, alpha_s, ang_pos=alpha_s/2, coherence=False)\n",
        "print(len(stat_pts))\n",
        "print(len(stat_lns))\n",
        "print(len(draw1.points))\n",
        "print(len(draw1.lines))\n",
        "# draw1.select(stat_pts + stat_lns)\n",
        "# draw1.plot()\n",
        "# draw1.clear_selected()\n"
      ],
      "outputs": [],
      "execution_count": null,
      "metadata": {
        "collapsed": true,
        "jupyter": {
          "source_hidden": false,
          "outputs_hidden": false
        },
        "nteract": {
          "transient": {
            "deleting": false
          }
        }
      }
    },
    {
      "cell_type": "code",
      "source": [
        "# Assign labels and physical tags to stator according to GetDP formulation\n",
        "msh_areas_stat = [wt_s**2/4, min(wsi, wse)*(hs-hso-hwed_s)/16, wso*hso/6]\n",
        "lab_stat = draw_em.ph_stator(draw1, r, stat_Az0lns, Ds, Dse, Q_sim, alpha_s, wso, hso, hwed_s, hs, msh_areas_stat, ang_pos=alpha_s/2)\n",
        "draw1.plot()\n"
      ],
      "outputs": [],
      "execution_count": null,
      "metadata": {
        "collapsed": true,
        "jupyter": {
          "source_hidden": false,
          "outputs_hidden": false
        },
        "nteract": {
          "transient": {
            "deleting": false
          }
        }
      }
    },
    {
      "cell_type": "code",
      "source": [
        "# Save stator drawing as tiziano file\n",
        "draw1.save('test_stator_36_170x103_per6.tiz')\n"
      ],
      "outputs": [],
      "execution_count": null,
      "metadata": {
        "collapsed": true,
        "jupyter": {
          "source_hidden": false,
          "outputs_hidden": false
        },
        "nteract": {
          "transient": {
            "deleting": false
          }
        }
      }
    },
    {
      "cell_type": "code",
      "source": [
        "# Draw rotor SPM pole\n",
        "pole_pts_r, pole_lns_r = draw_em.SPM_pole(draw1, r, Dr, alpha_p, alpha_m, tm, alpha_tilt=alpha_tilt, tin=tin, ang_pos=alpha_p/2, typ_pm=typ_pm, coherence=False)\n",
        "print(len(pole_pts_r))\n",
        "print(len(pole_lns_r))\n",
        "print(len(draw1.points))\n",
        "print(len(draw1.lines))\n",
        "# draw1.select(pole_pts_r + pole_lns_r)\n",
        "# draw1.plot()\n",
        "# draw1.clear_selected()\n"
      ],
      "outputs": [],
      "execution_count": null,
      "metadata": {
        "collapsed": true,
        "jupyter": {
          "source_hidden": false,
          "outputs_hidden": false
        },
        "nteract": {
          "transient": {
            "deleting": false
          }
        }
      }
    },
    {
      "cell_type": "code",
      "source": [
        "# Draw SPM rotor using 'SPM_rotor' machine_drawing function\n",
        "rot_pts, rot_lns, rot_Az0lns = draw_em.SPM_rotor(draw1, pole_pts_r, pole_lns_r, Dre, p/per, alpha_p, ang_pos=alpha_p/2, typ_rot=typ_rot, coherence=False)\n",
        "print(len(rot_pts))\n",
        "print(len(rot_lns))\n",
        "print(len(draw1.points))\n",
        "print(len(draw1.lines))\n",
        "# draw1.select(rot_pts + rot_lns)\n",
        "# draw1.plot()\n",
        "# draw1.clear_selected()\n"
      ],
      "outputs": [],
      "execution_count": null,
      "metadata": {
        "collapsed": true,
        "jupyter": {
          "source_hidden": false,
          "outputs_hidden": false
        },
        "nteract": {
          "transient": {
            "deleting": false
          }
        }
      }
    },
    {
      "cell_type": "code",
      "source": [
        "# Assign labels and physical tags to rotor according to GetDP formulation\n",
        "msh_areas_rot = [abs(Dr/2 - Dre/2)**2/20, tm**2/4, (tm-tin)**2/4]\n",
        "lab_rot = draw_em.ph_SPMrotor(draw1, r, rot_Az0lns, Dr, Dre, p/per, alpha_p, alpha_m, tm, msh_areas_rot, alpha_tilt=alpha_tilt, tin=tin, ang_pos=alpha_p/2, typ_pm=typ_pm, typ_rot=typ_rot)\n",
        "draw1.plot()\n"
      ],
      "outputs": [],
      "execution_count": null,
      "metadata": {
        "collapsed": true,
        "jupyter": {
          "source_hidden": false,
          "outputs_hidden": false
        },
        "nteract": {
          "transient": {
            "deleting": false
          }
        }
      }
    },
    {
      "cell_type": "code",
      "source": [
        "# Divide airgap into 5 equal layers according to GetDP formulation\n",
        "gap_pts, gap_lns, lns_int, lns_out = draw_em.airgap(draw1, g, Dr, per=6)\n",
        "print(len(gap_pts))\n",
        "print(len(gap_lns))\n",
        "print(len(lns_int))\n",
        "print(len(lns_out))\n",
        "# draw1.select(lns_int)\n",
        "# draw1.plot()\n",
        "# draw1.clear_selected()\n",
        "# draw1.select(lns_out)\n",
        "# draw1.plot()\n",
        "# draw1.clear_selected()\n"
      ],
      "outputs": [],
      "execution_count": null,
      "metadata": {
        "collapsed": true,
        "jupyter": {
          "source_hidden": false,
          "outputs_hidden": false
        },
        "nteract": {
          "transient": {
            "deleting": false
          }
        }
      }
    },
    {
      "cell_type": "code",
      "source": [
        "# Assign labels and physical tags to airgap layers according to GetDP formulation\n",
        "gap_msh_area = (g/5)**2/2\n",
        "lab_gap = draw_em.ph_airgap(draw1, lns_int, lns_out, r, g, Dr, gap_msh_area, ang_pos=alpha_p/2)\n"
      ],
      "outputs": [],
      "execution_count": null,
      "metadata": {
        "collapsed": true,
        "jupyter": {
          "source_hidden": false,
          "outputs_hidden": false
        },
        "nteract": {
          "transient": {
            "deleting": false
          }
        }
      }
    },
    {
      "cell_type": "code",
      "source": [
        "# Close stator with periodic boundaries\n",
        "lns_stat_r, lns_stat_l = draw_em.close_per(draw1, Ds, Dse, g, [18, 19], 80, per, ang_pos=0)\n",
        "print(len(lns_stat_r))\n",
        "print(len(lns_stat_l))\n",
        "# draw1.plot()\n"
      ],
      "outputs": [],
      "execution_count": null,
      "metadata": {
        "collapsed": true,
        "jupyter": {
          "source_hidden": false,
          "outputs_hidden": false
        },
        "nteract": {
          "transient": {
            "deleting": false
          }
        }
      }
    },
    {
      "cell_type": "code",
      "source": [
        "# Close rotor with periodic boundaries\n",
        "lns_rot_r, lns_rot_l = draw_em.close_per(draw1, Dr, Dre, g, [16, 17], 80, per, tout=tm, N_air=40, ang_pos=0)\n",
        "print(len(lns_rot_r))\n",
        "print(len(lns_rot_l))\n",
        "# draw1.plot()\n"
      ],
      "outputs": [],
      "execution_count": null,
      "metadata": {
        "collapsed": true,
        "jupyter": {
          "source_hidden": false,
          "outputs_hidden": false
        },
        "nteract": {
          "transient": {
            "deleting": false
          }
        }
      }
    },
    {
      "cell_type": "code",
      "source": [
        "# Plot final tiziano SPM drawing\n",
        "draw1.plot()\n"
      ],
      "outputs": [],
      "execution_count": null,
      "metadata": {
        "collapsed": true,
        "jupyter": {
          "source_hidden": false,
          "outputs_hidden": false
        },
        "nteract": {
          "transient": {
            "deleting": false
          }
        }
      }
    },
    {
      "cell_type": "code",
      "source": [
        "# Mesh SPM drawing\n",
        "mesh1 = draw1.mesh_triangle()\n"
      ],
      "outputs": [],
      "execution_count": null,
      "metadata": {
        "collapsed": true,
        "jupyter": {
          "source_hidden": false,
          "outputs_hidden": false
        },
        "nteract": {
          "transient": {
            "deleting": false
          }
        }
      }
    },
    {
      "cell_type": "code",
      "source": [
        "# Close Moving Band at rotor side for periodicity\n",
        "draw_em.cloe_MB_per(draw1, per, 30)\n"
      ],
      "outputs": [],
      "execution_count": null,
      "metadata": {
        "collapsed": true,
        "jupyter": {
          "source_hidden": false,
          "outputs_hidden": false
        },
        "nteract": {
          "transient": {
            "deleting": false
          }
        }
      }
    },
    {
      "cell_type": "code",
      "source": [
        "# Save mesh as gmsh file for GetDP solver\n",
        "draw1.save_mesh('test_SPMinrunner_per_1.msh')\n"
      ],
      "outputs": [],
      "execution_count": null,
      "metadata": {
        "collapsed": true,
        "jupyter": {
          "source_hidden": false,
          "outputs_hidden": false
        },
        "nteract": {
          "transient": {
            "deleting": false
          }
        }
      }
    },
    {
      "cell_type": "markdown",
      "source": [
        "This image shows the mesh model just created.  \n",
        "It was taken from [Onelab](http://onelab.info/) Gmsh interface.\n",
        "![test machine drawing periodicity - mesh model 1](test_SPMinrunner_per_1.png)\n"
      ],
      "metadata": {
        "nteract": {
          "transient": {
            "deleting": false
          }
        }
      }
    },
    {
      "cell_type": "markdown",
      "source": [
        "## Inrunner SPM Machine with periodicity - **Another way to do it** -\n",
        "\n",
        " Three equal layers in the airgap, instead of the (default) 5.\n"
      ],
      "metadata": {
        "nteract": {
          "transient": {
            "deleting": false
          }
        }
      }
    },
    {
      "cell_type": "code",
      "source": [
        "# Init a new tiziano drawing instance\n",
        "draw2 = tiziano.drawing()\n"
      ],
      "outputs": [],
      "execution_count": null,
      "metadata": {
        "collapsed": true,
        "jupyter": {
          "source_hidden": false,
          "outputs_hidden": false
        },
        "nteract": {
          "transient": {
            "deleting": false
          }
        }
      }
    },
    {
      "cell_type": "code",
      "source": [
        "# Draw rotor\n",
        "pole_pts_r, pole_lns_r = draw_em.SPM_pole(draw2, r, Dr, alpha_p, alpha_m, tm, alpha_tilt=alpha_tilt, tin=tin, ang_pos=alpha_p/2, typ_pm=typ_pm, coherence=False)\n",
        "print(len(pole_pts_r))\n",
        "print(len(pole_lns_r))\n",
        "print(len(draw2.points))\n",
        "print(len(draw2.lines))\n",
        "# draw1.select(pole_pts_r + pole_lns_r)\n",
        "# draw1.plot()\n",
        "# draw1.clear_selected()\n",
        "\n",
        "rot_pts, rot_lns, rot_Az0lns = draw_em.SPM_rotor(draw2, pole_pts_r, pole_lns_r, Dre, p/per, alpha_p, ang_pos=alpha_p/2, typ_rot=typ_rot, coherence=False)\n",
        "print(len(rot_pts))\n",
        "print(len(rot_lns))\n",
        "print(len(draw2.points))\n",
        "print(len(draw2.lines))\n",
        "# draw1.select(rot_pts + rot_lns)\n",
        "# draw1.plot()\n",
        "# draw1.clear_selected()\n",
        "\n",
        "msh_areas_rot = [abs(Dr/2 - Dre/2)**2/20, tm**2/4, (tm-tin)**2/4]\n",
        "lab_rot = draw_em.ph_SPMrotor(draw2, r, rot_Az0lns, Dr, Dre, p/per, alpha_p, alpha_m, tm, msh_areas_rot, alpha_tilt=alpha_tilt, tin=tin, ang_pos=alpha_p/2, typ_pm=typ_pm, typ_rot=typ_rot)\n",
        "draw2.plot()\n"
      ],
      "outputs": [],
      "execution_count": null,
      "metadata": {
        "collapsed": true,
        "jupyter": {
          "source_hidden": false,
          "outputs_hidden": false
        },
        "nteract": {
          "transient": {
            "deleting": false
          }
        }
      }
    },
    {
      "cell_type": "code",
      "source": [
        "# Draw rotor side airgap layers only\n",
        "rot_gap_pts, rot_gap_lns, rot_mb_lns = draw_em.airgap_oneside(draw2, r, g, Dr, side='rot', da=1.5, per=6, ang_pos=0, ng=3)\n"
      ],
      "outputs": [],
      "execution_count": null,
      "metadata": {
        "collapsed": true,
        "jupyter": {
          "source_hidden": false,
          "outputs_hidden": false
        },
        "nteract": {
          "transient": {
            "deleting": false
          }
        }
      }
    },
    {
      "cell_type": "code",
      "source": [
        "# and assign them labels and ph tags\n",
        "gap_msh_area = (g)**2/2\n",
        "rot_gap_lab = draw_em.ph_airgap_oneside(draw2, rot_mb_lns, r, g, Dr, gap_msh_area, side='rot', ang_pos=alpha_p/2, ng=3)\n",
        "draw2.plot()\n"
      ],
      "outputs": [],
      "execution_count": null,
      "metadata": {
        "collapsed": true,
        "jupyter": {
          "source_hidden": false,
          "outputs_hidden": false
        },
        "nteract": {
          "transient": {
            "deleting": false
          }
        }
      }
    },
    {
      "cell_type": "code",
      "source": [
        "# Close rotor with periodic boundaries\n",
        "lns_rot_r, lns_rot_l = draw_em.close_per(draw2, Dr, Dre, g, [16, 17], 80, per, tout=tm, N_air=40, ang_pos=0, ng=3)\n",
        "draw2.plot()\n"
      ],
      "outputs": [],
      "execution_count": null,
      "metadata": {
        "collapsed": true,
        "jupyter": {
          "source_hidden": false,
          "outputs_hidden": false
        },
        "nteract": {
          "transient": {
            "deleting": false
          }
        }
      }
    },
    {
      "cell_type": "code",
      "source": [
        "# Load stator (without clearing all objects alreay in the drawing! (cl=False))\n",
        "draw2.load('test_stator_36_170x103_per6.tiz', cl=False)\n",
        "draw2.plot()\n"
      ],
      "outputs": [],
      "execution_count": null,
      "metadata": {
        "collapsed": true,
        "jupyter": {
          "source_hidden": false,
          "outputs_hidden": false
        },
        "nteract": {
          "transient": {
            "deleting": false
          }
        }
      }
    },
    {
      "cell_type": "code",
      "source": [
        "# Stator side airgap layers\n",
        "stat_gap_pts, stat_gap_lns, stat_mb_lns = draw_em.airgap_oneside(draw2, r, g, Ds, side='stat', da=1.5, per=6, ang_pos=0, ng=3)\n",
        "gap_msh_area = (g)**2/2\n",
        "stat_gap_lab = draw_em.ph_airgap_oneside(draw2, stat_mb_lns, r, g, Ds, gap_msh_area , side='stat', ang_pos=alpha_p/2, ng=3)\n",
        "# draw2.plot()\n"
      ],
      "outputs": [],
      "execution_count": null,
      "metadata": {
        "collapsed": true,
        "jupyter": {
          "source_hidden": false,
          "outputs_hidden": false
        },
        "nteract": {
          "transient": {
            "deleting": false
          }
        }
      }
    },
    {
      "cell_type": "code",
      "source": [
        "# Close stator with periodic boundaries\n",
        "lns_stat_r, lns_stat_l = draw_em.close_per(draw2, Ds, Dse, g, [18, 19], 80, per, ang_pos=0, ng=3)\n",
        "draw2.plot()\n"
      ],
      "outputs": [],
      "execution_count": null,
      "metadata": {
        "collapsed": true,
        "jupyter": {
          "source_hidden": false,
          "outputs_hidden": false
        },
        "nteract": {
          "transient": {
            "deleting": false
          }
        }
      }
    },
    {
      "cell_type": "code",
      "source": [
        "# Mesh with triangle\n",
        "mesh = draw2.mesh_triangle()\n"
      ],
      "outputs": [],
      "execution_count": null,
      "metadata": {
        "collapsed": true,
        "jupyter": {
          "source_hidden": false,
          "outputs_hidden": false
        },
        "nteract": {
          "transient": {
            "deleting": false
          }
        }
      }
    },
    {
      "cell_type": "code",
      "source": [
        "# Close periodic Moving Band\n",
        "draw_em.cloe_MB_per(draw2, per)\n"
      ],
      "outputs": [],
      "execution_count": null,
      "metadata": {
        "collapsed": true,
        "jupyter": {
          "source_hidden": false,
          "outputs_hidden": false
        },
        "nteract": {
          "transient": {
            "deleting": false
          }
        }
      }
    },
    {
      "cell_type": "code",
      "source": [
        "# Save mesh in gmsh format\n",
        "draw2.save_mesh('test_SPMinrunner_per_2.msh')\n"
      ],
      "outputs": [],
      "execution_count": null,
      "metadata": {
        "collapsed": true,
        "jupyter": {
          "source_hidden": false,
          "outputs_hidden": false
        },
        "nteract": {
          "transient": {
            "deleting": false
          }
        }
      }
    },
    {
      "cell_type": "markdown",
      "source": [
        "This image shows the mesh model just created.  \n",
        "It was taken from [Onelab](http://onelab.info/) Gmsh interface.\n",
        "![test machine drawing periodicity - mesh model 2](test_SPMinrunner_per_2.png)\n"
      ],
      "metadata": {
        "nteract": {
          "transient": {
            "deleting": false
          }
        }
      }
    },
    {
      "cell_type": "markdown",
      "source": [
        "## Inrunner SPM Machine with periodicity - **Tilted and buried magnets** -\n"
      ],
      "metadata": {
        "nteract": {
          "transient": {
            "deleting": false
          }
        }
      }
    },
    {
      "cell_type": "code",
      "source": [
        "# Change magnets' geometrical parameters\n",
        "alpha_tilt = 5  # magnet tilting angle\n",
        "tin = 3*mm      # magnet thickness inside rotor iron\n"
      ],
      "outputs": [],
      "execution_count": null,
      "metadata": {
        "collapsed": true,
        "jupyter": {
          "source_hidden": false,
          "outputs_hidden": false
        },
        "nteract": {
          "transient": {
            "deleting": false
          }
        }
      }
    },
    {
      "cell_type": "code",
      "source": [
        "# Change periodicity\n",
        "per = 3\n",
        "Q_sim = int(Qs/per)\n"
      ],
      "outputs": [],
      "execution_count": null,
      "metadata": {
        "collapsed": true,
        "jupyter": {
          "source_hidden": false,
          "outputs_hidden": false
        },
        "nteract": {
          "transient": {
            "deleting": false
          }
        }
      }
    },
    {
      "cell_type": "code",
      "source": [
        "# Init an new tiziano drawing instance\n",
        "draw3 = tiziano.drawing()\n"
      ],
      "outputs": [],
      "execution_count": null,
      "metadata": {
        "collapsed": true,
        "jupyter": {
          "source_hidden": false,
          "outputs_hidden": false
        },
        "nteract": {
          "transient": {
            "deleting": false
          }
        }
      }
    },
    {
      "cell_type": "code",
      "source": [
        "# Draw stator slot\n",
        "slot_pts_s, slot_lns_s = draw_em.slot(draw3, r, Ds, alpha_s, wso, hso, wsi, hs1, hwed_s, wse, hs, R1=R1_s, sol1=2, R2=R2_s, sol2=1, ang_pos=alpha_s/2)\n",
        "print(len(slot_pts_s))\n",
        "print(len(slot_lns_s))\n",
        "print(len(draw3.points))\n",
        "print(len(draw3.lines))\n",
        "# draw1.select(slot_pts_s + slot_lns_s)\n",
        "# draw1.plot()\n",
        "# draw1.clear_selected()\n"
      ],
      "outputs": [],
      "execution_count": null,
      "metadata": {
        "collapsed": true,
        "jupyter": {
          "source_hidden": false,
          "outputs_hidden": false
        },
        "nteract": {
          "transient": {
            "deleting": false
          }
        }
      }
    },
    {
      "cell_type": "code",
      "source": [
        "# Draw stator using 'stator' machine_drawing function\n",
        "stat_pts, stat_lns, stat_Az0lns = draw_em.stator(draw3, slot_pts_s, slot_lns_s, Dse, Q_sim, alpha_s, ang_pos=alpha_s/2)\n",
        "print(len(stat_pts))\n",
        "print(len(stat_lns))\n",
        "print(len(draw3.points))\n",
        "print(len(draw3.lines))\n",
        "# draw1.select(stat_pts + stat_lns)\n",
        "# draw1.plot()\n",
        "# draw1.clear_selected()\n"
      ],
      "outputs": [],
      "execution_count": null,
      "metadata": {
        "collapsed": true,
        "jupyter": {
          "source_hidden": false,
          "outputs_hidden": false
        },
        "nteract": {
          "transient": {
            "deleting": false
          }
        }
      }
    },
    {
      "cell_type": "code",
      "source": [
        "# Assign labels and physical tags to stator according to GetDP formulation\n",
        "msh_areas_stat = [wt_s**2/4, min(wsi, wse)*(hs-hso-hwed_s)/16, wso*hso/6]\n",
        "lab_stat = draw_em.ph_stator(draw3, r, stat_Az0lns, Ds, Dse, Q_sim, alpha_s, wso, hso, hwed_s, hs, msh_areas_stat, ang_pos=alpha_s/2)\n",
        "draw3.plot()\n"
      ],
      "outputs": [],
      "execution_count": null,
      "metadata": {
        "collapsed": true,
        "jupyter": {
          "source_hidden": false,
          "outputs_hidden": false
        },
        "nteract": {
          "transient": {
            "deleting": false
          }
        }
      }
    },
    {
      "cell_type": "code",
      "source": [
        "# Save stator drawing as tiziano file\n",
        "draw3.save('test_stator_36_170x103_per3.tiz')\n"
      ],
      "outputs": [],
      "execution_count": null,
      "metadata": {
        "collapsed": true,
        "jupyter": {
          "source_hidden": false,
          "outputs_hidden": false
        },
        "nteract": {
          "transient": {
            "deleting": false
          }
        }
      }
    },
    {
      "cell_type": "code",
      "source": [
        "# Draw rotor SPM pole\n",
        "pole_pts_r, pole_lns_r = draw_em.SPM_pole(draw3, r, Dr, alpha_p, alpha_m, tm, alpha_tilt=alpha_tilt, tin=tin, ang_pos=alpha_p/2, typ_pm=typ_pm, coherence=False)\n",
        "print(len(pole_pts_r))\n",
        "print(len(pole_lns_r))\n",
        "print(len(draw3.points))\n",
        "print(len(draw3.lines))\n",
        "# draw1.select(pole_pts_r + pole_lns_r)\n",
        "# draw1.plot()\n",
        "# draw1.clear_selected()\n"
      ],
      "outputs": [],
      "execution_count": null,
      "metadata": {
        "collapsed": true,
        "jupyter": {
          "source_hidden": false,
          "outputs_hidden": false
        },
        "nteract": {
          "transient": {
            "deleting": false
          }
        }
      }
    },
    {
      "cell_type": "code",
      "source": [
        "# Draw SPM rotor using 'SPM_rotor' machine_drawing function\n",
        "rot_pts, rot_lns, rot_Az0lns = draw_em.SPM_rotor(draw3, pole_pts_r, pole_lns_r, Dre, p/per, alpha_p, ang_pos=alpha_p/2)\n",
        "print(len(rot_pts))\n",
        "print(len(rot_lns))\n",
        "print(len(draw3.points))\n",
        "print(len(draw3.lines))\n",
        "# draw1.select(rot_pts + rot_lns)\n",
        "# draw1.plot()\n",
        "# draw1.clear_selected()\n"
      ],
      "outputs": [],
      "execution_count": null,
      "metadata": {
        "collapsed": true,
        "jupyter": {
          "source_hidden": false,
          "outputs_hidden": false
        },
        "nteract": {
          "transient": {
            "deleting": false
          }
        }
      }
    },
    {
      "cell_type": "code",
      "source": [
        "# Assign labels and physical tags to rotor according to GetDP formulation\n",
        "msh_areas_rot = [abs(Dr/2 - Dre/2)**2/20, tm**2/4, (tm-tin)**2/4]\n",
        "lab_rot = draw_em.ph_SPMrotor(draw3, r, rot_Az0lns, Dr, Dre, p/per, alpha_p, alpha_m, tm, msh_areas_rot, alpha_tilt=alpha_tilt, tin=tin, ang_pos=alpha_p/2, typ_pm=typ_pm, typ_rot=typ_rot)\n",
        "# draw3.plot()\n"
      ],
      "outputs": [],
      "execution_count": null,
      "metadata": {
        "collapsed": true,
        "jupyter": {
          "source_hidden": false,
          "outputs_hidden": false
        },
        "nteract": {
          "transient": {
            "deleting": false
          }
        }
      }
    },
    {
      "cell_type": "code",
      "source": [
        "# Divide airgap into 3 equal layers according to GetDP formulation\n",
        "gap_pts, gap_lns, lns_int, lns_out = draw_em.airgap(draw3, g, Dr, per=3, ng=3)\n",
        "print(len(gap_pts))\n",
        "print(len(gap_lns))\n",
        "print(len(lns_int))\n",
        "print(len(lns_out))\n",
        "# draw1.select(lns_int)\n",
        "# draw1.plot()\n",
        "# draw1.clear_selected()\n",
        "# draw1.select(lns_out)\n",
        "# draw1.plot()\n",
        "# draw1.clear_selected()\n"
      ],
      "outputs": [],
      "execution_count": null,
      "metadata": {
        "collapsed": true,
        "jupyter": {
          "source_hidden": false,
          "outputs_hidden": false
        },
        "nteract": {
          "transient": {
            "deleting": false
          }
        }
      }
    },
    {
      "cell_type": "code",
      "source": [
        "# Assign labels and physical tags to airgap layers according to GetDP formulation\n",
        "gap_msh_area = (g)**2/2\n",
        "lab_gap = draw_em.ph_airgap(draw3, lns_int, lns_out, r, g, Dr, gap_msh_area, ang_pos=alpha_p/2, ng=3)\n"
      ],
      "outputs": [],
      "execution_count": null,
      "metadata": {
        "collapsed": true,
        "jupyter": {
          "source_hidden": false,
          "outputs_hidden": false
        },
        "nteract": {
          "transient": {
            "deleting": false
          }
        }
      }
    },
    {
      "cell_type": "code",
      "source": [
        "# Close stator with periodic boundaries\n",
        "lns_stat_r, lns_stat_l = draw_em.close_per(draw3, Ds, Dse, g, [18, 19], 80, per, ang_pos=0, ng=3)\n",
        "print(len(lns_stat_r))\n",
        "print(len(lns_stat_l))\n",
        "# draw1.plot()\n"
      ],
      "outputs": [],
      "execution_count": null,
      "metadata": {
        "collapsed": true,
        "jupyter": {
          "source_hidden": false,
          "outputs_hidden": false
        },
        "nteract": {
          "transient": {
            "deleting": false
          }
        }
      }
    },
    {
      "cell_type": "code",
      "source": [
        "# Close rotor with periodic boundaries\n",
        "lns_rot_r, lns_rot_l = draw_em.close_per(draw3, Dr, Dre, g, [16, 17], 80, per, tout=tm-tin, N_air=40, ang_pos=0, ng=3)\n",
        "print(len(lns_rot_r))\n",
        "print(len(lns_rot_l))\n",
        "# draw1.plot()\n"
      ],
      "outputs": [],
      "execution_count": null,
      "metadata": {
        "collapsed": true,
        "jupyter": {
          "source_hidden": false,
          "outputs_hidden": false
        },
        "nteract": {
          "transient": {
            "deleting": false
          }
        }
      }
    },
    {
      "cell_type": "code",
      "source": [
        "# Plot final tiziano SPM drawing\n",
        "draw3.plot()\n"
      ],
      "outputs": [],
      "execution_count": null,
      "metadata": {
        "collapsed": true,
        "jupyter": {
          "source_hidden": false,
          "outputs_hidden": false
        },
        "nteract": {
          "transient": {
            "deleting": false
          }
        }
      }
    },
    {
      "cell_type": "code",
      "source": [
        "# Mesh SPM drawing\n",
        "mesh1 = draw3.mesh_triangle()\n"
      ],
      "outputs": [],
      "execution_count": null,
      "metadata": {
        "collapsed": true,
        "jupyter": {
          "source_hidden": false,
          "outputs_hidden": false
        },
        "nteract": {
          "transient": {
            "deleting": false
          }
        }
      }
    },
    {
      "cell_type": "code",
      "source": [
        "# Close Moving Band at rotor side for periodicity\n",
        "draw_em.cloe_MB_per(draw3, per)\n"
      ],
      "outputs": [],
      "execution_count": null,
      "metadata": {
        "collapsed": true,
        "jupyter": {
          "source_hidden": false,
          "outputs_hidden": false
        },
        "nteract": {
          "transient": {
            "deleting": false
          }
        }
      }
    },
    {
      "cell_type": "code",
      "source": [
        "# Save mesh as gmsh file for GetDP solver\n",
        "draw3.save_mesh('test_SPMinrunner_per_3.msh')\n"
      ],
      "outputs": [],
      "execution_count": null,
      "metadata": {
        "collapsed": true,
        "jupyter": {
          "source_hidden": false,
          "outputs_hidden": false
        },
        "nteract": {
          "transient": {
            "deleting": false
          }
        }
      }
    },
    {
      "cell_type": "markdown",
      "source": [
        "This image shows the mesh model just created.  \n",
        "It was taken from [Onelab](http://onelab.info/) Gmsh interface.\n",
        "![test machine drawing periodicity - mesh model 3](test_SPMinrunner_per_3.png)\n"
      ],
      "metadata": {
        "nteract": {
          "transient": {
            "deleting": false
          }
        }
      }
    },
    {
      "cell_type": "markdown",
      "source": [
        "## Outrunner SPM Machine with periodicity\n"
      ],
      "metadata": {
        "nteract": {
          "transient": {
            "deleting": false
          }
        }
      }
    },
    {
      "cell_type": "code",
      "source": [
        "# SPM machine geometry data ====================================================\n",
        "# 10 poles - 12 slots fractional slots concentrated winding\n",
        "\n",
        "r = -1        # inner stator, outer rotor\n",
        "g = 0.4*mm    # airgap thickness\n",
        "\n",
        "# Stator ***********************************************************************\n",
        "Ds = 120*mm     # stator outer diameter\n",
        "Dse = 36*mm     # stator inner diameter\n",
        "Qs = 12         # stator number of slots\n",
        "# Stator slot (trapezoidal slots - rectangular teeth) ---------------------------\n",
        "wt_s = 8*mm     # stator teeth width\n",
        "wso = 8*mm      # slot opening width\n",
        "hso = 3.4*mm    # slot opening height\n",
        "hs1 = 2.5*mm       # slot first height after opening (not needed in this case)\n",
        "R1_s = 0*mm        # rounding radius of corner near slot opening\n",
        "hwed_s = 2.5*mm    # wedge height\n",
        "hs = 30*mm         # slot total height\n",
        "R2_s = 0.2*mm      # rounding radius of corner far from slot opening\n",
        "# ******************************************************************************\n",
        "\n",
        "# Rotor SPM ********************************************************************\n",
        "p = 5                # number of pole pairs\n",
        "Dre = 150*mm         # rotor outer diameter (external machine diameter)\n",
        "typ_rot = 'norm'     # SPM type (normal or consequent-pole)\n",
        "# Surface mounted Permanent Magnets --------------------------------------------\n",
        "tm = 4*mm            # magnets thickness\n",
        "tin = 0*mm           # magnets thicness buried inside rotor iron\n",
        "alpha_tilt = 0       # magnets mechanical tilting angle in deg\n",
        "typ_pm = 'radial'    # magnets shape (radial or square)\n",
        "# ******************************************************************************\n"
      ],
      "outputs": [],
      "execution_count": null,
      "metadata": {
        "collapsed": true,
        "jupyter": {
          "source_hidden": false,
          "outputs_hidden": false
        },
        "nteract": {
          "transient": {
            "deleting": false
          }
        }
      }
    },
    {
      "cell_type": "code",
      "source": [
        "# Compute needed geometrical data not in datasheet\n",
        "Dr = Ds - 2*r*g\n",
        "alpha_s = 360/Qs\n",
        "alpha_p = 360/(2*p)\n",
        "alpha_m = alpha_p*2/3\n",
        "wsi = draw_em.calc_w(Ds + 2*r*(hso+hs1), Qs, wt_s)\n",
        "wse = draw_em.calc_w(Ds + 2*r*hs, Qs, wt_s)\n",
        "print('Rotor diamter toward airgap (magnets thickness included): Dr = ', Dr*1e3, ' mm')\n",
        "print('Stator slot width after opening: wsi = ', wsi*1e3, ' mm')\n",
        "print('Stator slot width far from opening: wse = ', wse*1e3, ' mm')\n",
        "print('Stator slot mechanical angle: alpha_s = ', alpha_s, ' deg')\n",
        "print('Pole mechanical angle: alpha_p = ', alpha_p, ' deg')\n",
        "print('Mechanical angle covered by magnet: alpha_m = ', alpha_m, ' deg')\n"
      ],
      "outputs": [],
      "execution_count": null,
      "metadata": {
        "collapsed": true,
        "jupyter": {
          "source_hidden": false,
          "outputs_hidden": false
        },
        "nteract": {
          "transient": {
            "deleting": false
          }
        }
      }
    },
    {
      "cell_type": "code",
      "source": [
        "# Periodicity\n",
        "per = 2\n",
        "Q_sim = int(Qs/per)\n"
      ],
      "outputs": [],
      "execution_count": null,
      "metadata": {
        "collapsed": true,
        "jupyter": {
          "source_hidden": false,
          "outputs_hidden": false
        },
        "nteract": {
          "transient": {
            "deleting": false
          }
        }
      }
    },
    {
      "cell_type": "code",
      "source": [
        "# Init an new tiziano drawing instance\n",
        "draw4 = tiziano.drawing()\n"
      ],
      "outputs": [],
      "execution_count": null,
      "metadata": {
        "collapsed": true,
        "jupyter": {
          "source_hidden": false,
          "outputs_hidden": false
        },
        "nteract": {
          "transient": {
            "deleting": false
          }
        }
      }
    },
    {
      "cell_type": "code",
      "source": [
        "# Draw stator slot\n",
        "slot_pts_s, slot_lns_s = draw_em.slot(draw4, r, Ds, alpha_s, wso, hso, wsi, hs1, hwed_s, wse, hs, R1=R1_s, sol1=2, R2=R2_s, sol2=1, ang_pos=alpha_s/2)\n",
        "print(len(slot_pts_s))\n",
        "print(len(slot_lns_s))\n",
        "print(len(draw4.points))\n",
        "print(len(draw4.lines))\n",
        "# draw1.select(slot_pts_s + slot_lns_s)\n",
        "# draw1.plot()\n",
        "# draw1.clear_selected()\n"
      ],
      "outputs": [],
      "execution_count": null,
      "metadata": {
        "collapsed": true,
        "jupyter": {
          "source_hidden": false,
          "outputs_hidden": false
        },
        "nteract": {
          "transient": {
            "deleting": false
          }
        }
      }
    },
    {
      "cell_type": "code",
      "source": [
        "# Draw stator using 'stator' machine_drawing function\n",
        "stat_pts, stat_lns, stat_Az0lns = draw_em.stator(draw4, slot_pts_s, slot_lns_s, Dse, Q_sim, alpha_s, ang_pos=alpha_s/2)\n",
        "print(len(stat_pts))\n",
        "print(len(stat_lns))\n",
        "print(len(draw4.points))\n",
        "print(len(draw4.lines))\n",
        "# draw1.select(stat_pts + stat_lns)\n",
        "# draw1.plot()\n",
        "# draw1.clear_selected()\n"
      ],
      "outputs": [],
      "execution_count": null,
      "metadata": {
        "collapsed": true,
        "jupyter": {
          "source_hidden": false,
          "outputs_hidden": false
        },
        "nteract": {
          "transient": {
            "deleting": false
          }
        }
      }
    },
    {
      "cell_type": "code",
      "source": [
        "# Assign labels and physical tags to stator according to GetDP formulation\n",
        "msh_areas_stat = [wt_s**2/4, min(wsi, wse)*(hs-hso-hwed_s)/16, wso*hso/6]\n",
        "lab_stat = draw_em.ph_stator(draw4, r, stat_Az0lns, Ds, Dse, Q_sim, alpha_s, wso, hso, hwed_s, hs, msh_areas_stat, ang_pos=alpha_s/2)\n",
        "# draw4.plot()\n"
      ],
      "outputs": [],
      "execution_count": null,
      "metadata": {
        "collapsed": true,
        "jupyter": {
          "source_hidden": false,
          "outputs_hidden": false
        },
        "nteract": {
          "transient": {
            "deleting": false
          }
        }
      }
    },
    {
      "cell_type": "code",
      "source": [
        "# Draw rotor SPM pole\n",
        "pole_pts_r, pole_lns_r = draw_em.SPM_pole(draw4, r, Dr, alpha_p, alpha_m, tm, alpha_tilt=alpha_tilt, tin=tin, ang_pos=alpha_p/2, typ_pm=typ_pm, coherence=False)\n",
        "print(len(pole_pts_r))\n",
        "print(len(pole_lns_r))\n",
        "print(len(draw4.points))\n",
        "print(len(draw4.lines))\n",
        "# draw1.select(pole_pts_r + pole_lns_r)\n",
        "# draw1.plot()\n",
        "# draw1.clear_selected()\n"
      ],
      "outputs": [],
      "execution_count": null,
      "metadata": {
        "collapsed": true,
        "jupyter": {
          "source_hidden": false,
          "outputs_hidden": false
        },
        "nteract": {
          "transient": {
            "deleting": false
          }
        }
      }
    },
    {
      "cell_type": "code",
      "source": [
        "# Draw SPM rotor using 'SPM_rotor' machine_drawing function\n",
        "rot_pts, rot_lns, rot_Az0lns = draw_em.SPM_rotor(draw4, pole_pts_r, pole_lns_r, Dre, p/per, alpha_p, ang_pos=alpha_p/2)\n",
        "print(len(rot_pts))\n",
        "print(len(rot_lns))\n",
        "print(len(draw4.points))\n",
        "print(len(draw4.lines))\n",
        "# draw1.select(rot_pts + rot_lns)\n",
        "# draw1.plot()\n",
        "# draw1.clear_selected()\n",
        "\n"
      ],
      "outputs": [],
      "execution_count": null,
      "metadata": {
        "collapsed": true,
        "jupyter": {
          "source_hidden": false,
          "outputs_hidden": false
        },
        "nteract": {
          "transient": {
            "deleting": false
          }
        }
      }
    },
    {
      "cell_type": "code",
      "source": [
        "# Assign labels and physical tags to rotor according to GetDP formulation\n",
        "msh_areas_rot = [abs(Dr/2 - Dre/2)**2/20, tm**2/4, (tm-tin)**2/4]\n",
        "lab_rot = draw_em.ph_SPMrotor(draw4, r, rot_Az0lns, Dr, Dre, p/per, alpha_p, alpha_m, tm, msh_areas_rot, alpha_tilt=alpha_tilt, tin=tin, ang_pos=alpha_p/2, typ_pm=typ_pm, typ_rot=typ_rot)\n",
        "# draw4.plot()\n"
      ],
      "outputs": [],
      "execution_count": null,
      "metadata": {
        "collapsed": true,
        "jupyter": {
          "source_hidden": false,
          "outputs_hidden": false
        },
        "nteract": {
          "transient": {
            "deleting": false
          }
        }
      }
    },
    {
      "cell_type": "code",
      "source": [
        "# Divide airgap into 5 equal layers according to GetDP formulation\n",
        "gap_pts, gap_lns, lns_int, lns_out = draw_em.airgap(draw4, g, Ds, per=2)\n",
        "print(len(gap_pts))\n",
        "print(len(gap_lns))\n",
        "print(len(lns_int))\n",
        "print(len(lns_out))\n",
        "# draw1.select(lns_int)\n",
        "# draw1.plot()\n",
        "# draw1.clear_selected()\n",
        "# draw1.select(lns_out)\n",
        "# draw1.plot()\n",
        "# draw1.clear_selected()\n"
      ],
      "outputs": [],
      "execution_count": null,
      "metadata": {
        "collapsed": true,
        "jupyter": {
          "source_hidden": false,
          "outputs_hidden": false
        },
        "nteract": {
          "transient": {
            "deleting": false
          }
        }
      }
    },
    {
      "cell_type": "code",
      "source": [
        "# Assign labels and physical tags to airgap layers according to GetDP formulation\n",
        "gap_msh_area = (g/5)**2/2\n",
        "lab_gap = draw_em.ph_airgap(draw4, lns_int, lns_out, r, g, Ds, gap_msh_area, ang_pos=alpha_p/2)\n"
      ],
      "outputs": [],
      "execution_count": null,
      "metadata": {
        "collapsed": true,
        "jupyter": {
          "source_hidden": false,
          "outputs_hidden": false
        },
        "nteract": {
          "transient": {
            "deleting": false
          }
        }
      }
    },
    {
      "cell_type": "code",
      "source": [
        "# Close stator with periodic boundaries\n",
        "lns_stat_r, lns_stat_l = draw_em.close_per(draw4, Ds, Dse, g, [18, 19], 140, per, ang_pos=0)\n",
        "print(len(lns_stat_r))\n",
        "print(len(lns_stat_l))\n",
        "# draw1.plot()\n"
      ],
      "outputs": [],
      "execution_count": null,
      "metadata": {
        "collapsed": true,
        "jupyter": {
          "source_hidden": false,
          "outputs_hidden": false
        },
        "nteract": {
          "transient": {
            "deleting": false
          }
        }
      }
    },
    {
      "cell_type": "code",
      "source": [
        "# Close rotor with periodic boundaries\n",
        "lns_rot_r, lns_rot_l = draw_em.close_per(draw4, Dr, Dre, g, [16, 17], 80, per, tout=tm, N_air=40, ang_pos=0)\n",
        "print(len(lns_rot_r))\n",
        "print(len(lns_rot_l))\n",
        "# draw1.plot()\n"
      ],
      "outputs": [],
      "execution_count": null,
      "metadata": {
        "collapsed": true,
        "jupyter": {
          "source_hidden": false,
          "outputs_hidden": false
        },
        "nteract": {
          "transient": {
            "deleting": false
          }
        }
      }
    },
    {
      "cell_type": "code",
      "source": [
        "# Plot final tiziano SPM drawing\n",
        "draw4.plot()\n"
      ],
      "outputs": [],
      "execution_count": null,
      "metadata": {
        "collapsed": true,
        "jupyter": {
          "source_hidden": false,
          "outputs_hidden": false
        },
        "nteract": {
          "transient": {
            "deleting": false
          }
        }
      }
    },
    {
      "cell_type": "code",
      "source": [
        "# Mesh SPM drawing\n",
        "mesh1 = draw4.mesh_triangle()\n"
      ],
      "outputs": [],
      "execution_count": null,
      "metadata": {
        "collapsed": true,
        "jupyter": {
          "source_hidden": false,
          "outputs_hidden": false
        },
        "nteract": {
          "transient": {
            "deleting": false
          }
        }
      }
    },
    {
      "cell_type": "code",
      "source": [
        "# Close Moving Band at rotor side for periodicity\n",
        "draw_em.cloe_MB_per(draw4, per)\n"
      ],
      "outputs": [],
      "execution_count": null,
      "metadata": {
        "collapsed": true,
        "jupyter": {
          "source_hidden": false,
          "outputs_hidden": false
        },
        "nteract": {
          "transient": {
            "deleting": false
          }
        }
      }
    },
    {
      "cell_type": "code",
      "source": [
        "# Save mesh as gmsh file for GetDP solver\n",
        "draw4.save_mesh('test_SPMoutrunner_per_1.msh')\n"
      ],
      "outputs": [],
      "execution_count": null,
      "metadata": {
        "collapsed": true,
        "jupyter": {
          "source_hidden": false,
          "outputs_hidden": false
        },
        "nteract": {
          "transient": {
            "deleting": false
          }
        }
      }
    },
    {
      "cell_type": "markdown",
      "source": [
        "This image shows the mesh model just created.  \n",
        "It was taken from [Onelab](http://onelab.info/) Gmsh interface.\n",
        "![test machine drawing periodicity - mesh model 4](test_SPMoutrunner_per_1.png)"
      ],
      "metadata": {
        "nteract": {
          "transient": {
            "deleting": false
          }
        }
      }
    }
  ],
  "metadata": {
    "kernelspec": {
      "argv": [
        "C:/Users/elias/anaconda3\\python.exe",
        "-m",
        "ipykernel_launcher",
        "-f",
        "{connection_file}"
      ],
      "display_name": "Python 3",
      "language": "python",
      "name": "python3"
    }
  },
  "nbformat": 4,
  "nbformat_minor": 0
}