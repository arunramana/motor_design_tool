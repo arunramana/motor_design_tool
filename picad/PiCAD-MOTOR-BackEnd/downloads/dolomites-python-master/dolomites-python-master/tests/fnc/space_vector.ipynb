{
 "cells": [
  {
   "cell_type": "code",
   "execution_count": 1,
   "id": "1b5a6218",
   "metadata": {},
   "outputs": [
    {
     "name": "stdout",
     "output_type": "stream",
     "text": [
      "animate_time\n",
      "update_line 0.0 100.0 -49.999999999999986 -50.00000000000004\n",
      "animate_time\n",
      "update_line 0.0005 98.72009760215833 -35.81911165953429 -62.90098594262405\n",
      "animate_time\n",
      "update_line 0.001 95.10565162951535 -20.791169081775912 -74.31448254773946\n",
      "animate_time\n",
      "update_line 0.0015 89.05668662549417 -5.231013160783602 -83.82567346471055\n",
      "animate_time\n",
      "update_line 0.002 80.90169943749474 10.452846326765368 -91.35454576426011\n",
      "animate_time\n",
      "update_line 0.0025 70.67578666750501 25.8691333527564 -96.54492002026139\n",
      "animate_time\n",
      "update_line 0.003 58.7785252292473 40.67366430758004 -99.45218953682733\n",
      "animate_time\n",
      "update_line 0.0035 45.376648283339385 54.43702885287812 -99.81367713621749\n",
      "animate_time\n",
      "update_line 0.004 30.901699437494745 66.91306063588584 -97.81476007338055\n",
      "animate_time\n",
      "update_line 0.0045000000000000005 15.635727407501424 77.67624868379765 -93.31197609129906\n",
      "animate_time\n",
      "update_line 0.005000000000000001 -2.1107813078333317e-14 86.60254037844389 -86.60254037844383\n",
      "animate_time\n",
      "update_line 0.005500000000000001 -15.63572740750149 93.3119760912991 -77.67624868379758\n",
      "animate_time\n",
      "update_line 0.006000000000000002 -30.901699437494806 97.81476007338058 -66.91306063588574\n",
      "animate_time\n",
      "update_line 0.006500000000000002 -45.37664828333947 99.81367713621749 -54.43702885287799\n",
      "animate_time\n",
      "update_line 0.007000000000000003 -58.778525229247364 99.45218953682732 -40.67366430757991\n",
      "animate_time\n",
      "update_line 0.007500000000000003 -70.6757866675051 96.54492002026134 -25.86913335275622\n",
      "animate_time\n",
      "update_line 0.008000000000000004 -80.90169943749478 91.35454576426004 -10.452846326765203\n",
      "animate_time\n",
      "update_line 0.008500000000000004 -89.05668662549421 83.82567346471045 5.231013160783811\n",
      "animate_time\n",
      "update_line 0.009000000000000005 -95.10565162951539 74.3144825477393 20.79116908177612\n",
      "animate_time\n",
      "update_line 0.009500000000000005 -98.72009760215835 62.90098594262388 35.81911165953449\n",
      "animate_time\n",
      "update_line 0.010000000000000005 -100.0 49.999999999999844 50.00000000000018\n",
      "animate_time\n",
      "update_line 0.010500000000000006 -98.72009760215829 35.81911165953411 62.900985942624196\n",
      "animate_time\n",
      "update_line 0.011000000000000006 -95.1056516295153 20.79116908177572 74.31448254773957\n",
      "animate_time\n",
      "update_line 0.011500000000000007 -89.05668662549407 5.231013160783402 83.82567346471068\n",
      "animate_time\n",
      "update_line 0.012000000000000007 -80.9016994374946 -10.452846326765616 91.35454576426021\n",
      "animate_time\n",
      "update_line 0.012500000000000008 -70.67578666750484 -25.869133352756627 96.54492002026146\n",
      "animate_time\n",
      "update_line 0.013000000000000008 -58.77852522924708 -40.67366430758031 99.45218953682736\n",
      "animate_time\n",
      "update_line 0.013500000000000009 -45.37664828333915 -54.43702885287834 99.81367713621748\n",
      "animate_time\n",
      "update_line 0.014000000000000009 -30.901699437494493 -66.91306063588603 97.81476007338048\n",
      "animate_time\n",
      "update_line 0.01450000000000001 -15.635727407501149 -77.67624868379784 93.31197609129896\n",
      "animate_time\n",
      "update_line 0.01500000000000001 3.4275861072350256e-13 -86.60254037844405 86.60254037844366\n",
      "animate_time\n",
      "update_line 0.01550000000000001 15.635727407501765 -93.31197609129921 77.6762486837974\n",
      "animate_time\n",
      "update_line 0.01600000000000001 30.901699437495033 -97.81476007338063 66.91306063588554\n",
      "animate_time\n",
      "update_line 0.01650000000000001 45.37664828333975 -99.81367713621752 54.437028852877724\n",
      "animate_time\n",
      "update_line 0.01700000000000001 58.77852522924763 -99.45218953682729 40.67366430757961\n",
      "animate_time\n",
      "update_line 0.017500000000000012 70.67578666750529 -96.54492002026127 25.86913335275594\n",
      "animate_time\n",
      "update_line 0.018000000000000013 80.90169943749497 -91.35454576425991 10.452846326764908\n",
      "animate_time\n",
      "update_line 0.018500000000000013 89.05668662549434 -83.82567346471029 -5.231013160784071\n",
      "animate_time\n",
      "update_line 0.019000000000000013 95.10565162951548 -74.31448254773913 -20.791169081776378\n",
      "animate_time\n",
      "update_line 0.019500000000000014 98.72009760215839 -62.90098594262371 -35.81911165953474\n",
      "animate_time\n",
      "update_line 0.020000000000000014 99.99999999999999 -49.99999999999958 -50.00000000000039\n",
      "animate_time\n",
      "update_line 0.020500000000000015 98.72009760215825 -35.81911165953378 -62.900985942624445\n",
      "animate_time\n",
      "update_line 0.021000000000000015 95.1056516295152 -20.79116908177546 -74.31448254773977\n",
      "animate_time\n",
      "update_line 0.021500000000000016 89.05668662549392 -5.231013160783058 -83.82567346471083\n",
      "animate_time\n",
      "update_line 0.022000000000000016 80.90169943749443 10.452846326765819 -91.35454576426031\n",
      "animate_time\n",
      "update_line 0.022500000000000017 70.67578666750465 25.86913335275688 -96.54492002026151\n",
      "animate_time\n",
      "update_line 0.023000000000000017 58.77852522924689 40.673664307580545 -99.45218953682738\n",
      "animate_time\n",
      "update_line 0.023500000000000017 45.37664828333894 54.43702885287851 -99.81367713621746\n",
      "animate_time\n",
      "update_line 0.024000000000000018 30.901699437494162 66.91306063588624 -97.81476007338041\n",
      "animate_time\n",
      "update_line 0.02450000000000002 15.635727407500848 77.67624868379806 -93.31197609129885\n",
      "animate_time\n",
      "update_line 0.02500000000000002 -6.028226134727292e-13 86.60254037844413 -86.60254037844354\n",
      "animate_time\n",
      "update_line 0.02550000000000002 -15.635727407502038 93.31197609129931 -77.67624868379723\n",
      "animate_time\n",
      "update_line 0.02600000000000002 -30.901699437495388 97.81476007338071 -66.91306063588527\n",
      "animate_time\n",
      "update_line 0.02650000000000002 -45.37664828333998 99.81367713621754 -54.43702885287751\n",
      "animate_time\n",
      "update_line 0.02700000000000002 -58.77852522924781 99.45218953682725 -40.67366430757941\n",
      "animate_time\n",
      "update_line 0.02750000000000002 -70.67578666750548 96.54492002026119 -25.86913335275569\n",
      "animate_time\n",
      "update_line 0.02800000000000002 -80.9016994374951 91.3545457642598 -10.452846326764684\n",
      "animate_time\n",
      "update_line 0.028500000000000022 -89.05668662549448 83.82567346471012 5.231013160784375\n",
      "animate_time\n",
      "update_line 0.029000000000000022 -95.10565162951552 74.31448254773895 20.79116908177658\n",
      "animate_time\n",
      "update_line 0.029500000000000023 -98.72009760215843 62.90098594262341 35.81911165953501\n",
      "animate_time\n",
      "update_line 0.030000000000000023 -99.99999999999999 49.99999999999925 50.00000000000072\n",
      "animate_time\n",
      "update_line 0.030500000000000024 -98.7200976021582 35.81911165953354 62.900985942624644\n",
      "animate_time\n",
      "update_line 0.031000000000000024 -95.10565162951511 20.791169081775156 74.31448254773993\n",
      "animate_time\n",
      "update_line 0.03150000000000002 -89.0566866254939 5.231013160782961 83.82567346471087\n",
      "animate_time\n",
      "update_line 0.03200000000000002 -80.90169943749437 -10.452846326766023 91.35454576426032\n",
      "animate_time\n",
      "update_line 0.03250000000000002 -70.67578666750451 -25.86913335275711 96.54492002026157\n",
      "animate_time\n",
      "update_line 0.03300000000000002 -58.77852522924666 -40.6736643075808 99.45218953682739\n",
      "animate_time\n",
      "update_line 0.03350000000000002 -45.37664828333869 -54.43702885287882 99.81367713621745\n",
      "animate_time\n",
      "update_line 0.03400000000000002 -30.901699437493985 -66.91306063588645 97.81476007338037\n",
      "animate_time\n",
      "update_line 0.034500000000000024 -15.635727407500644 -77.67624868379819 93.31197609129877\n",
      "animate_time\n",
      "update_line 0.035000000000000024 7.883181757475484e-13 -86.60254037844427 86.60254037844344\n",
      "animate_time\n",
      "update_line 0.035500000000000025 15.635727407502241 -93.3119760912994 77.6762486837971\n",
      "animate_time\n",
      "update_line 0.036000000000000025 30.90169943749548 -97.81476007338071 66.91306063588519\n",
      "animate_time\n",
      "update_line 0.036500000000000025 45.37664828334012 -99.81367713621754 54.43702885287738\n",
      "animate_time\n",
      "update_line 0.037000000000000026 58.77852522924794 -99.45218953682723 40.67366430757926\n",
      "animate_time\n",
      "update_line 0.037500000000000026 70.67578666750558 -96.54492002026116 25.869133352755544\n",
      "animate_time\n",
      "update_line 0.03800000000000003 80.9016994374952 -91.3545457642597 10.452846326764478\n",
      "animate_time\n",
      "update_line 0.03850000000000003 89.05668662549452 -83.82567346471006 -5.231013160784473\n",
      "animate_time\n",
      "update_line 0.03900000000000003 95.10565162951558 -74.31448254773882 -20.79116908177669\n",
      "animate_time\n",
      "update_line 0.03950000000000003 98.72009760215846 -62.90098594262328 -35.81911165953519\n",
      "animate_time\n",
      "update_line 0.04000000000000003 100.0 -49.999999999999986 -50.00000000000008\n"
     ]
    },
    {
     "name": "stderr",
     "output_type": "stream",
     "text": [
      "qt.pointer.dispatch: skipping QEventPoint(id=1 ts=0 pos=0,0 scn=535.385,549.925 gbl=535.385,549.925 Released ellipse=(1x1 ∡ 0) vel=0,0 press=-535.385,-549.925 last=-535.385,-549.925 Δ 535.385,549.925) : no target window\n"
     ]
    },
    {
     "data": {
      "text/plain": [
       "0"
      ]
     },
     "execution_count": 1,
     "metadata": {},
     "output_type": "execute_result"
    }
   ],
   "source": [
    "from dolomites import fnc\n",
    "from PySide6.QtWidgets import QApplication\n",
    "import sys,os, numpy as np\n",
    "\n",
    "app = QApplication([])\n",
    "win = fnc.fnc_widget()\n",
    "\n",
    "\n",
    "f    = 50  # the frequncy of the current\n",
    "Im   = 100 # the peak value\n",
    "t    = np.linspace(0,2/f,201) # we take 2 periods\n",
    "\n",
    "a = Im*np.cos(2*np.pi*f*t)\n",
    "b = Im*np.cos(2*np.pi*f*t - 2/3*np.pi)\n",
    "c = Im*np.cos(2*np.pi*f*t - 4/3*np.pi)\n",
    "\n",
    "win.add_series(t,a,b,c)\n",
    "\n",
    "win.show()\n",
    "app.exec()"
   ]
  },
  {
   "cell_type": "code",
   "execution_count": 44,
   "id": "47aa6cdd",
   "metadata": {},
   "outputs": [],
   "source": [
    "sv=-3+4j"
   ]
  },
  {
   "cell_type": "code",
   "execution_count": 46,
   "id": "f99799e6",
   "metadata": {},
   "outputs": [],
   "source": [
    "c=sv"
   ]
  },
  {
   "cell_type": "code",
   "execution_count": 47,
   "id": "86393715",
   "metadata": {},
   "outputs": [
    {
     "data": {
      "text/plain": [
       "5.0"
      ]
     },
     "execution_count": 47,
     "metadata": {},
     "output_type": "execute_result"
    }
   ],
   "source": [
    "abs(c)"
   ]
  },
  {
   "cell_type": "code",
   "execution_count": 48,
   "id": "1f83aa45",
   "metadata": {},
   "outputs": [
    {
     "data": {
      "text/plain": [
       "2.214297435588181"
      ]
     },
     "execution_count": 48,
     "metadata": {},
     "output_type": "execute_result"
    }
   ],
   "source": [
    "from cmath import *\n",
    "cmath.phase(c)\n"
   ]
  },
  {
   "cell_type": "code",
   "execution_count": 49,
   "id": "a62e9ede",
   "metadata": {},
   "outputs": [
    {
     "data": {
      "text/plain": [
       "'( -3.000 + j   4.000) - (  5.000  <   2.214rad [126.870 deg])'"
      ]
     },
     "execution_count": 49,
     "metadata": {},
     "output_type": "execute_result"
    }
   ],
   "source": [
    "'({:7.3f} + j {:7.3f}) - ({:7.3f}  < {:-7.3f}rad [{:7.3f} deg])'.format(c.real,c.imag, abs(c), phase(c),np.degrees(phase(c)))"
   ]
  },
  {
   "cell_type": "code",
   "execution_count": 32,
   "id": "2e99078e",
   "metadata": {},
   "outputs": [
    {
     "name": "stdout",
     "output_type": "stream",
     "text": [
      "(3.0 +j 4.0)\n"
     ]
    }
   ],
   "source": [
    "msg = '({0.real} +j {0.imag})'.format(c)\n",
    "print(msg)"
   ]
  },
  {
   "cell_type": "code",
   "execution_count": 26,
   "id": "0e3c5be1",
   "metadata": {},
   "outputs": [
    {
     "ename": "TypeError",
     "evalue": "not all arguments converted during string formatting",
     "output_type": "error",
     "traceback": [
      "\u001b[0;31m---------------------------------------------------------------------------\u001b[0m",
      "\u001b[0;31mTypeError\u001b[0m                                 Traceback (most recent call last)",
      "Cell \u001b[0;32mIn [26], line 1\u001b[0m\n\u001b[0;32m----> 1\u001b[0m msg \u001b[38;5;241m=\u001b[39m \u001b[38;5;124;43m'\u001b[39;49m\u001b[38;5;132;43;01m{10.4f}\u001b[39;49;00m\u001b[38;5;124;43m'\u001b[39;49m\u001b[43m \u001b[49m\u001b[38;5;241;43m%\u001b[39;49m\u001b[43m \u001b[49m\u001b[38;5;241;43m1\u001b[39;49m\n",
      "\u001b[0;31mTypeError\u001b[0m: not all arguments converted during string formatting"
     ]
    }
   ],
   "source": [
    "msg = '{10.4f}' % 1"
   ]
  },
  {
   "cell_type": "code",
   "execution_count": 24,
   "id": "6fede5c0",
   "metadata": {},
   "outputs": [
    {
     "data": {
      "text/plain": [
       "'Hey luigi, there is a 0x9 error!'"
      ]
     },
     "execution_count": 24,
     "metadata": {},
     "output_type": "execute_result"
    }
   ],
   "source": [
    "name = 'luigi'\n",
    "errno = 9\n",
    "\n",
    "'Hey %s, there is a 0x%x error!' % (name, errno)"
   ]
  },
  {
   "cell_type": "code",
   "execution_count": null,
   "id": "7c4fc70e",
   "metadata": {},
   "outputs": [],
   "source": []
  }
 ],
 "metadata": {
  "kernelspec": {
   "display_name": "Python 3 (ipykernel)",
   "language": "python",
   "name": "python3"
  },
  "language_info": {
   "codemirror_mode": {
    "name": "ipython",
    "version": 3
   },
   "file_extension": ".py",
   "mimetype": "text/x-python",
   "name": "python",
   "nbconvert_exporter": "python",
   "pygments_lexer": "ipython3",
   "version": "3.10.7"
  }
 },
 "nbformat": 4,
 "nbformat_minor": 5
}
