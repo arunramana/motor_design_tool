{
 "cells": [
  {
   "cell_type": "markdown",
   "id": "7b408bd9",
   "metadata": {},
   "source": [
    "# Generate a table of winding factors for various slot/pole combinations\n",
    "\n",
    "This notebook shows how to compute a table to compare the winding factors of different windings"
   ]
  },
  {
   "cell_type": "code",
   "execution_count": 22,
   "id": "baa7e1d7",
   "metadata": {},
   "outputs": [
    {
     "name": "stdout",
     "output_type": "stream",
     "text": [
      "[[ 0.866  0.866 -1.     0.866  0.866 -1.     0.866]\n",
      " [ 1.     0.866 -1.     0.866  0.5   -1.     0.5  ]\n",
      " [ 0.945  0.945  0.866  0.945  0.945  0.866  0.617]\n",
      " [ 0.966  1.    -1.     0.866  0.966 -1.     0.966]\n",
      " [ 0.951  0.91  -1.     0.711  0.866 -1.     0.951]\n",
      " [ 0.96   0.831  1.     0.617  0.735  0.866  0.902]\n",
      " [ 0.953  0.953 -1.     0.89   0.953 -1.     0.866]]\n",
      "[[ 0.866  0.866 -1.     0.866  0.866 -1.     0.866]\n",
      " [ 1.     0.866 -1.     0.866  0.5   -1.     0.5  ]\n",
      " [ 0.945  0.945  0.866  0.945  0.945  0.866  0.617]\n",
      " [ 0.966  1.    -1.     0.866  0.933 -1.     0.933]\n",
      " [ 0.951  0.91  -1.     0.711  0.866 -1.     0.951]\n",
      " [ 0.96   0.945  1.     0.945  0.735  0.866  0.902]\n",
      " [ 0.953  0.953 -1.     0.89   0.953 -1.     0.866]]\n"
     ]
    }
   ],
   "source": [
    "from dolomites import koil\n",
    "import numpy as np\n",
    "m = 3\n",
    "p = [1, 2, 3, 4, 5, 6,7]     # number of pole pairs\n",
    "Q = [3, 6, 9, 12, 15, 18,21] # number of slots\n",
    "\n",
    "# we consider bot single and double layer possibility\n",
    "kw_1l = np.zeros((len(Q),len(p)))\n",
    "kw_2l = np.zeros((len(Q),len(p)))\n",
    "\n",
    "\n",
    "for i in range(len(Q)):\n",
    "    for j in range(len(p)):\n",
    "        \n",
    "        sos = koil.star_of_slot(m, Q[i], p[j]);\n",
    "        sos.create_sectors();\n",
    "        # check about winding feasibility\n",
    "        if (sos.t < 0): # the winding is not feasible\n",
    "            kw_1l[i][j] = -1\n",
    "            kw_2l[i][j] = -1\n",
    "            continue\n",
    "\n",
    "        # we create an ampty winding\n",
    "        w_1l = koil.m_phase_winding()\n",
    "        w_2l = koil.m_phase_winding()\n",
    "\n",
    "        # we ask the sos to populate the winding\n",
    "        sos.populate_winding(w_1l,single_layer=True);\n",
    "        sos.populate_winding(w_2l,single_layer=False);\n",
    "\n",
    "        # we can then get winding factors (for the main harmonic)\n",
    "        _kw_1l = w_1l.windings[0].get_kw()\n",
    "        _kw_2l = w_2l.windings[0].get_kw()\n",
    "        \n",
    "        # we store the results in a table\n",
    "\n",
    "        kw_1l[i][j] = np.round(_kw_1l,3)\n",
    "        kw_2l[i][j] = np.round(_kw_2l,3)\n",
    "print(kw_1l)\n",
    "print(kw_2l)\n"
   ]
  },
  {
   "cell_type": "code",
   "execution_count": 23,
   "id": "ede53ef3",
   "metadata": {},
   "outputs": [
    {
     "data": {
      "image/png": "[encoded data removed]",
      "text/plain": [
       "<Figure size 432x288 with 2 Axes>"
      ]
     },
     "metadata": {
      "needs_background": "light"
     },
     "output_type": "display_data"
    },
    {
     "name": "stdout",
     "output_type": "stream",
     "text": [
      "1\n",
      "0.9452136366029517\n",
      "[coil (2, 4, 1), coil (4, 6, -1), coil (9, 2, -1)]\n"
     ]
    }
   ],
   "source": [
    "# here we can check some specific case when needed....\n",
    "\n",
    "# Let define some data...\n",
    "m = 3;  # Number of phases\n",
    "Q = 9; # Number of slots\n",
    "p = 2;  # Number of pole pairs\n",
    "\n",
    "from dolomites import koil\n",
    "\n",
    "sos = koil.star_of_slot(m, Q, p);\n",
    "sos.create_sectors();\n",
    "sos.plot()\n",
    "print(sos.t)\n",
    "\n",
    "# we create an ampty winding\n",
    "w = koil.m_phase_winding() \n",
    "\n",
    "# we ask the sos to populate the winding\n",
    "sos.populate_winding(w);\n",
    "\n",
    "# we can then \n",
    "print(w.windings[0].get_kw())\n",
    "print(w.windings[0].coils)\n"
   ]
  },
  {
   "cell_type": "code",
   "execution_count": null,
   "id": "ea30e1b4",
   "metadata": {},
   "outputs": [],
   "source": []
  }
 ],
 "metadata": {
  "kernelspec": {
   "display_name": "Python 3 (ipykernel)",
   "language": "python",
   "name": "python3"
  },
  "language_info": {
   "codemirror_mode": {
    "name": "ipython",
    "version": 3
   },
   "file_extension": ".py",
   "mimetype": "text/x-python",
   "name": "python",
   "nbconvert_exporter": "python",
   "pygments_lexer": "ipython3",
   "version": "3.11.7"
  }
 },
 "nbformat": 4,
 "nbformat_minor": 5
}
