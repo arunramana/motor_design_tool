{
 "cells": [
  {
   "cell_type": "markdown",
   "metadata": {
    "hideCode": false,
    "hidePrompt": false
   },
   "source": [
    "<html>\n",
    "<body>\n",
    "\n",
    "<h1>tutorial #1:</h1>\n",
    "<p>creating a symmetrical and balanced winding</p>\n",
    "<p><img src=\"figure/koil_01.jpg\" width=\"300\" align=\"left\"/></p>\n",
    "<br><br>\n",
    "    \n",
    "<p> Selected reference:<br>\n",
    "    Luigi Alberti and  Nicola Bianchi\n",
    "    <em>\"Theory and Design of Fractional-Slot Multilayer Windings\",</em> <br>\n",
    "<em>IEEE Transactions on Industry Applications, </em>\n",
    "2013<i>, Vol 49</i>, pp. 841-849,  <a href=\"https://ieeexplore.ieee.org/document/6417023\">DOI:10.1109/TIA.2013.2242031</a>  </p>    \n",
    "</body>\n",
    "</html>"
   ]
  },
  {
   "cell_type": "markdown",
   "metadata": {},
   "source": [
    "## Create a 12-slot 10-pole 3-phase winding"
   ]
  },
  {
   "cell_type": "code",
   "execution_count": 5,
   "metadata": {
    "hideCode": false,
    "hidePrompt": false
   },
   "outputs": [
    {
     "name": "stdout",
     "output_type": "stream",
     "text": [
      "SHIFT 18.0\n",
      "alpha_se 120.0\n",
      "alpha_ph 120.0\n"
     ]
    }
   ],
   "source": [
    "from dolomites import koil\n",
    "\n",
    "w = koil.m_phase_winding()\n",
    "m = 3   # number of phases\n",
    "Q = 12  # number of slots\n",
    "p = 5   # number of pole pairs\n",
    "\n",
    "# let ask koil to compute the symmetrical and balanced winding\n",
    "w.compute_winding(m,Q,p,single_layer=False)"
   ]
  },
  {
   "cell_type": "markdown",
   "metadata": {
    "hideCode": false,
    "hidePrompt": false
   },
   "source": [
    "## Post computations on the winding"
   ]
  },
  {
   "cell_type": "code",
   "execution_count": 6,
   "metadata": {
    "hideCode": false,
    "hidePrompt": false
   },
   "outputs": [
    {
     "name": "stdout",
     "output_type": "stream",
     "text": [
      "[coil (3, 1, -1)]\n",
      "[coil (1, 2, -1)]\n",
      "[coil (2, 3, -1)]\n"
     ]
    }
   ],
   "source": [
    "# print the coils for each phase in the format\n",
    "# coil(start,end,nc)\n",
    "\n",
    "for _w in w.windings:\n",
    "    print(_w.coils)"
   ]
  },
  {
   "cell_type": "code",
   "execution_count": 7,
   "metadata": {
    "hideCode": false,
    "hidePrompt": false
   },
   "outputs": [
    {
     "name": "stdout",
     "output_type": "stream",
     "text": [
      "0.8660254037844388\n",
      "0.8660254037844386\n",
      "0.8660254037844387\n"
     ]
    }
   ],
   "source": [
    "# compute the winding factor for the main harmonic\n",
    "\n",
    "for _w in w.windings:\n",
    "    print(_w.get_kw())"
   ]
  },
  {
   "cell_type": "code",
   "execution_count": 11,
   "metadata": {
    "hideCode": false,
    "hidePrompt": false,
    "scrolled": true
   },
   "outputs": [
    {
     "name": "stdout",
     "output_type": "stream",
     "text": [
      "1 0.8660254037844388\n",
      "2 0.8660254037844384\n",
      "3 0\n",
      "4 0.8660254037844392\n",
      "5 0.8660254037844387\n",
      "6 0\n",
      "7 0.8660254037844393\n",
      "8 0.8660254037844368\n",
      "9 0\n",
      "10 0.8660254037844394\n",
      "11 0.8660254037844367\n"
     ]
    }
   ],
   "source": [
    "# compute the winding factors for other harmonics\n",
    "\n",
    "for nu in range(1,12):\n",
    "    print(nu,w.windings[0].get_kw(nu))"
   ]
  },
  {
   "cell_type": "code",
   "execution_count": 12,
   "metadata": {
    "hideCode": false,
    "hidePrompt": false
   },
   "outputs": [
    {
     "data": {
      "image/png": "[encoded data removed]",
      "text/plain": [
       "<Figure size 432x288 with 1 Axes>"
      ]
     },
     "metadata": {
      "needs_background": "light"
     },
     "output_type": "display_data"
    }
   ],
   "source": [
    "# make a histogram for the winding factors\n",
    "# only one phase is considered\n",
    "# let note that third harmoics are present in each phase\n",
    "\n",
    "nu = []\n",
    "kw = []\n",
    "for _nu in range(1,25):\n",
    "    nu.append(_nu)\n",
    "    kw.append(w.windings[0].get_kw(_nu))\n",
    "\n",
    "import matplotlib.pyplot as plt\n",
    "fig, ax = plt.subplots()\n",
    "ax.stem(nu,kw)\n",
    "plt.ylim([0,1])\n",
    "plt.xlabel('harmonic order')\n",
    "plt.ylabel('winding factor');"
   ]
  },
  {
   "cell_type": "markdown",
   "metadata": {
    "hideCode": false,
    "hidePrompt": false
   },
   "source": [
    "## Get the slot matrix\n",
    "The slot matrix is useful to describe the winding in finite element simulations"
   ]
  },
  {
   "cell_type": "code",
   "execution_count": 13,
   "metadata": {
    "hideCode": false,
    "hidePrompt": false
   },
   "outputs": [
    {
     "name": "stdout",
     "output_type": "stream",
     "text": [
      "[ 1.  0. -1.]\n",
      "[-1.  1.  0.]\n",
      "[ 0. -1.  1.]\n"
     ]
    }
   ],
   "source": [
    "# internal representation with the actual number of conductors\n",
    "# for each slot\n",
    "import numpy as np\n",
    "for _w in w.windings:\n",
    "    print(_w.get_slot_matrix(normalize=False))\n"
   ]
  },
  {
   "cell_type": "code",
   "execution_count": 14,
   "metadata": {
    "hideCode": false,
    "hidePrompt": false
   },
   "outputs": [
    {
     "name": "stdout",
     "output_type": "stream",
     "text": [
      "ka = {1.0,0.0,-1.0}\n",
      "kb = {-1.0,1.0,0.0}\n",
      "kc = {0.0,-1.0,1.0}\n"
     ]
    }
   ],
   "source": [
    "# we ask to have it in 'lua' syntax, useful for femm\n",
    "# we normalize the number of conductors\n",
    "# we use a custom name pattern\n",
    "\n",
    "for i,_w in enumerate(w.windings):\n",
    "    print(_w.get_slot_matrix('lua',name=chr(ord('a')+i)))   "
   ]
  },
  {
   "cell_type": "code",
   "execution_count": 15,
   "metadata": {
    "hideCode": false,
    "hidePrompt": false
   },
   "outputs": [
    {
     "name": "stdout",
     "output_type": "stream",
     "text": [
      "ka[#1001] = 1.0;\n",
      "ka[#1002] = 0.0;\n",
      "ka[#1003] = -1.0;\n",
      "\n",
      "kb[#1001] = -1.0;\n",
      "kb[#1002] = 1.0;\n",
      "kb[#1003] = 0.0;\n",
      "\n",
      "kc[#1001] = 0.0;\n",
      "kc[#1002] = -1.0;\n",
      "kc[#1003] = 1.0;\n",
      "\n"
     ]
    }
   ],
   "source": [
    "# we ask to have it in the syntax for getdp function\n",
    "\n",
    "for i,_w in enumerate(w.windings):\n",
    "    print(_w.get_slot_matrix('getdp',name=chr(ord('a')+i)))   "
   ]
  },
  {
   "cell_type": "code",
   "execution_count": 16,
   "metadata": {
    "hideCode": false,
    "hidePrompt": false
   },
   "outputs": [
    {
     "name": "stdout",
     "output_type": "stream",
     "text": [
      "ka[#1001] = 0.0; ka[#2001] = 1.0;\n",
      "ka[#1002] = 0.0; ka[#2002] = 0.0;\n",
      "ka[#1003] = -1.0; ka[#2003] = 0.0;\n",
      "\n",
      "kb[#1001] = -1.0; kb[#2001] = 0.0;\n",
      "kb[#1002] = 0.0; kb[#2002] = 1.0;\n",
      "kb[#1003] = 0.0; kb[#2003] = 0.0;\n",
      "\n",
      "kc[#1001] = 0.0; kc[#2001] = 0.0;\n",
      "kc[#1002] = -1.0; kc[#2002] = 0.0;\n",
      "kc[#1003] = 0.0; kc[#2003] = 1.0;\n",
      "\n"
     ]
    }
   ],
   "source": [
    "# when 2-layer windings are explicitly modeled with getdp\n",
    "# we can ask to have the slot matrix in specific form\n",
    "\n",
    "for i,_w in enumerate(w.windings):\n",
    "    print(_w.get_slot_matrix('getdp-2l',name=chr(ord('a')+i)))   "
   ]
  },
  {
   "cell_type": "code",
   "execution_count": 17,
   "metadata": {
    "hideCode": false,
    "hidePrompt": false
   },
   "outputs": [
    {
     "name": "stdout",
     "output_type": "stream",
     "text": [
      "ka = [1.0,0.0,-1.0];\n",
      "kb = [-1.0,1.0,0.0];\n",
      "kc = [0.0,-1.0,1.0];\n"
     ]
    }
   ],
   "source": [
    "# finally we can have it also in a matlab format\n",
    "\n",
    "for i,_w in enumerate(w.windings):\n",
    "    print(_w.get_slot_matrix('m-file',name=chr(ord('a')+i)))   "
   ]
  },
  {
   "cell_type": "code",
   "execution_count": 18,
   "metadata": {
    "hideCode": false,
    "hidePrompt": false
   },
   "outputs": [
    {
     "name": "stdout",
     "output_type": "stream",
     "text": [
      "Case Circuit_a {\n",
      "    {Region #2001; Branch {100,101};}\n",
      "    {Region #1003; Branch {102,101};}\n",
      "    {Region #Ga; Branch {100,102};}\n",
      "    }\n",
      "\n",
      "Case Circuit_b {\n",
      "    {Region #2002; Branch {200,201};}\n",
      "    {Region #1001; Branch {202,201};}\n",
      "    {Region #Gb; Branch {200,202};}\n",
      "    }\n",
      "\n",
      "Case Circuit_c {\n",
      "    {Region #2003; Branch {300,301};}\n",
      "    {Region #1002; Branch {302,301};}\n",
      "    {Region #Gc; Branch {300,302};}\n",
      "    }\n",
      "\n"
     ]
    }
   ],
   "source": [
    "# we can also ask koil to provide a circuit representation\n",
    "# of the winding, suitable to be adopted in getdp simulations\n",
    "\n",
    "print(w.windings[0].get_getdp_circuit(id=100,name='a'))\n",
    "print(w.windings[1].get_getdp_circuit(id=200,name='b'))\n",
    "print(w.windings[2].get_getdp_circuit(id=300,name='c'))"
   ]
  },
  {
   "cell_type": "markdown",
   "metadata": {
    "hideCode": false,
    "hidePrompt": false
   },
   "source": [
    "## Consider a single layer winding"
   ]
  },
  {
   "cell_type": "code",
   "execution_count": 19,
   "metadata": {
    "hideCode": false,
    "hidePrompt": false
   },
   "outputs": [
    {
     "name": "stdout",
     "output_type": "stream",
     "text": [
      "SHIFT 18.0\n",
      "alpha_se 120.0\n",
      "alpha_ph 120.0\n"
     ]
    }
   ],
   "source": [
    "# we can ask, when feasible, to produce a single layer winding\n",
    "w_1l = koil.m_phase_winding()\n",
    "w_1l.compute_winding(m,Q,p,single_layer=True)"
   ]
  },
  {
   "cell_type": "code",
   "execution_count": 20,
   "metadata": {
    "hideCode": false,
    "hidePrompt": false
   },
   "outputs": [
    {
     "name": "stderr",
     "output_type": "stream",
     "text": [
      "/var/folders/4j/bl1mjqz548vg4_jktp0kpssm0000gp/T/ipykernel_5769/2039527143.py:8: MatplotlibDeprecationWarning: Passing the linefmt parameter positionally is deprecated since Matplotlib 3.5; the parameter will become keyword-only two minor releases later.\n",
      "  ax.stem(nu,kw_1l,'ro',markerfmt='ro',label='1-layer')\n"
     ]
    },
    {
     "data": {
      "image/png": "[encoded data removed]",
      "text/plain": [
       "<Figure size 432x288 with 1 Axes>"
      ]
     },
     "metadata": {
      "needs_background": "light"
     },
     "output_type": "display_data"
    }
   ],
   "source": [
    "# we can now compare winding factors of 1- and 2-layer windings\n",
    "\n",
    "kw_1l = []\n",
    "for _nu in nu:\n",
    "    kw_1l.append(w_1l.windings[0].get_kw(_nu))\n",
    "\n",
    "fig, ax = plt.subplots()\n",
    "ax.stem(nu,kw_1l,'ro',markerfmt='ro',label='1-layer')\n",
    "ax.stem(nu,kw,label='2-layer')\n",
    "plt.ylim([0,1])\n",
    "ax.legend()\n",
    "plt.xlabel('harmonic order')\n",
    "plt.ylabel('winding factor');\n"
   ]
  },
  {
   "cell_type": "markdown",
   "metadata": {},
   "source": [
    "## Inspect and plot the star of slots\n"
   ]
  },
  {
   "cell_type": "code",
   "execution_count": 21,
   "metadata": {
    "hideCode": false,
    "hidePrompt": false
   },
   "outputs": [
    {
     "data": {
      "text/plain": [
       "\n",
       "              Sos: (m: 3, Q: 3, p: 1, t: 1, yq: 1)\n",
       "              Spokes: [Spoke 1: angle 18.0, Spoke 2: angle 137.99999999999997, Spoke 3: angle 258.0]\n",
       "              Positive sectors: [Sector, start: 60.00000000000001, end: 119.99999999999999, slots: [], Sector, start: 180.0, end: 239.99999999999997, slots: [], Sector, start: 299.99999999999994, end: 360.0, slots: []]\n",
       "              Negative sectors: [Sector, start: 240.00000000000003, end: 299.99999999999994, slots: [3], Sector, start: 0.0, end: 59.999999999999986, slots: [1], Sector, start: 119.99999999999997, end: 180.0, slots: [2]]\n",
       "              "
      ]
     },
     "execution_count": 21,
     "metadata": {},
     "output_type": "execute_result"
    }
   ],
   "source": [
    "w.star"
   ]
  },
  {
   "cell_type": "code",
   "execution_count": 22,
   "metadata": {},
   "outputs": [
    {
     "data": {
      "image/png": "[encoded data removed]",
      "text/plain": [
       "<Figure size 432x288 with 2 Axes>"
      ]
     },
     "metadata": {
      "needs_background": "light"
     },
     "output_type": "display_data"
    }
   ],
   "source": [
    "w.star.plot()\n"
   ]
  },
  {
   "cell_type": "code",
   "execution_count": 23,
   "metadata": {},
   "outputs": [
    {
     "name": "stdout",
     "output_type": "stream",
     "text": [
      "[coil (3, 1, -1)]\n",
      "[coil (1, 2, -1)]\n",
      "[coil (2, 3, -1)]\n"
     ]
    }
   ],
   "source": [
    "# let print the coils again to check correspndance with the sos\n",
    "\n",
    "for _w in w.windings:\n",
    "    print(_w.coils)"
   ]
  },
  {
   "cell_type": "code",
   "execution_count": 24,
   "metadata": {},
   "outputs": [
    {
     "data": {
      "text/plain": [
       "\n",
       "              Sos: (m: 3, Q: 3, p: 1, t: 1, yq: 1)\n",
       "              Spokes: [Spoke 1: angle 18.0, Spoke 2: angle 137.99999999999997, Spoke 3: angle 258.0]\n",
       "              Positive sectors: [Sector, start: 60.00000000000001, end: 119.99999999999999, slots: [], Sector, start: 180.0, end: 239.99999999999997, slots: [], Sector, start: 299.99999999999994, end: 360.0, slots: []]\n",
       "              Negative sectors: [Sector, start: 240.00000000000003, end: 299.99999999999994, slots: [3], Sector, start: 0.0, end: 59.999999999999986, slots: [1], Sector, start: 119.99999999999997, end: 180.0, slots: [2]]\n",
       "              "
      ]
     },
     "execution_count": 24,
     "metadata": {},
     "output_type": "execute_result"
    }
   ],
   "source": [
    "w.star\n",
    "\n"
   ]
  },
  {
   "cell_type": "code",
   "execution_count": 27,
   "metadata": {},
   "outputs": [
    {
     "name": "stdout",
     "output_type": "stream",
     "text": [
      "SHIFT 18.0\n",
      "alpha_se 30.0\n",
      "alpha_ph 30.0\n"
     ]
    },
    {
     "data": {
      "image/png": "[encoded data removed]",
      "text/plain": [
       "<Figure size 432x288 with 2 Axes>"
      ]
     },
     "metadata": {
      "needs_background": "light"
     },
     "output_type": "display_data"
    }
   ],
   "source": [
    "from dolomites import koil\n",
    "\n",
    "w = koil.m_phase_winding()\n",
    "m = 3   # number of phases\n",
    "Q = 24  # number of slots\n",
    "p = 2  # number of pole pairs\n",
    "\n",
    "# let ask koil to compute the symmetrical and balanced winding\n",
    "w.compute_winding(m,Q,p,single_layer=False)\n",
    "w.star.plot()"
   ]
  },
  {
   "cell_type": "code",
   "execution_count": 28,
   "metadata": {},
   "outputs": [
    {
     "name": "stdout",
     "output_type": "stream",
     "text": [
      "[coil (3, 9, 1), coil (4, 10, 1), coil (15, 21, 1), coil (16, 22, 1), coil (9, 15, -1), coil (10, 16, -1), coil (21, 3, -1), coil (22, 4, -1)]\n",
      "[coil (7, 13, 1), coil (8, 14, 1), coil (19, 1, 1), coil (20, 2, 1), coil (1, 7, -1), coil (2, 8, -1), coil (13, 19, -1), coil (14, 20, -1)]\n",
      "[coil (11, 17, 1), coil (12, 18, 1), coil (23, 5, 1), coil (24, 6, 1), coil (5, 11, -1), coil (6, 12, -1), coil (17, 23, -1), coil (18, 24, -1)]\n"
     ]
    }
   ],
   "source": [
    "# let print the coils again to check correspndance with the sos\n",
    "\n",
    "for _w in w.windings:\n",
    "    print(_w.coils)"
   ]
  },
  {
   "cell_type": "code",
   "execution_count": null,
   "metadata": {},
   "outputs": [],
   "source": []
  }
 ],
 "metadata": {
  "hide_code_all_hidden": false,
  "kernelspec": {
   "display_name": "Python 3 (ipykernel)",
   "language": "python",
   "name": "python3"
  },
  "language_info": {
   "codemirror_mode": {
    "name": "ipython",
    "version": 3
   },
   "file_extension": ".py",
   "mimetype": "text/x-python",
   "name": "python",
   "nbconvert_exporter": "python",
   "pygments_lexer": "ipython3",
   "version": "3.11.7"
  }
 },
 "nbformat": 4,
 "nbformat_minor": 4
}
