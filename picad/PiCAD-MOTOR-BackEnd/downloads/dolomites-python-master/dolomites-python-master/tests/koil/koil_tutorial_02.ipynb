{
 "cells": [
  {
   "cell_type": "markdown",
   "metadata": {},
   "source": [
    "# tutorial #2:\n",
    "creating a winding with custom coils\n",
    "\n",
    "<img src=\"figure/koil_02.jpeg\" width=\"400\" align=\"left\"/>"
   ]
  },
  {
   "cell_type": "code",
   "execution_count": 7,
   "metadata": {},
   "outputs": [],
   "source": [
    "from dolomites import koil\n",
    "import math\n",
    "import matplotlib"
   ]
  },
  {
   "cell_type": "code",
   "execution_count": 8,
   "metadata": {},
   "outputs": [
    {
     "name": "stdout",
     "output_type": "stream",
     "text": [
      "[coil (2, 6, 10), coil (1, 7, 20)]\n",
      "[coil (12, 17, 12), coil (18, 21, 10)]\n"
     ]
    }
   ],
   "source": [
    "# Example of sinusoidal winding\n",
    "\n",
    "Q = 36 # define the number of slots\n",
    "p = 2  # define the number of pole pairs\n",
    "\n",
    "# add two phases\n",
    "wa = koil.winding(Q,p)\n",
    "wb = koil.winding(Q,p)\n",
    "\n",
    "# add two coils to phase 'a'\n",
    "#\n",
    "# from slot '2' to slot '6' with '10' conductors\n",
    "wa.add_coil(koil.coil(2,6,10))\n",
    "#\n",
    "# from slot '1' to slot '7' with 20 conductors\n",
    "wa.add_coil(koil.coil(1,7,20))\n",
    "\n",
    "# add a couple of coils also to phase 'b'\n",
    "wb.add_coil(koil.coil(12,17,12))\n",
    "wb.add_coil(koil.coil(18,21,10))\n",
    "\n",
    "print(wa.coils)\n",
    "print(wb.coils)\n"
   ]
  },
  {
   "cell_type": "code",
   "execution_count": 9,
   "metadata": {},
   "outputs": [
    {
     "data": {
      "image/png": "[encoded data removed]",
      "text/plain": [
       "<Figure size 432x288 with 1 Axes>"
      ]
     },
     "metadata": {
      "needs_background": "light"
     },
     "output_type": "display_data"
    }
   ],
   "source": [
    "# we form the winding with the two phases\n",
    "win = koil.m_phase_winding()\n",
    "win.add_winding(wa)\n",
    "win.add_winding(wb)\n",
    "\n",
    "# we can then proceed with other computations as usual\n",
    "    \n",
    "nu = []\n",
    "kw = []\n",
    "for _nu in range(1,25):\n",
    "    nu.append(_nu)\n",
    "    kw.append(wa.get_kw(_nu))\n",
    "\n",
    "import matplotlib.pyplot as plt\n",
    "fig, ax = plt.subplots()\n",
    "ax.stem(nu,kw)\n",
    "plt.xlabel('harmonic order')\n",
    "plt.ylabel('winding factor');"
   ]
  }
 ],
 "metadata": {
  "kernelspec": {
   "display_name": "Python 3",
   "language": "python",
   "name": "python3"
  },
  "language_info": {
   "codemirror_mode": {
    "name": "ipython",
    "version": 3
   },
   "file_extension": ".py",
   "mimetype": "text/x-python",
   "name": "python",
   "nbconvert_exporter": "python",
   "pygments_lexer": "ipython3",
   "version": "3.7.2"
  }
 },
 "nbformat": 4,
 "nbformat_minor": 4
}
