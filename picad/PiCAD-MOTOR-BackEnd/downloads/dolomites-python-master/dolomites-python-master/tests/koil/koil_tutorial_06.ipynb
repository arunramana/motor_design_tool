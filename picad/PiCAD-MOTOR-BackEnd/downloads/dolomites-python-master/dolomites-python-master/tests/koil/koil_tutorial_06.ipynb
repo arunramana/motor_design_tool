{
 "cells": [
  {
   "cell_type": "markdown",
   "metadata": {},
   "source": [
    "# tutorial #6:\n",
    "creating a 4-layer winding with no sub-harmonic\n"
   ]
  },
  {
   "cell_type": "code",
   "execution_count": 1,
   "metadata": {},
   "outputs": [],
   "source": [
    "from dolomites import koil\n",
    "import math\n",
    "import matplotlib"
   ]
  },
  {
   "cell_type": "code",
   "execution_count": 2,
   "metadata": {},
   "outputs": [
    {
     "data": {
      "image/png": "[encoded data removed]",
      "text/plain": [
       "<Figure size 432x288 with 1 Axes>"
      ]
     },
     "metadata": {
      "needs_background": "light"
     },
     "output_type": "display_data"
    }
   ],
   "source": [
    "# Example of 4-layer winding without sub-harmonic\n",
    "\n",
    "# \n",
    "nc1 = 1000\n",
    "nc2 = math.sqrt(3)*nc1\n",
    "\n",
    "Q = 12\n",
    "p = 5\n",
    "wa = koil.winding(Q,p)\n",
    "wb = koil.winding(Q,p)\n",
    "wc = koil.winding(Q,p)\n",
    "\n",
    "wa.add_coil(koil.coil(1,2,nc1)) # ...adding the coils to phase a\n",
    "wa.add_coil(koil.coil(12,1,-nc2))\n",
    "wa.add_coil(koil.coil(11,12,nc1))\n",
    "wa.add_coil(koil.coil(5,6,-nc1))\n",
    "wa.add_coil(koil.coil(6,7,nc2))\n",
    "wa.add_coil(koil.coil(7,8,-nc1))\n",
    "\n",
    "wb.add_coil(koil.coil(5,6,nc1)) # ...adding the coils to phase b\n",
    "wb.add_coil(koil.coil(4,5,-nc2))\n",
    "wb.add_coil(koil.coil(3,4,nc1))\n",
    "wb.add_coil(koil.coil(9,10,-nc1))\n",
    "wb.add_coil(koil.coil(10,11,nc2))\n",
    "wb.add_coil(koil.coil(11,12,-nc1))\n",
    "\n",
    "wc.add_coil(koil.coil(9,10,nc1)) # ...adding the coils to phase b\n",
    "wc.add_coil(koil.coil(8,9,-nc2))\n",
    "wc.add_coil(koil.coil(7,8,nc1))\n",
    "wc.add_coil(koil.coil(1,2,-nc1))\n",
    "wc.add_coil(koil.coil(2,3,nc2))\n",
    "wc.add_coil(koil.coil(3,4,-nc1))\n",
    "\n",
    "# ...compute the winding factors  \n",
    "nu = []\n",
    "kw = []\n",
    "for _nu in range(1,25):\n",
    "    nu.append(_nu)\n",
    "    kw.append(wa.get_kw(_nu))\n",
    "\n",
    "import matplotlib.pyplot as plt\n",
    "fig, ax = plt.subplots()\n",
    "ax.stem(nu,kw)\n",
    "plt.xlabel('harmonic order')\n",
    "plt.ylabel('winding factor');"
   ]
  },
  {
   "cell_type": "code",
   "execution_count": 3,
   "metadata": {},
   "outputs": [
    {
     "data": {
      "text/plain": [
       "[0,\n",
       " 0,\n",
       " 0.32816939922353583,\n",
       " 0,\n",
       " 0.8965754721680532,\n",
       " 0,\n",
       " 0.8965754721680537,\n",
       " 0,\n",
       " 0.3281693992235345,\n",
       " 0,\n",
       " 0,\n",
       " 0,\n",
       " 0,\n",
       " 0,\n",
       " 0.3281693992235375,\n",
       " 0,\n",
       " 0.8965754721680533,\n",
       " 0,\n",
       " 0.8965754721680528,\n",
       " 0,\n",
       " 0.3281693992235343,\n",
       " 0,\n",
       " 0,\n",
       " 0]"
      ]
     },
     "execution_count": 3,
     "metadata": {},
     "output_type": "execute_result"
    }
   ],
   "source": [
    "kw"
   ]
  },
  {
   "cell_type": "code",
   "execution_count": 4,
   "metadata": {},
   "outputs": [
    {
     "data": {
      "text/plain": [
       "5.464101615137754"
      ]
     },
     "execution_count": 4,
     "metadata": {},
     "output_type": "execute_result"
    }
   ],
   "source": [
    "sum(abs(wa.get_slot_matrix()))"
   ]
  },
  {
   "cell_type": "code",
   "execution_count": null,
   "metadata": {},
   "outputs": [],
   "source": []
  },
  {
   "cell_type": "code",
   "execution_count": null,
   "metadata": {},
   "outputs": [],
   "source": []
  },
  {
   "cell_type": "code",
   "execution_count": null,
   "metadata": {},
   "outputs": [],
   "source": []
  },
  {
   "cell_type": "code",
   "execution_count": null,
   "metadata": {},
   "outputs": [],
   "source": []
  }
 ],
 "metadata": {
  "kernelspec": {
   "display_name": "Python 3 (ipykernel)",
   "language": "python",
   "name": "python3"
  },
  "language_info": {
   "codemirror_mode": {
    "name": "ipython",
    "version": 3
   },
   "file_extension": ".py",
   "mimetype": "text/x-python",
   "name": "python",
   "nbconvert_exporter": "python",
   "pygments_lexer": "ipython3",
   "version": "3.9.13"
  }
 },
 "nbformat": 4,
 "nbformat_minor": 4
}
