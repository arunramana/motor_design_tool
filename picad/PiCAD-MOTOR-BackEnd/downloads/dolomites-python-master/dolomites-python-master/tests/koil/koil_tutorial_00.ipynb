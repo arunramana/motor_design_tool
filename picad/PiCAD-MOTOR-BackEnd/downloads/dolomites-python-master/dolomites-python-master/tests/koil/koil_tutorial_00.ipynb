{
 "cells": [
  {
   "cell_type": "markdown",
   "metadata": {
    "hideCode": false,
    "hidePrompt": false
   },
   "source": [
    "# Koil: A Tool to Design the Winding of Rotating Electric Machinery\n",
    "creating a symmetrical and balanced winding\n",
    "\n",
    "<img src=\"figure/koil_01.jpg\" width=\"300\" align=\"left\"/>\n",
    "\n"
   ]
  },
  {
   "cell_type": "code",
   "execution_count": 4,
   "metadata": {
    "hideCode": false,
    "hidePrompt": false
   },
   "outputs": [],
   "source": [
    "from dolomites import koil\n",
    "import math"
   ]
  },
  {
   "cell_type": "code",
   "execution_count": 6,
   "metadata": {
    "hideCode": false,
    "hidePrompt": false
   },
   "outputs": [
    {
     "data": {
      "application/vnd.jupyter.widget-view+json": {
       "model_id": "415c7e4aa7214950b946546ed48fea5c",
       "version_major": 2,
       "version_minor": 0
      },
      "text/plain": [
       "interactive(children=(IntSlider(value=1, description='x', max=14, min=1), Output()), _dom_classes=('widget-int…"
      ]
     },
     "metadata": {},
     "output_type": "display_data"
    }
   ],
   "source": [
    "import ipywidgets as wg\n",
    "from IPython.display import Image\n",
    "\n",
    "def f(x):\n",
    "      return Image(filename='./figure/koil'+str(x)+'.jpeg')\n",
    "\n",
    "wg.interact(f, x=wg.IntSlider(min=1,max=14,step=1));"
   ]
  },
  {
   "cell_type": "code",
   "execution_count": 10,
   "metadata": {
    "hideCode": false,
    "hidePrompt": false
   },
   "outputs": [
    {
     "data": {
      "image/png": "[encoded data removed]",
      "text/plain": [
       "<Figure size 640x480 with 1 Axes>"
      ]
     },
     "metadata": {},
     "output_type": "display_data"
    }
   ],
   "source": [
    "# Example of sinusoidal winding\n",
    "\n",
    "Q = 36\n",
    "p = 2\n",
    "wa = koil.winding(Q,p)\n",
    "wb = koil.winding(Q,p)\n",
    "wc = koil.winding(Q,p)\n",
    "    \n",
    "for x in range(0, 18):\n",
    "    angle = math.pi/Q + 2.0*math.pi/Q*x\n",
    "    na = 1*math.sin(angle*p)\n",
    "    nb = 1000*math.sin(angle-2./3*math.pi)\n",
    "    nc = 1000*math.sin(angle-4./3*math.pi)\n",
    "    wa.add_coil(koil.coil(x+1,Q-x,na))\n",
    "    wb.add_coil(koil.coil(x+1,Q-x,nb))\n",
    "    wc.add_coil(koil.coil(x+1,Q-x,nc))\n",
    "    \n",
    "nu = []\n",
    "kw = []\n",
    "for _nu in range(1,25):\n",
    "    nu.append(_nu)\n",
    "    kw.append(wa.get_kw(_nu))\n",
    "\n",
    "import matplotlib.pyplot as plt\n",
    "fig, ax = plt.subplots()\n",
    "ax.stem(nu,kw)\n",
    "plt.xlabel('harmonic order')\n",
    "plt.ylabel('winding factor');"
   ]
  },
  {
   "cell_type": "code",
   "execution_count": 4,
   "metadata": {
    "hideCode": false,
    "hidePrompt": false
   },
   "outputs": [
    {
     "data": {
      "text/plain": [
       "[0,\n",
       " 0.7814167995011865,\n",
       " 0,\n",
       " 0,\n",
       " 0,\n",
       " 0,\n",
       " 0,\n",
       " 0,\n",
       " 0,\n",
       " 0,\n",
       " 0,\n",
       " 0,\n",
       " 0,\n",
       " 0,\n",
       " 0,\n",
       " 0,\n",
       " 0,\n",
       " 0,\n",
       " 0,\n",
       " 0,\n",
       " 0,\n",
       " 0,\n",
       " 0,\n",
       " 0]"
      ]
     },
     "execution_count": 4,
     "metadata": {},
     "output_type": "execute_result"
    }
   ],
   "source": [
    "kw"
   ]
  },
  {
   "cell_type": "code",
   "execution_count": 5,
   "metadata": {
    "hideCode": false,
    "hidePrompt": false
   },
   "outputs": [
    {
     "data": {
      "text/plain": [
       "23.035081932574542"
      ]
     },
     "execution_count": 5,
     "metadata": {},
     "output_type": "execute_result"
    }
   ],
   "source": [
    "sum(abs(wa.get_slot_matrix()))"
   ]
  },
  {
   "cell_type": "code",
   "execution_count": 11,
   "metadata": {
    "hideCode": false,
    "hidePrompt": false
   },
   "outputs": [],
   "source": [
    "w = koil.m_phase_winding()\n",
    "m = 3\n",
    "Q = 12\n",
    "p = 5\n",
    "\n",
    "w.compute_winding(m,Q,p,single_layer=False)"
   ]
  },
  {
   "cell_type": "markdown",
   "metadata": {
    "hideCode": false,
    "hidePrompt": false
   },
   "source": [
    " ## Get the winding of each phase"
   ]
  },
  {
   "cell_type": "code",
   "execution_count": 12,
   "metadata": {
    "hideCode": false,
    "hidePrompt": false
   },
   "outputs": [
    {
     "name": "stdout",
     "output_type": "stream",
     "text": [
      "[coil (4, 5, 1), coil (11, 12, 1), coil (5, 6, -1), coil (10, 11, -1)]\n",
      "[coil (7, 8, 1), coil (12, 1, 1), coil (1, 2, -1), coil (6, 7, -1)]\n",
      "[coil (3, 4, 1), coil (8, 9, 1), coil (2, 3, -1), coil (9, 10, -1)]\n"
     ]
    }
   ],
   "source": [
    "for _w in w.windings:\n",
    "    print(_w.coils)\n",
    "#help(koil.Coil)"
   ]
  },
  {
   "cell_type": "markdown",
   "metadata": {
    "hideCode": false,
    "hidePrompt": false
   },
   "source": [
    "## Get the winding factors"
   ]
  },
  {
   "cell_type": "code",
   "execution_count": 13,
   "metadata": {
    "hideCode": false,
    "hidePrompt": false
   },
   "outputs": [
    {
     "name": "stdout",
     "output_type": "stream",
     "text": [
      "0.9330127018922195\n",
      "0.9330127018922193\n",
      "0.9330127018922193\n"
     ]
    }
   ],
   "source": [
    "for _w in w.windings:\n",
    "    print(_w.get_kw())"
   ]
  },
  {
   "cell_type": "code",
   "execution_count": 14,
   "metadata": {
    "hideCode": false,
    "hidePrompt": false
   },
   "outputs": [
    {
     "name": "stdout",
     "output_type": "stream",
     "text": [
      "1 0.06698729810778069\n",
      "2 0\n",
      "3 0.4999999999999999\n",
      "4 0\n",
      "5 0.9330127018922195\n",
      "6 0\n",
      "7 0.9330127018922194\n",
      "8 0\n",
      "9 0.5000000000000007\n",
      "10 0\n",
      "11 0.06698729810778102\n"
     ]
    }
   ],
   "source": [
    "for nu in range(1,12):\n",
    "    print(nu,w.windings[0].get_kw(nu))"
   ]
  },
  {
   "cell_type": "code",
   "execution_count": 15,
   "metadata": {
    "hideCode": false,
    "hidePrompt": false
   },
   "outputs": [
    {
     "data": {
      "image/png": "[encoded data removed]",
      "text/plain": [
       "<Figure size 640x480 with 1 Axes>"
      ]
     },
     "metadata": {},
     "output_type": "display_data"
    }
   ],
   "source": [
    "nu = []\n",
    "kw = []\n",
    "for _nu in range(1,25):\n",
    "    nu.append(_nu)\n",
    "    kw.append(w.windings[0].get_kw(_nu))\n",
    "\n",
    "import matplotlib.pyplot as plt\n",
    "fig, ax = plt.subplots()\n",
    "ax.stem(nu,kw)\n",
    "plt.xlabel('harmonic order')\n",
    "plt.ylabel('winding factor');"
   ]
  },
  {
   "cell_type": "markdown",
   "metadata": {
    "hideCode": false,
    "hidePrompt": false
   },
   "source": [
    "## Get the slot matrix"
   ]
  },
  {
   "cell_type": "code",
   "execution_count": 16,
   "metadata": {
    "hideCode": false,
    "hidePrompt": false
   },
   "outputs": [
    {
     "name": "stdout",
     "output_type": "stream",
     "text": [
      "[ 0.   0.   0.   0.5 -1.   0.5  0.   0.   0.  -0.5  1.  -0.5]\n",
      "[-1.   0.5  0.   0.   0.  -0.5  1.  -0.5  0.   0.   0.   0.5]\n",
      "[ 0.  -0.5  1.  -0.5  0.   0.   0.   0.5 -1.   0.5  0.   0. ]\n"
     ]
    }
   ],
   "source": [
    "for _w in w.windings:\n",
    "    print(_w.get_slot_matrix())\n"
   ]
  },
  {
   "cell_type": "code",
   "execution_count": 17,
   "metadata": {
    "hideCode": false,
    "hidePrompt": false
   },
   "outputs": [
    {
     "name": "stdout",
     "output_type": "stream",
     "text": [
      "k1 = {0.0,0.0,0.0,0.5,-1.0,0.5,0.0,0.0,0.0,-0.5,1.0,-0.5}\n",
      "k2 = {-1.0,0.5,0.0,0.0,0.0,-0.5,1.0,-0.5,0.0,0.0,0.0,0.5}\n",
      "k3 = {0.0,-0.5,1.0,-0.5,0.0,0.0,0.0,0.5,-1.0,0.5,0.0,0.0}\n"
     ]
    }
   ],
   "source": [
    "for i,_w in enumerate(w.windings):\n",
    "    print(_w.get_slot_matrix('lua',name=str(i+1)))"
   ]
  },
  {
   "cell_type": "code",
   "execution_count": 18,
   "metadata": {
    "hideCode": false,
    "hidePrompt": false
   },
   "outputs": [
    {
     "name": "stdout",
     "output_type": "stream",
     "text": [
      "ka[#1001] = 0.0;\n",
      "ka[#1002] = 0.0;\n",
      "ka[#1003] = 0.0;\n",
      "ka[#1004] = 0.5;\n",
      "ka[#1005] = -1.0;\n",
      "ka[#1006] = 0.5;\n",
      "ka[#1007] = 0.0;\n",
      "ka[#1008] = 0.0;\n",
      "ka[#1009] = 0.0;\n",
      "ka[#1010] = -0.5;\n",
      "ka[#1011] = 1.0;\n",
      "ka[#1012] = -0.5;\n",
      "\n",
      "kb[#1001] = -1.0;\n",
      "kb[#1002] = 0.5;\n",
      "kb[#1003] = 0.0;\n",
      "kb[#1004] = 0.0;\n",
      "kb[#1005] = 0.0;\n",
      "kb[#1006] = -0.5;\n",
      "kb[#1007] = 1.0;\n",
      "kb[#1008] = -0.5;\n",
      "kb[#1009] = 0.0;\n",
      "kb[#1010] = 0.0;\n",
      "kb[#1011] = 0.0;\n",
      "kb[#1012] = 0.5;\n",
      "\n",
      "kc[#1001] = 0.0;\n",
      "kc[#1002] = -0.5;\n",
      "kc[#1003] = 1.0;\n",
      "kc[#1004] = -0.5;\n",
      "kc[#1005] = 0.0;\n",
      "kc[#1006] = 0.0;\n",
      "kc[#1007] = 0.0;\n",
      "kc[#1008] = 0.5;\n",
      "kc[#1009] = -1.0;\n",
      "kc[#1010] = 0.5;\n",
      "kc[#1011] = 0.0;\n",
      "kc[#1012] = 0.0;\n",
      "\n"
     ]
    }
   ],
   "source": [
    "for i,_w in enumerate(w.windings):\n",
    "    print(_w.get_slot_matrix('getdp',name=chr(ord('a')+i)))"
   ]
  },
  {
   "cell_type": "code",
   "execution_count": 19,
   "metadata": {
    "hideCode": false,
    "hidePrompt": false
   },
   "outputs": [
    {
     "name": "stdout",
     "output_type": "stream",
     "text": [
      "k1[#1001] = 0.0; k1[#2001] = 0.0;\n",
      "k1[#1002] = 0.0; k1[#2002] = 0.0;\n",
      "k1[#1003] = 0.0; k1[#2003] = 0.0;\n",
      "k1[#1004] = 0.5; k1[#2004] = 0.0;\n",
      "k1[#1005] = -0.5; k1[#2005] = -0.5;\n",
      "k1[#1006] = 0.0; k1[#2006] = 0.5;\n",
      "k1[#1007] = 0.0; k1[#2007] = 0.0;\n",
      "k1[#1008] = 0.0; k1[#2008] = 0.0;\n",
      "k1[#1009] = 0.0; k1[#2009] = 0.0;\n",
      "k1[#1010] = -0.5; k1[#2010] = 0.0;\n",
      "k1[#1011] = 0.5; k1[#2011] = 0.5;\n",
      "k1[#1012] = 0.0; k1[#2012] = -0.5;\n",
      "\n",
      "k2[#1001] = -0.5; k2[#2001] = -0.5;\n",
      "k2[#1002] = 0.0; k2[#2002] = 0.5;\n",
      "k2[#1003] = 0.0; k2[#2003] = 0.0;\n",
      "k2[#1004] = 0.0; k2[#2004] = 0.0;\n",
      "k2[#1005] = 0.0; k2[#2005] = 0.0;\n",
      "k2[#1006] = -0.5; k2[#2006] = 0.0;\n",
      "k2[#1007] = 0.5; k2[#2007] = 0.5;\n",
      "k2[#1008] = 0.0; k2[#2008] = -0.5;\n",
      "k2[#1009] = 0.0; k2[#2009] = 0.0;\n",
      "k2[#1010] = 0.0; k2[#2010] = 0.0;\n",
      "k2[#1011] = 0.0; k2[#2011] = 0.0;\n",
      "k2[#1012] = 0.5; k2[#2012] = 0.0;\n",
      "\n",
      "k3[#1001] = 0.0; k3[#2001] = 0.0;\n",
      "k3[#1002] = -0.5; k3[#2002] = 0.0;\n",
      "k3[#1003] = 0.5; k3[#2003] = 0.5;\n",
      "k3[#1004] = 0.0; k3[#2004] = -0.5;\n",
      "k3[#1005] = 0.0; k3[#2005] = 0.0;\n",
      "k3[#1006] = 0.0; k3[#2006] = 0.0;\n",
      "k3[#1007] = 0.0; k3[#2007] = 0.0;\n",
      "k3[#1008] = 0.5; k3[#2008] = 0.0;\n",
      "k3[#1009] = -0.5; k3[#2009] = -0.5;\n",
      "k3[#1010] = 0.0; k3[#2010] = 0.5;\n",
      "k3[#1011] = 0.0; k3[#2011] = 0.0;\n",
      "k3[#1012] = 0.0; k3[#2012] = 0.0;\n",
      "\n"
     ]
    }
   ],
   "source": [
    "for i,_w in enumerate(w.windings):\n",
    "    print(_w.get_slot_matrix('getdp-2l',name=str(i+1)))"
   ]
  },
  {
   "cell_type": "code",
   "execution_count": 20,
   "metadata": {
    "hideCode": false,
    "hidePrompt": false
   },
   "outputs": [
    {
     "name": "stdout",
     "output_type": "stream",
     "text": [
      "k1 = [0.0,0.0,0.0,0.5,-1.0,0.5,0.0,0.0,0.0,-0.5,1.0,-0.5];\n",
      "k2 = [-1.0,0.5,0.0,0.0,0.0,-0.5,1.0,-0.5,0.0,0.0,0.0,0.5];\n",
      "k3 = [0.0,-0.5,1.0,-0.5,0.0,0.0,0.0,0.5,-1.0,0.5,0.0,0.0];\n"
     ]
    }
   ],
   "source": [
    "for i,_w in enumerate(w.windings):\n",
    "    print(_w.get_slot_matrix('m-file',name=str(i+1)))"
   ]
  },
  {
   "cell_type": "markdown",
   "metadata": {
    "hideCode": false,
    "hidePrompt": false
   },
   "source": [
    "## get the GetDP circuits"
   ]
  },
  {
   "cell_type": "code",
   "execution_count": 21,
   "metadata": {
    "hideCode": false,
    "hidePrompt": false
   },
   "outputs": [
    {
     "name": "stdout",
     "output_type": "stream",
     "text": [
      "Case Circuit_a {\n",
      "    {Region #1004; Branch {100,101};}\n",
      "    {Region #2005; Branch {102,101};}\n",
      "    {Region #1011; Branch {102,103};}\n",
      "    {Region #2012; Branch {104,103};}\n",
      "    {Region #2006; Branch {104,105};}\n",
      "    {Region #1005; Branch {106,105};}\n",
      "    {Region #2011; Branch {106,107};}\n",
      "    {Region #1010; Branch {108,107};}\n",
      "    {Region #Ga; Branch {100,108};}\n",
      "    }\n",
      "\n",
      "Case Circuit_b {\n",
      "    {Region #1007; Branch {200,201};}\n",
      "    {Region #2008; Branch {202,201};}\n",
      "    {Region #1012; Branch {202,203};}\n",
      "    {Region #2001; Branch {204,203};}\n",
      "    {Region #2002; Branch {204,205};}\n",
      "    {Region #1001; Branch {206,205};}\n",
      "    {Region #2007; Branch {206,207};}\n",
      "    {Region #1006; Branch {208,207};}\n",
      "    {Region #Gb; Branch {200,208};}\n",
      "    }\n",
      "\n",
      "Case Circuit_c {\n",
      "    {Region #1003; Branch {300,301};}\n",
      "    {Region #2004; Branch {302,301};}\n",
      "    {Region #1008; Branch {302,303};}\n",
      "    {Region #2009; Branch {304,303};}\n",
      "    {Region #2003; Branch {304,305};}\n",
      "    {Region #1002; Branch {306,305};}\n",
      "    {Region #2010; Branch {306,307};}\n",
      "    {Region #1009; Branch {308,307};}\n",
      "    {Region #Gc; Branch {300,308};}\n",
      "    }\n",
      "\n"
     ]
    }
   ],
   "source": [
    "print(w.windings[0].get_getdp_circuit(id=100,name='a'))\n",
    "print(w.windings[1].get_getdp_circuit(id=200,name='b'))\n",
    "print(w.windings[2].get_getdp_circuit(id=300,name='c'))"
   ]
  },
  {
   "cell_type": "code",
   "execution_count": 22,
   "metadata": {
    "hideCode": false,
    "hidePrompt": false
   },
   "outputs": [
    {
     "data": {
      "text/plain": [
       "<dolomites.koil.m_phase_winding at 0x19e2a8f6390>"
      ]
     },
     "execution_count": 22,
     "metadata": {},
     "output_type": "execute_result"
    }
   ],
   "source": [
    "w"
   ]
  },
  {
   "cell_type": "code",
   "execution_count": 25,
   "metadata": {
    "hideCode": false,
    "hidePrompt": false
   },
   "outputs": [
    {
     "name": "stdout",
     "output_type": "stream",
     "text": [
      "[0, 0.0, 0.0, 0.0, 0.0, 0.0, 0.0, 0.0, 0.0, 0.0, 0.0, 0.0, 0.0, 0.0, 0.0, 0.0, 0.0, 0.0, 0.0, 0.0, 0.0, 0.0, 0.0, 0.0]\n",
      "[0.0, 0.0, 0.0, 0.0, 0.0, 0.0, 0.0, 0.0, 0.0, 0.0, 0.0, 0.0, 0.0, 0.0, 0.0, 0.0, 0.0, 0.0, 0.0, 0.0, 0.0, 0.0, 0.0, 0.0]\n"
     ]
    },
    {
     "data": {
      "text/plain": [
       "([0.1303996938995747,\n",
       "  0.1313996938995747,\n",
       "  0.3921990816987241,\n",
       "  0.3931990816987241,\n",
       "  0.6539984694978735,\n",
       "  0.6549984694978735,\n",
       "  0.915797857297023,\n",
       "  0.916797857297023,\n",
       "  1.1775972450961723,\n",
       "  1.1785972450961724,\n",
       "  1.4393966328953216,\n",
       "  1.4403966328953217,\n",
       "  1.7011960206944712,\n",
       "  1.7021960206944713,\n",
       "  1.9629954084936205,\n",
       "  1.9639954084936206,\n",
       "  2.22479479629277,\n",
       "  2.22579479629277,\n",
       "  2.4865941840919197,\n",
       "  2.4875941840919196,\n",
       "  2.748393571891069,\n",
       "  2.7493935718910687,\n",
       "  3.0101929596902184,\n",
       "  3.0111929596902183],\n",
       " [0.0,\n",
       "  0.0,\n",
       "  0.0,\n",
       "  0.0,\n",
       "  0.0,\n",
       "  0.0,\n",
       "  0.0,\n",
       "  0.0,\n",
       "  0.0,\n",
       "  0.0,\n",
       "  0.0,\n",
       "  0.0,\n",
       "  0.0,\n",
       "  0.0,\n",
       "  0.0,\n",
       "  0.0,\n",
       "  0.0,\n",
       "  0.0,\n",
       "  0.0,\n",
       "  0.0,\n",
       "  0.0,\n",
       "  0.0,\n",
       "  0.0,\n",
       "  0.0])"
      ]
     },
     "execution_count": 25,
     "metadata": {},
     "output_type": "execute_result"
    }
   ],
   "source": [
    "w.calc_mmf()\n"
   ]
  },
  {
   "cell_type": "code",
   "execution_count": 18,
   "metadata": {
    "hideCode": false,
    "hidePrompt": false
   },
   "outputs": [
    {
     "data": {
      "text/plain": [
       "['__class__',\n",
       " '__delattr__',\n",
       " '__dict__',\n",
       " '__dir__',\n",
       " '__doc__',\n",
       " '__eq__',\n",
       " '__format__',\n",
       " '__ge__',\n",
       " '__getattribute__',\n",
       " '__gt__',\n",
       " '__hash__',\n",
       " '__init__',\n",
       " '__init_subclass__',\n",
       " '__le__',\n",
       " '__lt__',\n",
       " '__module__',\n",
       " '__ne__',\n",
       " '__new__',\n",
       " '__reduce__',\n",
       " '__reduce_ex__',\n",
       " '__repr__',\n",
       " '__setattr__',\n",
       " '__sizeof__',\n",
       " '__str__',\n",
       " '__subclasshook__',\n",
       " '__weakref__',\n",
       " 'add_winding',\n",
       " 'calc_mmf_harmonics',\n",
       " 'clear',\n",
       " 'compute_winding',\n",
       " 'p',\n",
       " 'slot_cur_matrix',\n",
       " 'star',\n",
       " 'windings']"
      ]
     },
     "execution_count": 18,
     "metadata": {},
     "output_type": "execute_result"
    }
   ],
   "source": [
    "dir(w)"
   ]
  },
  {
   "cell_type": "code",
   "execution_count": 15,
   "metadata": {
    "hideCode": false,
    "hidePrompt": false
   },
   "outputs": [
    {
     "data": {
      "text/plain": [
       "array([ 2.,  2.,  1.,  1.,  1., -1., -1., -1., -2., -2., -2., -1., -1.,\n",
       "       -1.,  1.,  1.,  1.,  2.,  2.,  2.,  1.,  1.,  1., -1., -1., -1.,\n",
       "       -2., -2., -2., -1., -1., -1.,  1.,  1.,  1.,  2.])"
      ]
     },
     "execution_count": 15,
     "metadata": {},
     "output_type": "execute_result"
    }
   ],
   "source": [
    "w.slot_cur_matrix\n",
    "\n"
   ]
  },
  {
   "cell_type": "code",
   "execution_count": null,
   "metadata": {
    "hideCode": false,
    "hidePrompt": false
   },
   "outputs": [],
   "source": []
  }
 ],
 "metadata": {
  "hide_code_all_hidden": false,
  "kernelspec": {
   "display_name": "Python 3 (ipykernel)",
   "language": "python",
   "name": "python3"
  },
  "language_info": {
   "codemirror_mode": {
    "name": "ipython",
    "version": 3
   },
   "file_extension": ".py",
   "mimetype": "text/x-python",
   "name": "python",
   "nbconvert_exporter": "python",
   "pygments_lexer": "ipython3",
   "version": "3.11.7"
  }
 },
 "nbformat": 4,
 "nbformat_minor": 4
}
