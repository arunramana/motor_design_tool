{
 "cells": [
  {
   "cell_type": "code",
   "execution_count": 5,
   "id": "1161b4fe",
   "metadata": {},
   "outputs": [],
   "source": [
    "from vehicle_dynamics import *\n",
    "\n",
    "import matplotlib.pyplot as plt"
   ]
  },
  {
   "cell_type": "code",
   "execution_count": 6,
   "id": "9927bedc",
   "metadata": {},
   "outputs": [],
   "source": [
    "gvw = 1000\n",
    "gear_ratio = 12\n",
    "wheel_radius = 0.27\n",
    "frontal_area = 2.5\n",
    "cd = 0.45\n",
    "rolling_resistance_coeff = 0.015\n",
    "gear_efficiency = 95\n",
    "\n",
    "rated_speed_kmph_at_5deg = 30\n",
    "max_speed = 60\n",
    "gradeability = 12.4\n",
    "time_to_cross_grade_from_rest = 10\n",
    "length_of_grade = 20\n",
    "acceleration_from_rest_to_speed = 50\n",
    "time_to_accelerate = 12\n",
    "\n",
    "#important constants/variables\n",
    "\n",
    "\n",
    "g = 9.8 #acc due to gravity m/s2\n",
    "rho_air = 1.2 #denisty of air kg/m3\n",
    "\n",
    "#slope deg\n",
    "#motor torque\n",
    "\n",
    "v_dc = 320\n"
   ]
  },
  {
   "cell_type": "code",
   "execution_count": 7,
   "id": "a7b16099",
   "metadata": {},
   "outputs": [],
   "source": [
    "vehicle = VehicleDynamics(gvw,gear_ratio,wheel_radius,frontal_area,cd,rolling_resistance_coeff,gear_efficiency,rated_speed_kmph_at_5deg, max_speed, gradeability, time_to_cross_grade_from_rest, length_of_grade, acceleration_from_rest_to_speed, time_to_accelerate, v_dc)\n"
   ]
  },
  {
   "cell_type": "code",
   "execution_count": 8,
   "id": "43bc7b73",
   "metadata": {},
   "outputs": [
    {
     "name": "stdout",
     "output_type": "stream",
     "text": [
      "\n",
      "INPUTS:\n",
      "\n",
      "Vehicle Parameters (assumed)\n",
      "gvw : 1000\n",
      "gear ratio : 12\n",
      "wheel radius : 0.27\n",
      "frontal area : 2.5\n",
      "cd : 0.45\n",
      "rolling resistance coeff : 0.015\n",
      "gear efficiency : 95\n",
      "\n",
      "Performance Specs\n",
      "rated speed kmph at 5deg : 30\n",
      "max speed : 60\n",
      "gradeability : 12.4\n",
      "time to cross grade from rest : 10\n",
      "length of grade : 20\n",
      "acceleration from rest to speed : 50\n",
      "time to accelerate : 12\n",
      "\n",
      "Voltage Input\n",
      "v dc : 320\n",
      "\n",
      "Physical Constants:\n",
      "g: 9.8\n",
      "rho_air: 1.2\n",
      "\n",
      "Vehicle Dynamics Output:\n",
      "\n",
      "Continuous Mode:\n",
      "\n",
      "\t\trpm\tNm\tkW\n",
      "At Start:\t0\t25\t0\n",
      "Rated Speed:\t3537\t25\t9.2\n",
      "Peak Speed:\t7074\t8\t5.9\n",
      "No Load Speed:\t8738.470588235294\t0\t0\n",
      "\n",
      "Peak Mode:\n",
      "\n",
      "\t\trpm\tNm\tkW\n",
      "At Start:\t0\t63\t0\n",
      "Peak Torque:\t849\t63\t5.6\n",
      "Peak Power:\t5895\t32\t19.7\n",
      "\n",
      "Voltage Specs:\n",
      "A DC MAX: 102.60416666666667\n",
      "Ke: 25.894024325530236\n",
      "Ke in rad: 0.2472697180769951\n",
      "Kt: 0.428283714882588\n",
      "Max A RMS: 147.098752090705\n"
     ]
    }
   ],
   "source": [
    "vehicle.run()"
   ]
  },
  {
   "cell_type": "code",
   "execution_count": null,
   "id": "d5ff7de2",
   "metadata": {},
   "outputs": [],
   "source": []
  }
 ],
 "metadata": {
  "kernelspec": {
   "display_name": "Python 3",
   "language": "python",
   "name": "python3"
  },
  "language_info": {
   "codemirror_mode": {
    "name": "ipython",
    "version": 3
   },
   "file_extension": ".py",
   "mimetype": "text/x-python",
   "name": "python",
   "nbconvert_exporter": "python",
   "pygments_lexer": "ipython3",
   "version": "3.8.2"
  }
 },
 "nbformat": 4,
 "nbformat_minor": 5
}
