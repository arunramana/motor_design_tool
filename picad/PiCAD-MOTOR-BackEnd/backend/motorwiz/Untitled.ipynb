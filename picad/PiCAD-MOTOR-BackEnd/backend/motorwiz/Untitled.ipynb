{
 "cells": [
  {
   "cell_type": "code",
   "execution_count": 1,
   "id": "de12f112",
   "metadata": {},
   "outputs": [],
   "source": [
    "import numpy as np\n",
    "import pandas as pd\n",
    "\n",
    "from trig import *\n",
    "\n",
    "from scipy.optimize import fsolve\n",
    "import math\n",
    "\n",
    "import matplotlib.pyplot as plt"
   ]
  },
  {
   "cell_type": "code",
   "execution_count": 2,
   "id": "28024d8a",
   "metadata": {},
   "outputs": [],
   "source": [
    "#var inputs\n",
    "\n",
    "peak_torque_τ = 20\n",
    "current_limit_i_ph = 115 #(a_rms)\n",
    "voltage_limit = 48 #(v_dc)"
   ]
  },
  {
   "cell_type": "code",
   "execution_count": 3,
   "id": "b1a09e83",
   "metadata": {},
   "outputs": [
    {
     "data": {
      "text/plain": [
       "(0.17391304347826086, 10.514778923096914, 3227.944757107419)"
      ]
     },
     "execution_count": 3,
     "metadata": {},
     "output_type": "execute_result"
    }
   ],
   "source": [
    "#calculation\n",
    "\n",
    "def calculate_max_no_load_rpm(peak_torque_τ,current_limit_i_ph,voltage_limit):\n",
    "    kt = peak_torque_τ/current_limit_i_ph\n",
    "\n",
    "    ke = kt/(3**0.5)*(1000*2*np.pi/60)\n",
    "\n",
    "    max_no_load_rpm = voltage_limit/(2**0.5)/ke*1000\n",
    "    \n",
    "    return kt,ke,max_no_load_rpm\n",
    "\n",
    "kt,ke,max_no_load_rpm = calculate_max_no_load_rpm(peak_torque_τ,current_limit_i_ph,voltage_limit)\n",
    "kt,ke,max_no_load_rpm"
   ]
  },
  {
   "cell_type": "code",
   "execution_count": 4,
   "id": "94476868",
   "metadata": {},
   "outputs": [],
   "source": [
    "#var\n",
    "#mean_airgap_radius r_g\n",
    "r_ag = 41.75\n",
    "trv = 0.10"
   ]
  },
  {
   "cell_type": "code",
   "execution_count": 5,
   "id": "bedbeb4f",
   "metadata": {},
   "outputs": [
    {
     "data": {
      "text/plain": [
       "(50000.0, 36.52306055391481)"
      ]
     },
     "execution_count": 5,
     "metadata": {},
     "output_type": "execute_result"
    }
   ],
   "source": [
    "#calc\n",
    "\n",
    "\n",
    "stack_length = peak_torque_τ/trv*1000/(np.pi*r_ag**2)\n",
    "\n",
    "σ = trv/2*(10**6)\n",
    "\n",
    "σ, stack_length"
   ]
  },
  {
   "cell_type": "code",
   "execution_count": 6,
   "id": "ddd1f968",
   "metadata": {},
   "outputs": [],
   "source": [
    "#var\n",
    "b_r = 1.28 # of magnet (T)\n",
    "\n",
    "ag = 0.50 #Airgap length (mm)\n",
    "l_pm = 5 #: Length of magnet (mm)\n",
    "w_m = 20 #Width of magnet (mm)\n",
    "k_pm = 0.95 #: Leakage flux factor\n",
    "μ_ra = 1 #: Rel perm of magnet\n",
    "b_sat = 1.5 #of steel (T)\n",
    "\n",
    "no_of_poles = 10\n",
    "no_of_slots = 12\n",
    "\n",
    "assumed_slot_width_ratio = 0.75 #w' or w1\n",
    "\n",
    "\n",
    "def calculate_slot_width_ratio(r,slot_pitch,assumed_slot_width_ratio,ag,k_pm,b_r,μ_ra,σ):\n",
    "    \n",
    "    slot_opening_width = slot_pitch*assumed_slot_width_ratio\n",
    "\n",
    "    a = slot_opening_width/(2*ag)\n",
    "\n",
    "    airgap_coeff = 4/np.pi*(a*np.arctan(a)-np.log(np.sqrt(1+a**2)))\n",
    "\n",
    "    k_c = slot_pitch/(slot_pitch-airgap_coeff*ag)\n",
    "\n",
    "    b_g = k_pm*b_r/(1+μ_ra*k_c*r)\n",
    "\n",
    "    b_avg = (2/np.pi)*b_g\n",
    "\n",
    "    K = (4/np.pi)*(σ/b_avg)/1000\n",
    "\n",
    "    w = 1-b_avg/b_sat\n",
    "    \n",
    "    return [w,a,airgap_coeff,k_c,b_g,b_avg,K,slot_opening_width]\n",
    "\n",
    "\n",
    "def solve_slot_width(assumed_slot_width_ratio,r,slot_pitch,ag,k_pm,b_r,μ_ra,σ):\n",
    "    \n",
    "    w = calculate_slot_width_ratio(r,slot_pitch,assumed_slot_width_ratio,ag,k_pm,b_r,μ_ra,σ)[0]\n",
    "    \n",
    "    return w/assumed_slot_width_ratio-1\n",
    "\n",
    "def solve_number_of_turns(current_limit_i_ph,no_of_slots,i_total):\n",
    "\n",
    "    number_of_turns = (i_total*1000)/(2*no_of_slots*current_limit_i_ph)\n",
    "    \n",
    "    return np.rint(number_of_turns)-number_of_turns"
   ]
  },
  {
   "cell_type": "code",
   "execution_count": 7,
   "id": "ec10117c",
   "metadata": {},
   "outputs": [],
   "source": [
    "#calc\n",
    "\n",
    "r = ag*w_m*no_of_poles/(2*np.pi*r_ag*l_pm)\n",
    "\n",
    "slot_pitch = 2*np.pi*r_ag/no_of_slots\n",
    "\n",
    "#to make w1 = w\n",
    "\n",
    "solution = fsolve(solve_slot_width, assumed_slot_width_ratio, args=(r,slot_pitch,ag,k_pm,b_r,μ_ra,σ))\n",
    "assumed_slot_width_ratio = solution[0]\n",
    "\n",
    "\n",
    "w,a,airgap_coeff,k_c,b_g,b_avg,K,slot_opening_width = calculate_slot_width_ratio(r,slot_pitch,assumed_slot_width_ratio,ag,k_pm,b_r,μ_ra,σ)\n",
    "\n",
    "i_total = round(K*2*np.pi*r_ag/1000)\n",
    "\n",
    "\n",
    "#make no. of strands whole number by changing i_ph\n",
    "\n",
    "solution = fsolve(solve_number_of_turns,current_limit_i_ph, args=(no_of_slots,i_total))\n",
    "current_limit_i_ph = solution[0]\n",
    "\n",
    "#update values after modifying a_rms\n",
    "kt,ke,max_no_load_rpm = calculate_max_no_load_rpm(peak_torque_τ,current_limit_i_ph,voltage_limit)\n",
    "\n",
    "number_of_turns = round((i_total*1000)/(2*no_of_slots*current_limit_i_ph))\n",
    "\n",
    "tooth_thickness = round(2*np.pi*r_ag*(1-w)/no_of_slots)\n",
    "\n",
    "yoke_thickness =round(1.2*(r_ag/no_of_poles))\n",
    "\n"
   ]
  },
  {
   "cell_type": "code",
   "execution_count": 8,
   "id": "d186dee7",
   "metadata": {},
   "outputs": [
    {
     "data": {
      "text/plain": [
       "(0.07624188890629716,\n",
       " 21.86024888122898,\n",
       " 11.940778537158424,\n",
       " 11.940778537158424,\n",
       " 19.449250077254533,\n",
       " 1.801328812161208,\n",
       " 1.0691644682231736,\n",
       " 0.6806512403837429,\n",
       " 93.53097953787065,\n",
       " 0.546232506410838,\n",
       " 25,\n",
       " 9,\n",
       " 10,\n",
       " 5)"
      ]
     },
     "execution_count": 8,
     "metadata": {},
     "output_type": "execute_result"
    }
   ],
   "source": [
    "r,slot_pitch,slot_opening_width,a,airgap_coeff,k_c,b_g,b_avg,K,w, i_total,number_of_turns,tooth_thickness,yoke_thickness"
   ]
  },
  {
   "cell_type": "code",
   "execution_count": 9,
   "id": "51629bda",
   "metadata": {},
   "outputs": [],
   "source": [
    "#var\n",
    "\n",
    "fill_factor = 41 #%\n",
    "wire_dia = 0.914 #d_w\n",
    "tooth_depth_factor = 0.36\n",
    "\n",
    "def solve_number_of_strands(fill_factor,w,tooth_depth,b_avg,current_limit_i_ph,z,σ,wire_dia):\n",
    "    \n",
    "    number_of_strands = (fill_factor*w*tooth_depth*b_avg*current_limit_i_ph*z/(σ*(wire_dia**2))*1000)/100\n",
    "\n",
    "    return np.rint(number_of_strands)-number_of_strands"
   ]
  },
  {
   "cell_type": "code",
   "execution_count": 10,
   "id": "0e570c00",
   "metadata": {},
   "outputs": [],
   "source": [
    "#calc for radial\n",
    "\n",
    "#for axial z =1 ignore for now\n",
    "\n",
    "tooth_depth = tooth_depth_factor*r_ag\n",
    "\n",
    "z = (tooth_depth+2*r_ag)/(2*r_ag)\n",
    "\n",
    "\n",
    "#make number of strands whole number by changing fillfactor\n",
    "\n",
    "\n",
    "solution = fsolve(solve_number_of_strands,fill_factor,args=(w,tooth_depth,b_avg,current_limit_i_ph,z,σ,wire_dia))\n",
    "fill_factor = solution[0]\n",
    "\n",
    "number_of_strands = round((fill_factor*w*tooth_depth*b_avg*current_limit_i_ph*z/(σ*(wire_dia**2))*1000)/100)\n",
    "\n",
    "\n"
   ]
  },
  {
   "cell_type": "code",
   "execution_count": 11,
   "id": "28b2982b",
   "metadata": {},
   "outputs": [],
   "source": [
    "#var\n",
    "resistivity_of_conductor = 1.72E-08 #_(ωm)\n",
    "temp_coeff_of_resistivity_per_deg = 0.40 #_(/deg) % \n",
    "density_of_conductor = 9 #_(g/cc)\n",
    "rs_per_g_of_conductor = 0.9 #_(g/cc)\n",
    "\n",
    "grade_of_electric_steel = 250\n",
    "steel_thickness = 0.35\n",
    "density = 7.8 #_(g/cc)\n",
    "rs_per_g_of_steel = 0.2\n",
    "density_of_magnet = 7.8 #_(g/cc)\n",
    "rs_per_g_of_magnet = 3\n"
   ]
  },
  {
   "cell_type": "code",
   "execution_count": 12,
   "id": "c11ba7cb",
   "metadata": {},
   "outputs": [],
   "source": [
    "#var\n",
    "\n",
    "cu_fe_HTC = 200 #[W/(m2K)]\n",
    "fin_area_factor = 2.9\n",
    "housing_by_stacklength_ratio = 3.5\n",
    "heat_transfer_coeff = 31\n",
    "ambient_temperature = 40 #(Deg-C)\n",
    "\n",
    "#lambda in W/mK\n",
    "lambda_steel = 28 #or 45\n",
    "lambda_aluminium = 205"
   ]
  },
  {
   "cell_type": "code",
   "execution_count": 13,
   "id": "b9a146be",
   "metadata": {},
   "outputs": [],
   "source": [
    "#calc for radial geometry\n",
    "\n",
    "slot_depth = tooth_depth\n",
    "\n",
    "rotor_od = 2*r_ag-ag\n",
    "\n",
    "slot_od = rotor_od+2*ag+2*tooth_depth\n",
    "\n",
    "stator_od = slot_od+yoke_thickness*2\n",
    "\n",
    "rotor_id = rotor_od-2*yoke_thickness\n",
    "\n",
    "mean_slot_dia = (rotor_od+2*ag+slot_od)/2\n"
   ]
  },
  {
   "cell_type": "code",
   "execution_count": 14,
   "id": "c5f18e29",
   "metadata": {},
   "outputs": [],
   "source": [
    "#calc for radial\n",
    "\n",
    "z2 = mean_slot_dia/(2*r_ag)\n",
    "\n",
    "l_ph = 2*number_of_turns*no_of_slots/3*(stack_length+slot_pitch)*z2\n",
    "\n",
    "a_ph = 2*np.pi*(fill_factor/100)*w*tooth_depth*r_ag/(2*number_of_turns*no_of_slots)*z\n",
    "\n",
    "#comeback\n",
    "#r_ph = resistivity_of_conductor*(1+temp_coeff_of_resistivity_per_deg*(T24-25))*G30/G31*10^6*1.33\n",
    "\n",
    "r_ph=38\n",
    "\n"
   ]
  },
  {
   "cell_type": "code",
   "execution_count": 15,
   "id": "f65952aa",
   "metadata": {},
   "outputs": [],
   "source": [
    "#cost calculation radial\n",
    "\n",
    "stator_steel_mass = (np.pi*(stator_od**2-slot_od**2)/4+tooth_thickness*slot_depth*no_of_slots)*stack_length/1000*density\n",
    "\n",
    "stator_steel_cost = stator_steel_mass*rs_per_g_of_steel\n",
    "\n",
    "\n",
    "magnet_mass = w_m*l_pm*no_of_poles*stack_length/1000*density_of_magnet\n",
    "\n",
    "magnet_cost = magnet_mass*rs_per_g_of_magnet\n",
    "\n",
    "\n",
    "rotor_steel_mass = (np.pi*(rotor_od**2-rotor_id**2)/4*stack_length-magnet_mass/density_of_magnet)*density/1000\n",
    "\n",
    "rotor_steel_cost = rotor_steel_mass*rs_per_g_of_steel\n",
    "\n",
    "\n",
    "conductor_mass = 3*l_ph*a_ph/1000*density_of_conductor\n",
    "\n",
    "conductor_cost = conductor_mass*rs_per_g_of_conductor\n",
    "\n",
    "\n",
    "total_mass = stator_steel_mass+rotor_steel_mass+magnet_mass+conductor_mass\n",
    "total_cost = stator_steel_cost+rotor_steel_cost+magnet_cost+conductor_cost\n"
   ]
  },
  {
   "cell_type": "code",
   "execution_count": 17,
   "id": "bf7c3fed",
   "metadata": {},
   "outputs": [],
   "source": [
    "assumed_winding_temp=158\n",
    "r_ph = resistivity_of_conductor*(1+temp_coeff_of_resistivity_per_deg/100*(assumed_winding_temp-25))*l_ph/a_ph*(10**6)*1.33\n",
    "\n"
   ]
  },
  {
   "cell_type": "code",
   "execution_count": 21,
   "id": "22cdb522",
   "metadata": {},
   "outputs": [
    {
     "name": "stdout",
     "output_type": "stream",
     "text": [
      "here!!!!!!!!!!\n",
      "stack length: 36.52306055391481\n",
      "stator od: 124.06\n",
      "fin area factor: 2.9\n",
      "housing by stack_length: 3.5\n",
      "convection_area: 0.16865831281795843\n",
      "\n"
     ]
    }
   ],
   "source": [
    "#calc radial thermal resistance (tr)\n",
    "\n",
    "#celsius/W\n",
    "\n",
    "slot_perimeter = slot_pitch-tooth_thickness+2*slot_depth\n",
    "\n",
    "conduction_area = slot_perimeter*stack_length*no_of_slots*(10**-6)\n",
    "\n",
    "R_conduction = 1/cu_fe_HTC/conduction_area\n",
    "\n",
    "convection_area = np.pi*stator_od*(stack_length*fin_area_factor*housing_by_stacklength_ratio+stator_od/2)*(10**-6)\n",
    "\n",
    "R_convection = 1/(convection_area*heat_transfer_coeff)\n",
    "\n",
    "print(\"here!!!!!!!!!!\\nstack length: {}\\nstator od: {}\\nfin area factor: {}\\nhousing by stack_length: {}\\nconvection_area: {}\\n\".format(stack_length,stator_od,fin_area_factor,housing_by_stacklength_ratio,convection_area))\n"
   ]
  },
  {
   "cell_type": "code",
   "execution_count": 26,
   "id": "040c154d",
   "metadata": {},
   "outputs": [],
   "source": [
    "#performance_analysis\n",
    "\n",
    "#inputs\n",
    "\n",
    "motor_speed_rpm = 2000\n",
    "motor_torque = 8\n",
    "\n",
    "#calc\n",
    "electrical_frequency = motor_speed_rpm/60*no_of_poles/2\n",
    "\n",
    "a_rms = motor_torque/kt\n",
    "\n",
    "assumed_winding_temp = 158"
   ]
  },
  {
   "cell_type": "code",
   "execution_count": 27,
   "id": "d9fa0048",
   "metadata": {},
   "outputs": [],
   "source": [
    "\n",
    "def performance_analysis(r_ph,a_rms,electrical_frequency,no_of_slots,motor_speed_rpm,motor_torque,convection_area,R_convection,R_conduction,ambient_temperature):\n",
    "    #peformance_analysis\n",
    "    #Losses \n",
    "\n",
    "    copper_loss = 3*a_rms**2*r_ph/1000\n",
    "\n",
    "    steel_loss = 26 #given for m350-50a\n",
    "\n",
    "    total_loss = copper_loss+steel_loss\n",
    "\n",
    "    #power kW\n",
    "\n",
    "    output_power = motor_speed_rpm*motor_torque*2*np.pi/60/1000\n",
    "\n",
    "    input_power = output_power+total_loss/1000\n",
    "\n",
    "    efficiency = output_power/input_power\n",
    "\n",
    "\n",
    "    #thermal steady state\n",
    "\n",
    "    heat_flux = total_loss/convection_area*10**-4\n",
    "\n",
    "    body_temperature = total_loss*R_convection+ambient_temperature\n",
    "\n",
    "    winding_temperature = copper_loss*R_conduction+body_temperature\n",
    "\n",
    "    \n",
    "    cogging_frequency = electrical_frequency*no_of_slots\n",
    "    \n",
    "    return [winding_temperature,copper_loss,steel_loss,total_loss,output_power,input_power,efficiency,heat_flux,body_temperature,cogging_frequency]\n"
   ]
  },
  {
   "cell_type": "code",
   "execution_count": 28,
   "id": "8fec8e9b",
   "metadata": {},
   "outputs": [
    {
     "name": "stdout",
     "output_type": "stream",
     "text": [
      "158\n",
      "158.0 37.932133236622995\n"
     ]
    }
   ],
   "source": [
    "def solve_winding_temperature(r_ph,assumed_winding_temp,a_rms,electrical_frequency,no_of_slots,motor_speed_rpm,motor_torque,convection_area,R_convection,R_conduction,ambient_temperature):\n",
    "    \n",
    "    winding_temperature = performance_analysis(r_ph,a_rms,electrical_frequency,no_of_slots,motor_speed_rpm,motor_torque,convection_area,R_convection,R_conduction,ambient_temperature)[0]\n",
    "    \n",
    "    return winding_temperature-assumed_winding_temp\n",
    "\n",
    "\n",
    "print(assumed_winding_temp)\n",
    "\n",
    "solution = fsolve(solve_winding_temperature,assumed_winding_temp,args=(assumed_winding_temp,a_rms,electrical_frequency,no_of_slots,motor_speed_rpm,motor_torque,convection_area,R_convection,R_conduction,ambient_temperature))\n",
    "r_ph = solution[0]\n",
    "\n",
    "\n",
    "winding_temperature,copper_loss,steel_loss,total_loss,output_power,input_power,efficiency,heat_flux,body_temperature,cogging_frequency = performance_analysis(r_ph,a_rms,electrical_frequency,no_of_slots,motor_speed_rpm,motor_torque,convection_area,R_convection,R_conduction,ambient_temperature)\n",
    "\n",
    "print(winding_temperature,r_ph)\n"
   ]
  },
  {
   "cell_type": "code",
   "execution_count": 1,
   "id": "ebe7bdd6",
   "metadata": {},
   "outputs": [],
   "source": [
    "a =\"peak_torque, current_limit_i_ph, voltage_limit, r_ag, trv, ag, no_of_poles, no_of_slots, fill_factor, wire_diameter, tooth_depth_factor, fin_area_factor, housing_by_stacklength_ratio, heat_transfer_coeff, ambient_temperature ,assumed_slot_width_ratio=0.75, assumed_winding_temp = 158\""
   ]
  },
  {
   "cell_type": "code",
   "execution_count": 2,
   "id": "3f6db499",
   "metadata": {},
   "outputs": [
    {
     "name": "stdout",
     "output_type": "stream",
     "text": [
      "self.peak_torque = peak_torque\n",
      "self.current_limit_i_ph = current_limit_i_ph\n",
      "self.voltage_limit = voltage_limit\n",
      "self.r_ag = r_ag\n",
      "self.trv = trv\n",
      "self.ag = ag\n",
      "self.no_of_poles = no_of_poles\n",
      "self.no_of_slots = no_of_slots\n",
      "self.fill_factor = fill_factor\n",
      "self.wire_diameter = wire_diameter\n",
      "self.tooth_depth_factor = tooth_depth_factor\n",
      "self.fin_area_factor = fin_area_factor\n",
      "self.housing_by_stacklength_ratio = housing_by_stacklength_ratio\n",
      "self.heat_transfer_coeff = heat_transfer_coeff\n",
      "self.ambient_temperature = ambient_temperature\n",
      "self.assumed_slot_width_ratio=0.75 = assumed_slot_width_ratio=0.75\n",
      "self.assumed_winding_temp = 158 = assumed_winding_temp = 158\n"
     ]
    }
   ],
   "source": [
    "for x in a.split(\",\"):\n",
    "    \n",
    "    s = x.strip()\n",
    "    print(\"self.{}\".format(s),\"=\",s)"
   ]
  },
  {
   "cell_type": "code",
   "execution_count": 8,
   "id": "313844be",
   "metadata": {},
   "outputs": [
    {
     "data": {
      "text/plain": [
       "'a'"
      ]
     },
     "execution_count": 8,
     "metadata": {},
     "output_type": "execute_result"
    }
   ],
   "source": [
    "a=(\"a\",\"b\")\n",
    "\n",
    "type(a)==tuple\n",
    "a[0]"
   ]
  },
  {
   "cell_type": "code",
   "execution_count": 2,
   "id": "c23470a0",
   "metadata": {},
   "outputs": [
    {
     "name": "stdout",
     "output_type": "stream",
     "text": [
      "print('Kt (Nm/A_rms)',)\n",
      "print('Ke (V/Krpm)',)\n",
      "print('Max no-load rpm',)\n",
      "print('Stack length (L)',)\n",
      "print('σ (N/m2)',)\n",
      "print('r = g*W_m*P/[2π*r_g*L_pm]',)\n",
      "print('Slot pitch p =  2π*r_g/S',)\n",
      "print('Slot opg width W_s = p*w'',)\n",
      "print('a = W_s/(2g)',)\n",
      "print('Airgap coeff γ',)\n",
      "print('Carter Coeff K_c = p/(p-γg)',)\n",
      "print('Peak Airgap flux B_g ',)\n",
      "print('B_avg =(2/π)*B_g',)\n",
      "print('K (kA/m) = (4/π)*(σ/B_avg)',)\n",
      "print('Actual slot-width ratio w',)\n",
      "print('I_tot (KA) = K*(2πr_g)',)\n",
      "print('Turns N = I_tot/(2S*I_ph)',)\n",
      "print('Tooth thickness t ',)\n",
      "print('Yoke thickness y',)\n"
     ]
    }
   ],
   "source": [
    "for x in '''Kt (Nm/A_rms)\n",
    "Ke (V/Krpm)\n",
    "Max no-load rpm\n",
    "Stack length (L)\n",
    "σ (N/m2)\n",
    "r = g*W_m*P/[2π*r_g*L_pm]\n",
    "Slot pitch p =  2π*r_g/S\n",
    "Slot opg width W_s = p*w'\n",
    "a = W_s/(2g)\n",
    "Airgap coeff γ\n",
    "Carter Coeff K_c = p/(p-γg)\n",
    "Peak Airgap flux B_g \n",
    "B_avg =(2/π)*B_g\n",
    "K (kA/m) = (4/π)*(σ/B_avg)\n",
    "Actual slot-width ratio w\n",
    "I_tot (KA) = K*(2πr_g)\n",
    "Turns N = I_tot/(2S*I_ph)\n",
    "Tooth thickness t \n",
    "Yoke thickness y'''.split(\"\\n\"):\n",
    "    \n",
    "    print(\"print('{}',)\".format(x))"
   ]
  },
  {
   "cell_type": "code",
   "execution_count": null,
   "id": "3da80fe3",
   "metadata": {},
   "outputs": [],
   "source": []
  }
 ],
 "metadata": {
  "kernelspec": {
   "display_name": "Python 3 (ipykernel)",
   "language": "python",
   "name": "python3"
  },
  "language_info": {
   "codemirror_mode": {
    "name": "ipython",
    "version": 3
   },
   "file_extension": ".py",
   "mimetype": "text/x-python",
   "name": "python",
   "nbconvert_exporter": "python",
   "pygments_lexer": "ipython3",
   "version": "3.11.7"
  }
 },
 "nbformat": 4,
 "nbformat_minor": 5
}
